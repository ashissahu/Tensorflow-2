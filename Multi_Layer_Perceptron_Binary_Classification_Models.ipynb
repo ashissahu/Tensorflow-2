{
  "nbformat": 4,
  "nbformat_minor": 0,
  "metadata": {
    "colab": {
      "name": "Multi-Layer Perceptron-Binary Classification Models.ipynb",
      "provenance": [],
      "collapsed_sections": []
    },
    "kernelspec": {
      "name": "python3",
      "display_name": "Python 3"
    },
    "language_info": {
      "name": "python"
    }
  },
  "cells": [
    {
      "cell_type": "markdown",
      "metadata": {
        "id": "dZChVNwSqiMr"
      },
      "source": [
        "# Deep Learning Model Life Cycle\n",
        "\n",
        "Define Network >> Compile Network >> Fit Network >> Evaluate Network >> Make Prediction"
      ]
    },
    {
      "cell_type": "code",
      "metadata": {
        "id": "ObAoW70UrDZx"
      },
      "source": [
        "from tensorflow.keras import Sequential\n",
        "from tensorflow.keras.layers import Dense\n",
        "# define the model\n",
        "model = Sequential()\n",
        "model.add(Dense(30, input_shape=(15,)))\n",
        "model.add(Dense(1))\n",
        "\n",
        "# compile the model\n",
        "model.compile(optimizer='sgd', loss='binary_crossentropy', metrics=['accuracy'])\n",
        "\n",
        "#Here, the optimizer can be used as a string 'sgd' as mentioned above, or it can also be configured as an instance of an optimizer class, as shown in the following sample code.\n",
        "\n",
        "# compile the model\n",
        "opt = SGD(learning_rate=0.05, momentum=0.8)\n",
        "model1.compile(optimizer=opt, loss='binary_crossentropy')\n",
        "\n",
        "#Here, the three most common loss functions are:\n",
        "\n",
        "#binary_crossentropy for binary classification\n",
        "#sparse_categorical_crossentropy for multi-class classification\n",
        "#Mean Squared Error (MSE) for regression\n",
        "\n",
        "# fit the model\n",
        "model.fit(X, y, epochs=50, batch_size=16, verbose=0)\n",
        "#Here, a simple report on the model performance at each epoch will be shown by setting the verbose to 2. \n",
        "#All the outputs can be turned off during training by setting the verbose to 0.\n",
        "\n",
        "# evaluate the model\n",
        "loss = model.evaluate(X, y, verbose=0)\n",
        "\n",
        "# make a prediction\n",
        "ypred = model.predict(X)"
      ],
      "execution_count": null,
      "outputs": []
    },
    {
      "cell_type": "markdown",
      "metadata": {
        "id": "_FxmhsbDr2v3"
      },
      "source": [
        "# Developing Multi-Layer Perceptron Models-Binary Classification"
      ]
    },
    {
      "cell_type": "code",
      "metadata": {
        "id": "MQURy6wbrkmW"
      },
      "source": [
        "import pandas as pd\n",
        "from sklearn.model_selection import train_test_split\n",
        "from sklearn.preprocessing import LabelEncoder\n",
        "from tensorflow.keras import Sequential\n",
        "from tensorflow.keras.layers import Dense\n",
        "\n",
        "#load the dataset.\n",
        "\n",
        "path ='https://raw.githubusercontent.com/jbrownlee/Datasets/master/ionosphere.csv'\n",
        "df = pd.read_csv(path, header=None)"
      ],
      "execution_count": null,
      "outputs": []
    },
    {
      "cell_type": "code",
      "metadata": {
        "id": "vxZMpD-ssPg9",
        "colab": {
          "base_uri": "https://localhost:8080/",
          "height": 224
        },
        "outputId": "c982e99f-37d0-4c5b-dc83-ff8303a2b6bb"
      },
      "source": [
        "df.head()"
      ],
      "execution_count": null,
      "outputs": [
        {
          "output_type": "execute_result",
          "data": {
            "text/html": [
              "<div>\n",
              "<style scoped>\n",
              "    .dataframe tbody tr th:only-of-type {\n",
              "        vertical-align: middle;\n",
              "    }\n",
              "\n",
              "    .dataframe tbody tr th {\n",
              "        vertical-align: top;\n",
              "    }\n",
              "\n",
              "    .dataframe thead th {\n",
              "        text-align: right;\n",
              "    }\n",
              "</style>\n",
              "<table border=\"1\" class=\"dataframe\">\n",
              "  <thead>\n",
              "    <tr style=\"text-align: right;\">\n",
              "      <th></th>\n",
              "      <th>0</th>\n",
              "      <th>1</th>\n",
              "      <th>2</th>\n",
              "      <th>3</th>\n",
              "      <th>4</th>\n",
              "      <th>5</th>\n",
              "      <th>6</th>\n",
              "      <th>7</th>\n",
              "      <th>8</th>\n",
              "      <th>9</th>\n",
              "      <th>10</th>\n",
              "      <th>11</th>\n",
              "      <th>12</th>\n",
              "      <th>13</th>\n",
              "      <th>14</th>\n",
              "      <th>15</th>\n",
              "      <th>16</th>\n",
              "      <th>17</th>\n",
              "      <th>18</th>\n",
              "      <th>19</th>\n",
              "      <th>20</th>\n",
              "      <th>21</th>\n",
              "      <th>22</th>\n",
              "      <th>23</th>\n",
              "      <th>24</th>\n",
              "      <th>25</th>\n",
              "      <th>26</th>\n",
              "      <th>27</th>\n",
              "      <th>28</th>\n",
              "      <th>29</th>\n",
              "      <th>30</th>\n",
              "      <th>31</th>\n",
              "      <th>32</th>\n",
              "      <th>33</th>\n",
              "      <th>34</th>\n",
              "    </tr>\n",
              "  </thead>\n",
              "  <tbody>\n",
              "    <tr>\n",
              "      <th>0</th>\n",
              "      <td>1</td>\n",
              "      <td>0</td>\n",
              "      <td>0.99539</td>\n",
              "      <td>-0.05889</td>\n",
              "      <td>0.85243</td>\n",
              "      <td>0.02306</td>\n",
              "      <td>0.83398</td>\n",
              "      <td>-0.37708</td>\n",
              "      <td>1.00000</td>\n",
              "      <td>0.03760</td>\n",
              "      <td>0.85243</td>\n",
              "      <td>-0.17755</td>\n",
              "      <td>0.59755</td>\n",
              "      <td>-0.44945</td>\n",
              "      <td>0.60536</td>\n",
              "      <td>-0.38223</td>\n",
              "      <td>0.84356</td>\n",
              "      <td>-0.38542</td>\n",
              "      <td>0.58212</td>\n",
              "      <td>-0.32192</td>\n",
              "      <td>0.56971</td>\n",
              "      <td>-0.29674</td>\n",
              "      <td>0.36946</td>\n",
              "      <td>-0.47357</td>\n",
              "      <td>0.56811</td>\n",
              "      <td>-0.51171</td>\n",
              "      <td>0.41078</td>\n",
              "      <td>-0.46168</td>\n",
              "      <td>0.21266</td>\n",
              "      <td>-0.34090</td>\n",
              "      <td>0.42267</td>\n",
              "      <td>-0.54487</td>\n",
              "      <td>0.18641</td>\n",
              "      <td>-0.45300</td>\n",
              "      <td>g</td>\n",
              "    </tr>\n",
              "    <tr>\n",
              "      <th>1</th>\n",
              "      <td>1</td>\n",
              "      <td>0</td>\n",
              "      <td>1.00000</td>\n",
              "      <td>-0.18829</td>\n",
              "      <td>0.93035</td>\n",
              "      <td>-0.36156</td>\n",
              "      <td>-0.10868</td>\n",
              "      <td>-0.93597</td>\n",
              "      <td>1.00000</td>\n",
              "      <td>-0.04549</td>\n",
              "      <td>0.50874</td>\n",
              "      <td>-0.67743</td>\n",
              "      <td>0.34432</td>\n",
              "      <td>-0.69707</td>\n",
              "      <td>-0.51685</td>\n",
              "      <td>-0.97515</td>\n",
              "      <td>0.05499</td>\n",
              "      <td>-0.62237</td>\n",
              "      <td>0.33109</td>\n",
              "      <td>-1.00000</td>\n",
              "      <td>-0.13151</td>\n",
              "      <td>-0.45300</td>\n",
              "      <td>-0.18056</td>\n",
              "      <td>-0.35734</td>\n",
              "      <td>-0.20332</td>\n",
              "      <td>-0.26569</td>\n",
              "      <td>-0.20468</td>\n",
              "      <td>-0.18401</td>\n",
              "      <td>-0.19040</td>\n",
              "      <td>-0.11593</td>\n",
              "      <td>-0.16626</td>\n",
              "      <td>-0.06288</td>\n",
              "      <td>-0.13738</td>\n",
              "      <td>-0.02447</td>\n",
              "      <td>b</td>\n",
              "    </tr>\n",
              "    <tr>\n",
              "      <th>2</th>\n",
              "      <td>1</td>\n",
              "      <td>0</td>\n",
              "      <td>1.00000</td>\n",
              "      <td>-0.03365</td>\n",
              "      <td>1.00000</td>\n",
              "      <td>0.00485</td>\n",
              "      <td>1.00000</td>\n",
              "      <td>-0.12062</td>\n",
              "      <td>0.88965</td>\n",
              "      <td>0.01198</td>\n",
              "      <td>0.73082</td>\n",
              "      <td>0.05346</td>\n",
              "      <td>0.85443</td>\n",
              "      <td>0.00827</td>\n",
              "      <td>0.54591</td>\n",
              "      <td>0.00299</td>\n",
              "      <td>0.83775</td>\n",
              "      <td>-0.13644</td>\n",
              "      <td>0.75535</td>\n",
              "      <td>-0.08540</td>\n",
              "      <td>0.70887</td>\n",
              "      <td>-0.27502</td>\n",
              "      <td>0.43385</td>\n",
              "      <td>-0.12062</td>\n",
              "      <td>0.57528</td>\n",
              "      <td>-0.40220</td>\n",
              "      <td>0.58984</td>\n",
              "      <td>-0.22145</td>\n",
              "      <td>0.43100</td>\n",
              "      <td>-0.17365</td>\n",
              "      <td>0.60436</td>\n",
              "      <td>-0.24180</td>\n",
              "      <td>0.56045</td>\n",
              "      <td>-0.38238</td>\n",
              "      <td>g</td>\n",
              "    </tr>\n",
              "    <tr>\n",
              "      <th>3</th>\n",
              "      <td>1</td>\n",
              "      <td>0</td>\n",
              "      <td>1.00000</td>\n",
              "      <td>-0.45161</td>\n",
              "      <td>1.00000</td>\n",
              "      <td>1.00000</td>\n",
              "      <td>0.71216</td>\n",
              "      <td>-1.00000</td>\n",
              "      <td>0.00000</td>\n",
              "      <td>0.00000</td>\n",
              "      <td>0.00000</td>\n",
              "      <td>0.00000</td>\n",
              "      <td>0.00000</td>\n",
              "      <td>0.00000</td>\n",
              "      <td>-1.00000</td>\n",
              "      <td>0.14516</td>\n",
              "      <td>0.54094</td>\n",
              "      <td>-0.39330</td>\n",
              "      <td>-1.00000</td>\n",
              "      <td>-0.54467</td>\n",
              "      <td>-0.69975</td>\n",
              "      <td>1.00000</td>\n",
              "      <td>0.00000</td>\n",
              "      <td>0.00000</td>\n",
              "      <td>1.00000</td>\n",
              "      <td>0.90695</td>\n",
              "      <td>0.51613</td>\n",
              "      <td>1.00000</td>\n",
              "      <td>1.00000</td>\n",
              "      <td>-0.20099</td>\n",
              "      <td>0.25682</td>\n",
              "      <td>1.00000</td>\n",
              "      <td>-0.32382</td>\n",
              "      <td>1.00000</td>\n",
              "      <td>b</td>\n",
              "    </tr>\n",
              "    <tr>\n",
              "      <th>4</th>\n",
              "      <td>1</td>\n",
              "      <td>0</td>\n",
              "      <td>1.00000</td>\n",
              "      <td>-0.02401</td>\n",
              "      <td>0.94140</td>\n",
              "      <td>0.06531</td>\n",
              "      <td>0.92106</td>\n",
              "      <td>-0.23255</td>\n",
              "      <td>0.77152</td>\n",
              "      <td>-0.16399</td>\n",
              "      <td>0.52798</td>\n",
              "      <td>-0.20275</td>\n",
              "      <td>0.56409</td>\n",
              "      <td>-0.00712</td>\n",
              "      <td>0.34395</td>\n",
              "      <td>-0.27457</td>\n",
              "      <td>0.52940</td>\n",
              "      <td>-0.21780</td>\n",
              "      <td>0.45107</td>\n",
              "      <td>-0.17813</td>\n",
              "      <td>0.05982</td>\n",
              "      <td>-0.35575</td>\n",
              "      <td>0.02309</td>\n",
              "      <td>-0.52879</td>\n",
              "      <td>0.03286</td>\n",
              "      <td>-0.65158</td>\n",
              "      <td>0.13290</td>\n",
              "      <td>-0.53206</td>\n",
              "      <td>0.02431</td>\n",
              "      <td>-0.62197</td>\n",
              "      <td>-0.05707</td>\n",
              "      <td>-0.59573</td>\n",
              "      <td>-0.04608</td>\n",
              "      <td>-0.65697</td>\n",
              "      <td>g</td>\n",
              "    </tr>\n",
              "  </tbody>\n",
              "</table>\n",
              "</div>"
            ],
            "text/plain": [
              "   0   1        2        3        4   ...       30       31       32       33  34\n",
              "0   1   0  0.99539 -0.05889  0.85243  ...  0.42267 -0.54487  0.18641 -0.45300   g\n",
              "1   1   0  1.00000 -0.18829  0.93035  ... -0.16626 -0.06288 -0.13738 -0.02447   b\n",
              "2   1   0  1.00000 -0.03365  1.00000  ...  0.60436 -0.24180  0.56045 -0.38238   g\n",
              "3   1   0  1.00000 -0.45161  1.00000  ...  0.25682  1.00000 -0.32382  1.00000   b\n",
              "4   1   0  1.00000 -0.02401  0.94140  ... -0.05707 -0.59573 -0.04608 -0.65697   g\n",
              "\n",
              "[5 rows x 35 columns]"
            ]
          },
          "metadata": {},
          "execution_count": 46
        }
      ]
    },
    {
      "cell_type": "code",
      "metadata": {
        "id": "QEHYdMYLsXKo"
      },
      "source": [
        "X=df.drop(34,axis=1)\n",
        "y=df[34]"
      ],
      "execution_count": null,
      "outputs": []
    },
    {
      "cell_type": "code",
      "metadata": {
        "id": "CjGmsgMws_Tg",
        "colab": {
          "base_uri": "https://localhost:8080/"
        },
        "outputId": "5de7407f-6b95-40c1-8058-1a6000f759ac"
      },
      "source": [
        "X.dtypes"
      ],
      "execution_count": null,
      "outputs": [
        {
          "output_type": "execute_result",
          "data": {
            "text/plain": [
              "0       int64\n",
              "1       int64\n",
              "2     float64\n",
              "3     float64\n",
              "4     float64\n",
              "5     float64\n",
              "6     float64\n",
              "7     float64\n",
              "8     float64\n",
              "9     float64\n",
              "10    float64\n",
              "11    float64\n",
              "12    float64\n",
              "13    float64\n",
              "14    float64\n",
              "15    float64\n",
              "16    float64\n",
              "17    float64\n",
              "18    float64\n",
              "19    float64\n",
              "20    float64\n",
              "21    float64\n",
              "22    float64\n",
              "23    float64\n",
              "24    float64\n",
              "25    float64\n",
              "26    float64\n",
              "27    float64\n",
              "28    float64\n",
              "29    float64\n",
              "30    float64\n",
              "31    float64\n",
              "32    float64\n",
              "33    float64\n",
              "dtype: object"
            ]
          },
          "metadata": {},
          "execution_count": 57
        }
      ]
    },
    {
      "cell_type": "code",
      "metadata": {
        "id": "ixrg67JftRMh",
        "colab": {
          "base_uri": "https://localhost:8080/"
        },
        "outputId": "d1da18ed-2c5a-4391-d930-ef81f9e72b50"
      },
      "source": [
        "y.dtypes"
      ],
      "execution_count": null,
      "outputs": [
        {
          "output_type": "execute_result",
          "data": {
            "text/plain": [
              "dtype('O')"
            ]
          },
          "metadata": {},
          "execution_count": 58
        }
      ]
    },
    {
      "cell_type": "code",
      "metadata": {
        "id": "RmZsaQKxssy_",
        "colab": {
          "base_uri": "https://localhost:8080/"
        },
        "outputId": "e2f50c70-beb4-458d-f481-112b5b9febfb"
      },
      "source": [
        "X.columns"
      ],
      "execution_count": null,
      "outputs": [
        {
          "output_type": "execute_result",
          "data": {
            "text/plain": [
              "Int64Index([ 0,  1,  2,  3,  4,  5,  6,  7,  8,  9, 10, 11, 12, 13, 14, 15, 16,\n",
              "            17, 18, 19, 20, 21, 22, 23, 24, 25, 26, 27, 28, 29, 30, 31, 32,\n",
              "            33],\n",
              "           dtype='int64')"
            ]
          },
          "metadata": {},
          "execution_count": 48
        }
      ]
    },
    {
      "cell_type": "code",
      "metadata": {
        "id": "J6Q1BqaesvfN",
        "colab": {
          "base_uri": "https://localhost:8080/"
        },
        "outputId": "1d2bbf03-4ec5-46e3-b55d-3f795159f84a"
      },
      "source": [
        "y.head()"
      ],
      "execution_count": null,
      "outputs": [
        {
          "output_type": "execute_result",
          "data": {
            "text/plain": [
              "0    g\n",
              "1    b\n",
              "2    g\n",
              "3    b\n",
              "4    g\n",
              "Name: 34, dtype: object"
            ]
          },
          "metadata": {},
          "execution_count": 51
        }
      ]
    },
    {
      "cell_type": "code",
      "metadata": {
        "id": "Z6KTwLIesyXp"
      },
      "source": [
        "#Now, let us ensure whether all the data are of floating values and convert the prediction variable from strings to integer values 0 and 1.\n",
        "\n",
        "X = X.astype('float32')\n",
        "y = LabelEncoder().fit_transform(y)\n",
        "#Now, let us split up the dataset as train and test datasets.\n",
        "\n",
        "X_train, X_test, y_train, y_test = train_test_split(X, y, test_size=0.20)\n",
        "#Here, the dataset is split into the train and test datasets, where 80% of the data will be in the training dataset, and the remaining 20% will be the \n",
        "#test dataset."
      ],
      "execution_count": null,
      "outputs": []
    },
    {
      "cell_type": "code",
      "metadata": {
        "id": "Sr6GIG58tbtJ",
        "colab": {
          "base_uri": "https://localhost:8080/"
        },
        "outputId": "9e7236f2-63e7-47b6-e307-f1f821fb8000"
      },
      "source": [
        "X_train.shape  #280 rows and 34 features"
      ],
      "execution_count": null,
      "outputs": [
        {
          "output_type": "execute_result",
          "data": {
            "text/plain": [
              "(280, 34)"
            ]
          },
          "metadata": {},
          "execution_count": 61
        }
      ]
    },
    {
      "cell_type": "code",
      "metadata": {
        "id": "oeobMv5ntuCI",
        "colab": {
          "base_uri": "https://localhost:8080/"
        },
        "outputId": "065d5350-4eb5-4642-b48b-3aad64e6c3e4"
      },
      "source": [
        "##determine the number of input features and save it in a variable.\n",
        "\n",
        "n_features = X_train.shape[1]\n",
        "n_features\n",
        "#Here, there are 34 input feature variables present in the dataset."
      ],
      "execution_count": null,
      "outputs": [
        {
          "output_type": "execute_result",
          "data": {
            "text/plain": [
              "34"
            ]
          },
          "metadata": {},
          "execution_count": 63
        }
      ]
    },
    {
      "cell_type": "code",
      "metadata": {
        "id": "Xl81Qexzt8Wt"
      },
      "source": [
        "#define the model.\n",
        "\n",
        "model = Sequential()\n",
        "model.add(Dense(34, activation='relu', input_shape=(n_features,)))\n",
        "model.add(Dense(18, activation='relu'))\n",
        "model.add(Dense(1, activation='sigmoid'))\n",
        "\n",
        "#Here, the model has been defined, and the appropriate input and output layers are given. \n",
        "#The input layer will consist of input features from the parameter input_shape. \n",
        "#The first hidden layer has 34 nodes and the second hidden layer has 18 nodes and one node for predicting the values.\n"
      ],
      "execution_count": null,
      "outputs": []
    },
    {
      "cell_type": "code",
      "metadata": {
        "id": "peC2fZZguSve"
      },
      "source": [
        "#Compiling the Model\n",
        "#After defining the model, we need to compile the model .\n",
        "\n",
        "model.compile(optimizer='adam', loss='binary_crossentropy', metrics=['accuracy'])\n",
        "\n",
        "#Here, the adam optimizer is used as the optimization algorithm.\n",
        "#As it is a binary classification, the binary_crossentropy is used as the loss function.\n",
        "#The metrics which will be considered during the model training will be accuracy.\n"
      ],
      "execution_count": null,
      "outputs": []
    },
    {
      "cell_type": "code",
      "metadata": {
        "id": "H_uLD_81uixI",
        "colab": {
          "base_uri": "https://localhost:8080/"
        },
        "outputId": "d5f969d1-5974-4559-bcc0-f38f5123973b"
      },
      "source": [
        "#Fitting the Model\n",
        "#Now, let us fit the compiled model from the previous step.\n",
        "\n",
        "model.fit(X_train, y_train, epochs=150, batch_size=32, verbose=2)\n",
        "\n",
        "#Here, the training is done on the train datasets X_train and y_train, respectively.\n",
        "#The epochs, that is, the number of loops through the training dataset is given as 150.\n",
        "#The batch_size, that is, the number of samples used to estimate the model error, is given as 32.\n"
      ],
      "execution_count": null,
      "outputs": [
        {
          "output_type": "stream",
          "name": "stdout",
          "text": [
            "Epoch 1/150\n",
            "9/9 - 0s - loss: 0.0172 - accuracy: 0.9964\n",
            "Epoch 2/150\n",
            "9/9 - 0s - loss: 0.0196 - accuracy: 0.9964\n",
            "Epoch 3/150\n",
            "9/9 - 0s - loss: 0.0166 - accuracy: 0.9964\n",
            "Epoch 4/150\n",
            "9/9 - 0s - loss: 0.0171 - accuracy: 0.9964\n",
            "Epoch 5/150\n",
            "9/9 - 0s - loss: 0.0167 - accuracy: 0.9964\n",
            "Epoch 6/150\n",
            "9/9 - 0s - loss: 0.0168 - accuracy: 0.9964\n",
            "Epoch 7/150\n",
            "9/9 - 0s - loss: 0.0160 - accuracy: 0.9964\n",
            "Epoch 8/150\n",
            "9/9 - 0s - loss: 0.0165 - accuracy: 0.9964\n",
            "Epoch 9/150\n",
            "9/9 - 0s - loss: 0.0162 - accuracy: 0.9964\n",
            "Epoch 10/150\n",
            "9/9 - 0s - loss: 0.0158 - accuracy: 0.9964\n",
            "Epoch 11/150\n",
            "9/9 - 0s - loss: 0.0162 - accuracy: 0.9964\n",
            "Epoch 12/150\n",
            "9/9 - 0s - loss: 0.0157 - accuracy: 0.9964\n",
            "Epoch 13/150\n",
            "9/9 - 0s - loss: 0.0153 - accuracy: 0.9964\n",
            "Epoch 14/150\n",
            "9/9 - 0s - loss: 0.0151 - accuracy: 0.9964\n",
            "Epoch 15/150\n",
            "9/9 - 0s - loss: 0.0152 - accuracy: 0.9964\n",
            "Epoch 16/150\n",
            "9/9 - 0s - loss: 0.0146 - accuracy: 0.9964\n",
            "Epoch 17/150\n",
            "9/9 - 0s - loss: 0.0145 - accuracy: 0.9964\n",
            "Epoch 18/150\n",
            "9/9 - 0s - loss: 0.0148 - accuracy: 0.9964\n",
            "Epoch 19/150\n",
            "9/9 - 0s - loss: 0.0135 - accuracy: 0.9964\n",
            "Epoch 20/150\n",
            "9/9 - 0s - loss: 0.0137 - accuracy: 0.9964\n",
            "Epoch 21/150\n",
            "9/9 - 0s - loss: 0.0133 - accuracy: 0.9964\n",
            "Epoch 22/150\n",
            "9/9 - 0s - loss: 0.0129 - accuracy: 0.9964\n",
            "Epoch 23/150\n",
            "9/9 - 0s - loss: 0.0122 - accuracy: 0.9964\n",
            "Epoch 24/150\n",
            "9/9 - 0s - loss: 0.0124 - accuracy: 0.9964\n",
            "Epoch 25/150\n",
            "9/9 - 0s - loss: 0.0123 - accuracy: 0.9964\n",
            "Epoch 26/150\n",
            "9/9 - 0s - loss: 0.0119 - accuracy: 0.9964\n",
            "Epoch 27/150\n",
            "9/9 - 0s - loss: 0.0124 - accuracy: 0.9964\n",
            "Epoch 28/150\n",
            "9/9 - 0s - loss: 0.0115 - accuracy: 0.9964\n",
            "Epoch 29/150\n",
            "9/9 - 0s - loss: 0.0107 - accuracy: 0.9964\n",
            "Epoch 30/150\n",
            "9/9 - 0s - loss: 0.0115 - accuracy: 0.9964\n",
            "Epoch 31/150\n",
            "9/9 - 0s - loss: 0.0107 - accuracy: 0.9964\n",
            "Epoch 32/150\n",
            "9/9 - 0s - loss: 0.0114 - accuracy: 0.9964\n",
            "Epoch 33/150\n",
            "9/9 - 0s - loss: 0.0109 - accuracy: 0.9964\n",
            "Epoch 34/150\n",
            "9/9 - 0s - loss: 0.0105 - accuracy: 0.9964\n",
            "Epoch 35/150\n",
            "9/9 - 0s - loss: 0.0107 - accuracy: 0.9964\n",
            "Epoch 36/150\n",
            "9/9 - 0s - loss: 0.0110 - accuracy: 0.9964\n",
            "Epoch 37/150\n",
            "9/9 - 0s - loss: 0.0097 - accuracy: 0.9964\n",
            "Epoch 38/150\n",
            "9/9 - 0s - loss: 0.0113 - accuracy: 0.9964\n",
            "Epoch 39/150\n",
            "9/9 - 0s - loss: 0.0110 - accuracy: 0.9964\n",
            "Epoch 40/150\n",
            "9/9 - 0s - loss: 0.0101 - accuracy: 0.9964\n",
            "Epoch 41/150\n",
            "9/9 - 0s - loss: 0.0103 - accuracy: 0.9964\n",
            "Epoch 42/150\n",
            "9/9 - 0s - loss: 0.0084 - accuracy: 0.9964\n",
            "Epoch 43/150\n",
            "9/9 - 0s - loss: 0.0103 - accuracy: 0.9964\n",
            "Epoch 44/150\n",
            "9/9 - 0s - loss: 0.0084 - accuracy: 0.9964\n",
            "Epoch 45/150\n",
            "9/9 - 0s - loss: 0.0107 - accuracy: 0.9964\n",
            "Epoch 46/150\n",
            "9/9 - 0s - loss: 0.0111 - accuracy: 0.9964\n",
            "Epoch 47/150\n",
            "9/9 - 0s - loss: 0.0093 - accuracy: 0.9964\n",
            "Epoch 48/150\n",
            "9/9 - 0s - loss: 0.0082 - accuracy: 0.9964\n",
            "Epoch 49/150\n",
            "9/9 - 0s - loss: 0.0087 - accuracy: 0.9964\n",
            "Epoch 50/150\n",
            "9/9 - 0s - loss: 0.0081 - accuracy: 0.9964\n",
            "Epoch 51/150\n",
            "9/9 - 0s - loss: 0.0082 - accuracy: 0.9964\n",
            "Epoch 52/150\n",
            "9/9 - 0s - loss: 0.0095 - accuracy: 0.9964\n",
            "Epoch 53/150\n",
            "9/9 - 0s - loss: 0.0070 - accuracy: 0.9964\n",
            "Epoch 54/150\n",
            "9/9 - 0s - loss: 0.0076 - accuracy: 0.9964\n",
            "Epoch 55/150\n",
            "9/9 - 0s - loss: 0.0077 - accuracy: 0.9964\n",
            "Epoch 56/150\n",
            "9/9 - 0s - loss: 0.0074 - accuracy: 0.9964\n",
            "Epoch 57/150\n",
            "9/9 - 0s - loss: 0.0075 - accuracy: 0.9964\n",
            "Epoch 58/150\n",
            "9/9 - 0s - loss: 0.0073 - accuracy: 0.9964\n",
            "Epoch 59/150\n",
            "9/9 - 0s - loss: 0.0071 - accuracy: 0.9964\n",
            "Epoch 60/150\n",
            "9/9 - 0s - loss: 0.0077 - accuracy: 0.9964\n",
            "Epoch 61/150\n",
            "9/9 - 0s - loss: 0.0074 - accuracy: 0.9964\n",
            "Epoch 62/150\n",
            "9/9 - 0s - loss: 0.0067 - accuracy: 0.9964\n",
            "Epoch 63/150\n",
            "9/9 - 0s - loss: 0.0063 - accuracy: 1.0000\n",
            "Epoch 64/150\n",
            "9/9 - 0s - loss: 0.0062 - accuracy: 0.9964\n",
            "Epoch 65/150\n",
            "9/9 - 0s - loss: 0.0066 - accuracy: 0.9964\n",
            "Epoch 66/150\n",
            "9/9 - 0s - loss: 0.0064 - accuracy: 0.9964\n",
            "Epoch 67/150\n",
            "9/9 - 0s - loss: 0.0061 - accuracy: 1.0000\n",
            "Epoch 68/150\n",
            "9/9 - 0s - loss: 0.0057 - accuracy: 1.0000\n",
            "Epoch 69/150\n",
            "9/9 - 0s - loss: 0.0064 - accuracy: 0.9964\n",
            "Epoch 70/150\n",
            "9/9 - 0s - loss: 0.0057 - accuracy: 0.9964\n",
            "Epoch 71/150\n",
            "9/9 - 0s - loss: 0.0061 - accuracy: 1.0000\n",
            "Epoch 72/150\n",
            "9/9 - 0s - loss: 0.0058 - accuracy: 0.9964\n",
            "Epoch 73/150\n",
            "9/9 - 0s - loss: 0.0056 - accuracy: 0.9964\n",
            "Epoch 74/150\n",
            "9/9 - 0s - loss: 0.0054 - accuracy: 0.9964\n",
            "Epoch 75/150\n",
            "9/9 - 0s - loss: 0.0053 - accuracy: 0.9964\n",
            "Epoch 76/150\n",
            "9/9 - 0s - loss: 0.0053 - accuracy: 0.9964\n",
            "Epoch 77/150\n",
            "9/9 - 0s - loss: 0.0052 - accuracy: 1.0000\n",
            "Epoch 78/150\n",
            "9/9 - 0s - loss: 0.0051 - accuracy: 1.0000\n",
            "Epoch 79/150\n",
            "9/9 - 0s - loss: 0.0053 - accuracy: 0.9964\n",
            "Epoch 80/150\n",
            "9/9 - 0s - loss: 0.0051 - accuracy: 1.0000\n",
            "Epoch 81/150\n",
            "9/9 - 0s - loss: 0.0048 - accuracy: 1.0000\n",
            "Epoch 82/150\n",
            "9/9 - 0s - loss: 0.0057 - accuracy: 0.9964\n",
            "Epoch 83/150\n",
            "9/9 - 0s - loss: 0.0069 - accuracy: 0.9964\n",
            "Epoch 84/150\n",
            "9/9 - 0s - loss: 0.0050 - accuracy: 1.0000\n",
            "Epoch 85/150\n",
            "9/9 - 0s - loss: 0.0054 - accuracy: 0.9964\n",
            "Epoch 86/150\n",
            "9/9 - 0s - loss: 0.0050 - accuracy: 0.9964\n",
            "Epoch 87/150\n",
            "9/9 - 0s - loss: 0.0044 - accuracy: 1.0000\n",
            "Epoch 88/150\n",
            "9/9 - 0s - loss: 0.0045 - accuracy: 1.0000\n",
            "Epoch 89/150\n",
            "9/9 - 0s - loss: 0.0043 - accuracy: 1.0000\n",
            "Epoch 90/150\n",
            "9/9 - 0s - loss: 0.0042 - accuracy: 1.0000\n",
            "Epoch 91/150\n",
            "9/9 - 0s - loss: 0.0043 - accuracy: 1.0000\n",
            "Epoch 92/150\n",
            "9/9 - 0s - loss: 0.0040 - accuracy: 1.0000\n",
            "Epoch 93/150\n",
            "9/9 - 0s - loss: 0.0039 - accuracy: 1.0000\n",
            "Epoch 94/150\n",
            "9/9 - 0s - loss: 0.0043 - accuracy: 1.0000\n",
            "Epoch 95/150\n",
            "9/9 - 0s - loss: 0.0039 - accuracy: 1.0000\n",
            "Epoch 96/150\n",
            "9/9 - 0s - loss: 0.0039 - accuracy: 1.0000\n",
            "Epoch 97/150\n",
            "9/9 - 0s - loss: 0.0038 - accuracy: 1.0000\n",
            "Epoch 98/150\n",
            "9/9 - 0s - loss: 0.0038 - accuracy: 1.0000\n",
            "Epoch 99/150\n",
            "9/9 - 0s - loss: 0.0036 - accuracy: 1.0000\n",
            "Epoch 100/150\n",
            "9/9 - 0s - loss: 0.0037 - accuracy: 1.0000\n",
            "Epoch 101/150\n",
            "9/9 - 0s - loss: 0.0035 - accuracy: 1.0000\n",
            "Epoch 102/150\n",
            "9/9 - 0s - loss: 0.0038 - accuracy: 1.0000\n",
            "Epoch 103/150\n",
            "9/9 - 0s - loss: 0.0036 - accuracy: 1.0000\n",
            "Epoch 104/150\n",
            "9/9 - 0s - loss: 0.0033 - accuracy: 1.0000\n",
            "Epoch 105/150\n",
            "9/9 - 0s - loss: 0.0035 - accuracy: 1.0000\n",
            "Epoch 106/150\n",
            "9/9 - 0s - loss: 0.0032 - accuracy: 1.0000\n",
            "Epoch 107/150\n",
            "9/9 - 0s - loss: 0.0032 - accuracy: 1.0000\n",
            "Epoch 108/150\n",
            "9/9 - 0s - loss: 0.0030 - accuracy: 1.0000\n",
            "Epoch 109/150\n",
            "9/9 - 0s - loss: 0.0031 - accuracy: 1.0000\n",
            "Epoch 110/150\n",
            "9/9 - 0s - loss: 0.0030 - accuracy: 1.0000\n",
            "Epoch 111/150\n",
            "9/9 - 0s - loss: 0.0029 - accuracy: 1.0000\n",
            "Epoch 112/150\n",
            "9/9 - 0s - loss: 0.0028 - accuracy: 1.0000\n",
            "Epoch 113/150\n",
            "9/9 - 0s - loss: 0.0030 - accuracy: 1.0000\n",
            "Epoch 114/150\n",
            "9/9 - 0s - loss: 0.0030 - accuracy: 1.0000\n",
            "Epoch 115/150\n",
            "9/9 - 0s - loss: 0.0026 - accuracy: 1.0000\n",
            "Epoch 116/150\n",
            "9/9 - 0s - loss: 0.0028 - accuracy: 1.0000\n",
            "Epoch 117/150\n",
            "9/9 - 0s - loss: 0.0026 - accuracy: 1.0000\n",
            "Epoch 118/150\n",
            "9/9 - 0s - loss: 0.0030 - accuracy: 1.0000\n",
            "Epoch 119/150\n",
            "9/9 - 0s - loss: 0.0029 - accuracy: 1.0000\n",
            "Epoch 120/150\n",
            "9/9 - 0s - loss: 0.0027 - accuracy: 1.0000\n",
            "Epoch 121/150\n",
            "9/9 - 0s - loss: 0.0030 - accuracy: 1.0000\n",
            "Epoch 122/150\n",
            "9/9 - 0s - loss: 0.0026 - accuracy: 1.0000\n",
            "Epoch 123/150\n",
            "9/9 - 0s - loss: 0.0025 - accuracy: 1.0000\n",
            "Epoch 124/150\n",
            "9/9 - 0s - loss: 0.0025 - accuracy: 1.0000\n",
            "Epoch 125/150\n",
            "9/9 - 0s - loss: 0.0025 - accuracy: 1.0000\n",
            "Epoch 126/150\n",
            "9/9 - 0s - loss: 0.0024 - accuracy: 1.0000\n",
            "Epoch 127/150\n",
            "9/9 - 0s - loss: 0.0028 - accuracy: 1.0000\n",
            "Epoch 128/150\n",
            "9/9 - 0s - loss: 0.0025 - accuracy: 1.0000\n",
            "Epoch 129/150\n",
            "9/9 - 0s - loss: 0.0024 - accuracy: 1.0000\n",
            "Epoch 130/150\n",
            "9/9 - 0s - loss: 0.0022 - accuracy: 1.0000\n",
            "Epoch 131/150\n",
            "9/9 - 0s - loss: 0.0022 - accuracy: 1.0000\n",
            "Epoch 132/150\n",
            "9/9 - 0s - loss: 0.0021 - accuracy: 1.0000\n",
            "Epoch 133/150\n",
            "9/9 - 0s - loss: 0.0022 - accuracy: 1.0000\n",
            "Epoch 134/150\n",
            "9/9 - 0s - loss: 0.0021 - accuracy: 1.0000\n",
            "Epoch 135/150\n",
            "9/9 - 0s - loss: 0.0022 - accuracy: 1.0000\n",
            "Epoch 136/150\n",
            "9/9 - 0s - loss: 0.0020 - accuracy: 1.0000\n",
            "Epoch 137/150\n",
            "9/9 - 0s - loss: 0.0021 - accuracy: 1.0000\n",
            "Epoch 138/150\n",
            "9/9 - 0s - loss: 0.0021 - accuracy: 1.0000\n",
            "Epoch 139/150\n",
            "9/9 - 0s - loss: 0.0022 - accuracy: 1.0000\n",
            "Epoch 140/150\n",
            "9/9 - 0s - loss: 0.0021 - accuracy: 1.0000\n",
            "Epoch 141/150\n",
            "9/9 - 0s - loss: 0.0022 - accuracy: 1.0000\n",
            "Epoch 142/150\n",
            "9/9 - 0s - loss: 0.0018 - accuracy: 1.0000\n",
            "Epoch 143/150\n",
            "9/9 - 0s - loss: 0.0019 - accuracy: 1.0000\n",
            "Epoch 144/150\n",
            "9/9 - 0s - loss: 0.0019 - accuracy: 1.0000\n",
            "Epoch 145/150\n",
            "9/9 - 0s - loss: 0.0019 - accuracy: 1.0000\n",
            "Epoch 146/150\n",
            "9/9 - 0s - loss: 0.0018 - accuracy: 1.0000\n",
            "Epoch 147/150\n",
            "9/9 - 0s - loss: 0.0019 - accuracy: 1.0000\n",
            "Epoch 148/150\n",
            "9/9 - 0s - loss: 0.0018 - accuracy: 1.0000\n",
            "Epoch 149/150\n",
            "9/9 - 0s - loss: 0.0017 - accuracy: 1.0000\n",
            "Epoch 150/150\n",
            "9/9 - 0s - loss: 0.0018 - accuracy: 1.0000\n"
          ]
        },
        {
          "output_type": "execute_result",
          "data": {
            "text/plain": [
              "<keras.callbacks.History at 0x7f70eb62b3d0>"
            ]
          },
          "metadata": {},
          "execution_count": 67
        }
      ]
    },
    {
      "cell_type": "code",
      "metadata": {
        "id": "jk-8rd1wusoS",
        "colab": {
          "base_uri": "https://localhost:8080/"
        },
        "outputId": "65656169-5033-483b-f98f-e8200b04821f"
      },
      "source": [
        "#Evaluating the Model\n",
        "#The model has been trained on the training dataset. Now, it is required to be evaluated on the test dataset to check its performance. Let us evaluate the model now.\n",
        "\n",
        "loss, acc = model.evaluate(X_test, y_test, verbose=2)\n",
        "print('Test Accuracy: %.3f' % acc)\n",
        "\n",
        "#Here, the model will be evaluated on the test dataset, and the appropriate loss and accuracy will be saved in the variables loss and acc.\n",
        "#Here, our model has achieved around 91.5% accuracy on evaluation on the test dataset."
      ],
      "execution_count": null,
      "outputs": [
        {
          "output_type": "stream",
          "name": "stdout",
          "text": [
            "3/3 - 0s - loss: 0.5534 - accuracy: 0.9155\n",
            "Test Accuracy: 0.915\n"
          ]
        }
      ]
    },
    {
      "cell_type": "code",
      "metadata": {
        "id": "5b4C39NvvHTj",
        "colab": {
          "base_uri": "https://localhost:8080/"
        },
        "outputId": "52b56ed1-cfbb-4a4d-f2c3-5afdf0537adf"
      },
      "source": [
        "#Making Predictions\n",
        "#Let us now make a prediction on the new data to check the prediction values it gives. Let us predict for one row of data.\n",
        "\n",
        "row = [1,0,0.99539,-0.05889,0.85243,0.02306,0.83398,-0.37708,1,0.03760,0.85243,-0.17755,0.59755,-0.44945,0.60536,-0.38223,0.84356,-0.38542,0.58212,-0.32192,0.56971,-0.29674,0.36946,-0.47357,0.56811,-0.51171,0.41078,-0.46168,0.21266,-0.34090,0.42267,-0.54487,0.18641,-0.45300]\n",
        "yhat = model.predict([row])\n",
        "print('Predicted: %.3f' % yhat)\n",
        "\n",
        "#Here, the values for all the input features are given as an array in the variable row. \n",
        "#We are making predictions to identify which class that particular row of records belongs to, that is, the target variable."
      ],
      "execution_count": null,
      "outputs": [
        {
          "output_type": "stream",
          "name": "stdout",
          "text": [
            "Predicted: 1.000\n"
          ]
        }
      ]
    },
    {
      "cell_type": "code",
      "metadata": {
        "id": "9YK4a9HtvcLt"
      },
      "source": [
        "#The prediction gives a probability of around 1.0, where it says that one row of data belongs to class 1."
      ],
      "execution_count": null,
      "outputs": []
    },
    {
      "cell_type": "code",
      "metadata": {
        "id": "OshlxJKCvgvC"
      },
      "source": [
        ""
      ],
      "execution_count": null,
      "outputs": []
    }
  ]
}