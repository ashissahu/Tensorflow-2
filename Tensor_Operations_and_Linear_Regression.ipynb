{
  "nbformat": 4,
  "nbformat_minor": 0,
  "metadata": {
    "colab": {
      "name": "Tensor Operations and Linear Regression.ipynb",
      "provenance": [],
      "collapsed_sections": []
    },
    "kernelspec": {
      "name": "python3",
      "display_name": "Python 3"
    },
    "language_info": {
      "name": "python"
    }
  },
  "cells": [
    {
      "cell_type": "code",
      "metadata": {
        "id": "OwILNfVpjat2"
      },
      "source": [
        ""
      ],
      "execution_count": null,
      "outputs": []
    },
    {
      "cell_type": "markdown",
      "metadata": {
        "id": "R-faLXCnjzFo"
      },
      "source": [
        "# Tensor Parameters\n",
        "Any tensor can be identified with the help of the following three parameters:\n",
        "\n",
        "- Rank: This specifies the number of dimensions of the tensor.\n",
        "- Shape: The number of rows and columns in a tensor.\n",
        "- Type: The datatype that is carried by the tensor.\n",
        "\n",
        "Tensors can be built using NumPy arrays and can be converted into a tensor object."
      ]
    },
    {
      "cell_type": "markdown",
      "metadata": {
        "id": "SSudNQ-0j6Ve"
      },
      "source": [
        "# One Dimension Tensors"
      ]
    },
    {
      "cell_type": "code",
      "metadata": {
        "colab": {
          "base_uri": "https://localhost:8080/"
        },
        "id": "lBZU-Rg0j00r",
        "outputId": "57acd260-c67e-4fa9-c5ee-5bba0b678003"
      },
      "source": [
        "import numpy as np\n",
        "tensor_1d = np.array([1,2,3,4,5])\n",
        "print (tensor_1d)"
      ],
      "execution_count": 1,
      "outputs": [
        {
          "output_type": "stream",
          "name": "stdout",
          "text": [
            "[1 2 3 4 5]\n"
          ]
        }
      ]
    },
    {
      "cell_type": "code",
      "metadata": {
        "colab": {
          "base_uri": "https://localhost:8080/"
        },
        "id": "yxIfACeBj-rh",
        "outputId": "de0e3976-b49d-45c9-e7c4-d98b3f02d454"
      },
      "source": [
        "print (tensor_1d.ndim)"
      ],
      "execution_count": 2,
      "outputs": [
        {
          "output_type": "stream",
          "name": "stdout",
          "text": [
            "1\n"
          ]
        }
      ]
    },
    {
      "cell_type": "code",
      "metadata": {
        "colab": {
          "base_uri": "https://localhost:8080/"
        },
        "id": "5QgkCKXRkBkn",
        "outputId": "4f902597-47db-403d-ccf6-b2da3c4c5e31"
      },
      "source": [
        "print (tensor_1d.shape)\n",
        "print (tensor_1d.dtype)"
      ],
      "execution_count": 3,
      "outputs": [
        {
          "output_type": "stream",
          "name": "stdout",
          "text": [
            "(5,)\n",
            "int64\n"
          ]
        }
      ]
    },
    {
      "cell_type": "code",
      "metadata": {
        "colab": {
          "base_uri": "https://localhost:8080/"
        },
        "id": "LASHpFi1kFmT",
        "outputId": "9bc94efa-334a-42c1-a47b-361baf18f4c5"
      },
      "source": [
        "import tensorflow as tf \n",
        "\n",
        "tensor_1d = tf.convert_to_tensor(tensor_1d, dtype=tf.int64)\n",
        "\n",
        "tf.print(tensor_1d)\n",
        "tf.print(tensor_1d[0])\n",
        "tf.print(tensor_1d[1])"
      ],
      "execution_count": 4,
      "outputs": [
        {
          "output_type": "stream",
          "name": "stdout",
          "text": [
            "[1 2 3 4 5]\n",
            "1\n",
            "2\n"
          ]
        }
      ]
    },
    {
      "cell_type": "markdown",
      "metadata": {
        "id": "ByQm04BXkShI"
      },
      "source": [
        "# Two Dimension Tensors"
      ]
    },
    {
      "cell_type": "code",
      "metadata": {
        "colab": {
          "base_uri": "https://localhost:8080/"
        },
        "id": "T1x4TbtAkKeR",
        "outputId": "c06a6fad-a48c-4bbe-fcd7-9d8fa131a8c9"
      },
      "source": [
        "array_2d_1 = np.array(np.arange(16).reshape(4,4), dtype='int32')\n",
        "\n",
        "print(array_2d_1)\n"
      ],
      "execution_count": 5,
      "outputs": [
        {
          "output_type": "stream",
          "name": "stdout",
          "text": [
            "[[ 0  1  2  3]\n",
            " [ 4  5  6  7]\n",
            " [ 8  9 10 11]\n",
            " [12 13 14 15]]\n"
          ]
        }
      ]
    },
    {
      "cell_type": "code",
      "metadata": {
        "colab": {
          "base_uri": "https://localhost:8080/"
        },
        "id": "IUdLqoJEkaMQ",
        "outputId": "ac90c564-2b1a-4c0f-b66b-929a5ef75072"
      },
      "source": [
        "array_2d_1.ndim"
      ],
      "execution_count": 6,
      "outputs": [
        {
          "output_type": "execute_result",
          "data": {
            "text/plain": [
              "2"
            ]
          },
          "metadata": {},
          "execution_count": 6
        }
      ]
    },
    {
      "cell_type": "code",
      "metadata": {
        "colab": {
          "base_uri": "https://localhost:8080/"
        },
        "id": "RRiLYKwIkajf",
        "outputId": "8d3baee1-19fe-4163-cc30-67dff7d3e696"
      },
      "source": [
        "array_2d_1.shape"
      ],
      "execution_count": 7,
      "outputs": [
        {
          "output_type": "execute_result",
          "data": {
            "text/plain": [
              "(4, 4)"
            ]
          },
          "metadata": {},
          "execution_count": 7
        }
      ]
    },
    {
      "cell_type": "code",
      "metadata": {
        "colab": {
          "base_uri": "https://localhost:8080/"
        },
        "id": "V3Exob5tkcJ7",
        "outputId": "25e27241-25bd-468f-a3fe-49a773103875"
      },
      "source": [
        "array_2d_1.dtype"
      ],
      "execution_count": 8,
      "outputs": [
        {
          "output_type": "execute_result",
          "data": {
            "text/plain": [
              "dtype('int32')"
            ]
          },
          "metadata": {},
          "execution_count": 8
        }
      ]
    },
    {
      "cell_type": "code",
      "metadata": {
        "colab": {
          "base_uri": "https://localhost:8080/"
        },
        "id": "BIlGZTISkdff",
        "outputId": "975da8f7-6f07-432d-9f05-b599418540ee"
      },
      "source": [
        "tensor_2d_1 = tf.convert_to_tensor(array_2d_1)\n",
        "print(tensor_2d_1)"
      ],
      "execution_count": 9,
      "outputs": [
        {
          "output_type": "stream",
          "name": "stdout",
          "text": [
            "tf.Tensor(\n",
            "[[ 0  1  2  3]\n",
            " [ 4  5  6  7]\n",
            " [ 8  9 10 11]\n",
            " [12 13 14 15]], shape=(4, 4), dtype=int32)\n"
          ]
        }
      ]
    },
    {
      "cell_type": "code",
      "metadata": {
        "id": "U0VFyBDPkfx1"
      },
      "source": [
        ""
      ],
      "execution_count": null,
      "outputs": []
    },
    {
      "cell_type": "markdown",
      "metadata": {
        "id": "SjtN7PWDkljU"
      },
      "source": [
        "# Matrix Operations with Tensors\n",
        "TensorFlow 2.0 supports all the matrix operations, such as:\n",
        "\n",
        "- Addition\n",
        "- Dot product\n",
        "- Matrix multiplication\n",
        "- Determinant"
      ]
    },
    {
      "cell_type": "code",
      "metadata": {
        "colab": {
          "base_uri": "https://localhost:8080/"
        },
        "id": "Hd8jhVmGkonB",
        "outputId": "fde5ff1a-0880-402d-b5b1-9b1f71dc7ff1"
      },
      "source": [
        "#Matrix Addition\n",
        "#Initializing the Array\n",
        "\n",
        "array_2d_1 = np.array(np.arange(16).reshape(4,4), dtype='int32')\n",
        "array_2d_2 = np.array(np.arange(16,32).reshape(4,4), dtype='int32')\n",
        "\n",
        "#Converting to Tensors\n",
        "\n",
        "tensor_2d_1 = tf.convert_to_tensor(array_2d_1)\n",
        "tensor_2d_2 = tf.convert_to_tensor(array_2d_2)\n",
        "\n",
        "#Matrix Operation\n",
        "\n",
        "mat_add = tf.math.add(tensor_2d_1, tensor_2d_2)\n",
        "\n",
        "#Printing the Result\n",
        "\n",
        "print(mat_add)"
      ],
      "execution_count": 10,
      "outputs": [
        {
          "output_type": "stream",
          "name": "stdout",
          "text": [
            "tf.Tensor(\n",
            "[[16 18 20 22]\n",
            " [24 26 28 30]\n",
            " [32 34 36 38]\n",
            " [40 42 44 46]], shape=(4, 4), dtype=int32)\n"
          ]
        }
      ]
    },
    {
      "cell_type": "code",
      "metadata": {
        "colab": {
          "base_uri": "https://localhost:8080/"
        },
        "id": "_SUHJHdCk9wG",
        "outputId": "57ca7d0d-13c4-4b4e-fe62-4910e02f79a1"
      },
      "source": [
        "#Matrix Multiplication\n",
        "#Initializing the Array\n",
        "\n",
        "array_2d_1 = np.array(np.arange(16).reshape(4,4), dtype='int32')\n",
        "array_2d_2 = np.array(np.arange(16,32).reshape(4,4), dtype='int32')\n",
        "\n",
        "##Converting to Tensors\n",
        "\n",
        "tensor_2d_1 = tf.convert_to_tensor(array_2d_1)\n",
        "tensor_2d_2 = tf.convert_to_tensor(array_2d_2)\n",
        "\n",
        "#Matrix Operation\n",
        "\n",
        "mat_mul = tf.matmul(tensor_2d_1, tensor_2d_2)\n",
        "\n",
        "#Printing the Result\n",
        "\n",
        "print (mat_mul)"
      ],
      "execution_count": 12,
      "outputs": [
        {
          "output_type": "stream",
          "name": "stdout",
          "text": [
            "tf.Tensor(\n",
            "[[ 152  158  164  170]\n",
            " [ 504  526  548  570]\n",
            " [ 856  894  932  970]\n",
            " [1208 1262 1316 1370]], shape=(4, 4), dtype=int32)\n"
          ]
        }
      ]
    },
    {
      "cell_type": "code",
      "metadata": {
        "colab": {
          "base_uri": "https://localhost:8080/"
        },
        "id": "6cYGozFOlH3b",
        "outputId": "57e15d52-96d5-4b7c-9fed-546deccbe211"
      },
      "source": [
        "#Determinant of a Matrix\n",
        "#Initializing the Array\n",
        "\n",
        "array_2d_1 = np.array(np.arange(16).reshape(4,4),dtype=float)\n",
        "print(array_2d_1.dtype)\n",
        "#Converting to Tensors\n",
        "\n",
        "tensor_2d_1 = tf.convert_to_tensor(array_2d_1)\n",
        "print(tensor_2d_1.dtype)\n",
        "#Matrix Operation\n",
        "\n",
        "mat_det = tf.linalg.det(tensor_2d_1)\n",
        "\n",
        "#Printing the Result\n",
        "\n",
        "print(mat_det)"
      ],
      "execution_count": 16,
      "outputs": [
        {
          "output_type": "stream",
          "name": "stdout",
          "text": [
            "float64\n",
            "<dtype: 'float64'>\n",
            "tf.Tensor(-2.9582283945788216e-30, shape=(), dtype=float64)\n"
          ]
        }
      ]
    },
    {
      "cell_type": "code",
      "metadata": {
        "id": "aLorRTPElbKV"
      },
      "source": [
        ""
      ],
      "execution_count": null,
      "outputs": []
    },
    {
      "cell_type": "markdown",
      "metadata": {
        "id": "X0mUIbxjmgiF"
      },
      "source": [
        "# Linear Regression Model"
      ]
    },
    {
      "cell_type": "markdown",
      "metadata": {
        "id": "wGp6U6IJmnFg"
      },
      "source": [
        "Building Linear Regression Model - Steps\n",
        "- Define the relationship between x and y.\n",
        "- Generate random data points.\n",
        "- Define a cost function that calculates the error between the actual and predicted values.\n",
        "- Optimize the cost function using a gradient descent algorithm.\n",
        "- Iterate the optimization process until the values converge."
      ]
    },
    {
      "cell_type": "code",
      "metadata": {
        "id": "-SuPo2yLmjae"
      },
      "source": [
        "import numpy as np\n",
        "import tensorflow as tf \n",
        "\n",
        "#Initializing the number of points and the dependent and independent variables:\n",
        "\n",
        "numPts = 100\n",
        "x_train = []\n",
        "y_train = []\n",
        "\n",
        "#Assigning the values for a and b:\n",
        "\n",
        "a = 0.45\n",
        "b = 0.60\n",
        "\n",
        "#y = 0.45 * x + 0.60y\n",
        "#Finally, after gradient descent, the model should also converge to the above values of a and b."
      ],
      "execution_count": 28,
      "outputs": []
    },
    {
      "cell_type": "code",
      "metadata": {
        "id": "AGwjhkLGnGSC"
      },
      "source": [
        "#The following code is used to generate random points for xx and yy based on the relationship defined above.\n",
        "\n",
        "for i in range(numPts):\n",
        "    xtemp = np.random.normal(0.0,0.5)\n",
        "    ytemp = a*xtemp + b +np.random.normal(0.0,0.1)\n",
        "    x_train.append([xtemp])\n",
        "    y_train.append([ytemp])"
      ],
      "execution_count": 29,
      "outputs": []
    },
    {
      "cell_type": "code",
      "metadata": {
        "colab": {
          "base_uri": "https://localhost:8080/"
        },
        "id": "cLNc8RnGnZnR",
        "outputId": "1c768b8f-3bc2-4dd5-d286-545e2036cc52"
      },
      "source": [
        "x_train[:5]"
      ],
      "execution_count": 31,
      "outputs": [
        {
          "output_type": "execute_result",
          "data": {
            "text/plain": [
              "[[-0.4487937738554645],\n",
              " [1.074674478178114],\n",
              " [0.17900464322081963],\n",
              " [-0.4256070368421761],\n",
              " [0.6035993450581476]]"
            ]
          },
          "metadata": {},
          "execution_count": 31
        }
      ]
    },
    {
      "cell_type": "code",
      "metadata": {
        "colab": {
          "base_uri": "https://localhost:8080/"
        },
        "id": "doz3BvXOna_j",
        "outputId": "63fbb1c1-a663-408f-ff84-fda3a507662d"
      },
      "source": [
        "y_train[:5]"
      ],
      "execution_count": 32,
      "outputs": [
        {
          "output_type": "execute_result",
          "data": {
            "text/plain": [
              "[[0.5074696646888083],\n",
              " [1.1608813272280885],\n",
              " [0.6150242517944509],\n",
              " [0.38343704403101064],\n",
              " [1.0369389691891546]]"
            ]
          },
          "metadata": {},
          "execution_count": 32
        }
      ]
    },
    {
      "cell_type": "code",
      "metadata": {
        "id": "VlUGkZedncM4"
      },
      "source": [
        "#Initializing the Variables\n",
        "#The objective here is to implement a Machine Learning algorithm to predict y given x, using TensorFlow.\n",
        "#The linear regression model should converge to an optimal a and b that minimizes the cost function.\n",
        "#Initializing arbitrary values for A and setting b to zero:\n",
        "\n",
        "A = tf.Variable(tf.random.uniform([1], -1.0, 1.0))\n",
        "b = tf.Variable(tf.zeros([1]))\n",
        "#Creating a relationship between x and y:\n",
        "\n",
        "def h(x):\n",
        "    y = A*x + b\n",
        "    return y\n"
      ],
      "execution_count": 33,
      "outputs": []
    },
    {
      "cell_type": "code",
      "metadata": {
        "id": "qMWxCZpOn4Zi"
      },
      "source": [
        "#Define Cost Function\n",
        "#The following code is used to set the learning rate. It can be set to any number between 0 and 1.\n",
        "\n",
        "learningRate = 0.25\n",
        "#The cost function is defined as follows.\n",
        "\n",
        "def squared_error(y_pred, y_true):\n",
        "    return tf.reduce_mean(tf.square(y_pred - y_true))"
      ],
      "execution_count": 38,
      "outputs": []
    },
    {
      "cell_type": "code",
      "metadata": {
        "id": "V3GyHTT3oAiS"
      },
      "source": [
        "#Optimize Cost Function And Iterate Optimization\n",
        "#Here, the optimization process is iterated using gradient descent. Finally, the model is trained to minimize the cost function, and the model is tested.\n",
        "\n",
        "NumIter = 100\n",
        "for epoch in range(NumIter):\n",
        "    with tf.GradientTape() as tape:\n",
        "        y_predicted = h(x_train)\n",
        "        costF = squared_error(y_predicted, y_train)\n",
        "\t\t\t\t\n",
        "    gradients = tape.gradient(costF, [A,b])\n",
        "    #print(gradients)\n",
        "\n",
        "    A.assign_sub(gradients[0]*learningRate)\n",
        "    b.assign_sub(gradients[1]*learningRate)"
      ],
      "execution_count": 42,
      "outputs": []
    },
    {
      "cell_type": "code",
      "metadata": {
        "colab": {
          "base_uri": "https://localhost:8080/"
        },
        "id": "t1os4dx7oQK1",
        "outputId": "1fe6d131-36e2-411b-ca6c-278c737dcfec"
      },
      "source": [
        "A"
      ],
      "execution_count": 43,
      "outputs": [
        {
          "output_type": "execute_result",
          "data": {
            "text/plain": [
              "<tf.Variable 'Variable:0' shape=(1,) dtype=float32, numpy=array([0.44740215], dtype=float32)>"
            ]
          },
          "metadata": {},
          "execution_count": 43
        }
      ]
    },
    {
      "cell_type": "code",
      "metadata": {
        "colab": {
          "base_uri": "https://localhost:8080/"
        },
        "id": "iDLdjHMapSck",
        "outputId": "a67a003b-43d3-44a1-8077-d8230c562d78"
      },
      "source": [
        "b"
      ],
      "execution_count": 44,
      "outputs": [
        {
          "output_type": "execute_result",
          "data": {
            "text/plain": [
              "<tf.Variable 'Variable:0' shape=(1,) dtype=float32, numpy=array([0.5923675], dtype=float32)>"
            ]
          },
          "metadata": {},
          "execution_count": 44
        }
      ]
    },
    {
      "cell_type": "markdown",
      "metadata": {
        "id": "qsXGLgVnpVLd"
      },
      "source": [
        "Here, after the iteration of the optimization process, the minimum cost function will be achieved."
      ]
    },
    {
      "cell_type": "code",
      "metadata": {
        "id": "-aWwRhBVpTlm"
      },
      "source": [
        ""
      ],
      "execution_count": null,
      "outputs": []
    }
  ]
}