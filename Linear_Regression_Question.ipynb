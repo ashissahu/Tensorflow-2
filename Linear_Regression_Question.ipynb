{
 "cells": [
  {
   "cell_type": "markdown",
   "metadata": {},
   "source": [
    "Welcome to the second hands-on exercise for Tensorflow. In this exercise , you will be building a linear regression model using tensorflow. \n",
    "You will be given a vector of input and output data, you need to find the linear relationship between these two data which is in the form  $$y = w*x + b$$"
   ]
  },
  {
   "cell_type": "markdown",
   "metadata": {},
   "source": [
    "Execute the code in each cell using the **Shift + Enter** command"
   ]
  },
  {
   "cell_type": "markdown",
   "metadata": {},
   "source": [
    "Importing the necessary libraries. "
   ]
  },
  {
   "cell_type": "code",
   "execution_count": 1,
   "metadata": {},
   "outputs": [],
   "source": [
    "import numpy as np\n",
    "import tensorflow as tf\n",
    "import numpy.random as rand\n"
   ]
  },
  {
   "cell_type": "markdown",
   "metadata": {},
   "source": [
    "Using numpy initialise training input data \n",
    "**trainX** with values [4.4,7.2,3.712,6.42,4.168,8.79,7.88,7.59,2.167,7.042,10.71,5.33,9.97,5.64,9.27,3.1,3.9]\n",
    "\n",
    "**trainY** with values [2.28644, 3.25412, 2.0486672, 2.984552, 2.2062608, 3.803624 ,3.489128, 3.388904 ,1.5147152, 3.1995152, 4.467176, 2.607848 ,4.211432, 2.714984, 3.969512, 1.83716, 2.11364]"
   ]
  },
  {
   "cell_type": "code",
   "execution_count": 19,
   "metadata": {},
   "outputs": [
    {
     "name": "stdout",
     "output_type": "stream",
     "text": [
      "17\n"
     ]
    }
   ],
   "source": [
    "## Start Code \n",
    "trainX = np.array([4.4,7.2,3.712,6.42,4.168,8.79,7.88,7.59,2.167,7.042,10.71,5.33,9.97,5.64,9.27,3.1,3.9],dtype='float32')\n",
    "#trainX=trainX.astype('float32')                      \n",
    "trainY = np.array([2.28644, 3.25412, 2.0486672, 2.984552, 2.2062608, 3.803624 ,3.489128, 3.388904 ,1.5147152, 3.1995152, 4.467176, 2.607848 ,4.211432, 2.714984, 3.969512, 1.83716, 2.11364],dtype='float32')\n",
    "## End Code \n",
    "\n",
    "num_samples = trainX.shape[0]\n",
    "print(num_samples)"
   ]
  },
  {
   "cell_type": "markdown",
   "metadata": {},
   "source": [
    "Since this is a **linear regression** problem the output will be in the form of **w * trainX + b** \n",
    "\n",
    "\n",
    "Initialse **w** and **b** with random values using **rand.randn()** function. Make sure you declare them as **tensorflow variables**"
   ]
  },
  {
   "cell_type": "code",
   "execution_count": 24,
   "metadata": {},
   "outputs": [
    {
     "name": "stdout",
     "output_type": "stream",
     "text": [
      "<tf.Variable 'Variable:0' shape=(1,) dtype=float32, numpy=array([0.44899866], dtype=float32)>\n",
      "<tf.Variable 'Variable:0' shape=(1,) dtype=float32, numpy=array([0.], dtype=float32)>\n"
     ]
    }
   ],
   "source": [
    "##Start Code\n",
    "\n",
    "w = tf.Variable(rand.randn(1),dtype='float32')\n",
    "\n",
    "b = tf.Variable(tf.zeros([1]))\n",
    "print(w)\n",
    "print(b)\n",
    "\n",
    "#End Code"
   ]
  },
  {
   "cell_type": "markdown",
   "metadata": {},
   "source": [
    "implement **X * W + b** using appropriate tensorflow functions in the function **linear_regression** to predict the output **trainY** and return it.\n",
    "\n",
    "Perform appropriate operation to calculate Mean Square Error in the function **mean_square** and return it.\n"
   ]
  },
  {
   "cell_type": "code",
   "execution_count": 25,
   "metadata": {},
   "outputs": [],
   "source": [
    "##Start Code\n",
    "def linear_regression(x):\n",
    "    y = w*x + b\n",
    "    return y\n",
    "\n",
    "    \n",
    "# Mean square error.\n",
    "\n",
    "def mean_square(y_pred, y_true):\n",
    "    return tf.reduce_mean(tf.square(y_pred - y_true))\n",
    "\n",
    "    \n",
    "##End Code"
   ]
  },
  {
   "cell_type": "markdown",
   "metadata": {},
   "source": [
    "Train the model using gradient descent to minimize the cost and compute gradients , update the weight and bias in the function **run_optimization**.\n",
    "Initialize the number of iterations and learning rate \n",
    "\n",
    "\n",
    "**TIP:** start with small learning rate and large iteration."
   ]
  },
  {
   "cell_type": "code",
   "execution_count": 32,
   "metadata": {},
   "outputs": [],
   "source": [
    "## Start Code \n",
    "\n",
    "num_iter = 10000 \n",
    "learning_rate = 0.01\n",
    "\n",
    "# Stochastic Gradient Descent Optimizer\n",
    "\n",
    "optimizer = tf.keras.optimizers.SGD(learning_rate=0.01,name=\"SGD\")\n",
    "\n",
    "\n",
    "\n",
    "# Optimization process. \n",
    "\n",
    "def run_optimization():\n",
    "\n",
    "\n",
    "    with tf.GradientTape() as g:\n",
    "\n",
    "        pred = linear_regression(trainX)\n",
    "\n",
    "        loss = mean_square(pred, trainY)\n",
    "\n",
    "\n",
    "    gradients = g.gradient(loss, [w,b])\n",
    "    \n",
    "\n",
    "\n",
    "    optimizer.apply_gradients(zip(gradients, [w, b]))\n",
    "    \n",
    "##End Code"
   ]
  },
  {
   "cell_type": "markdown",
   "metadata": {},
   "source": [
    "Execute the below piece of code. "
   ]
  },
  {
   "cell_type": "code",
   "execution_count": 33,
   "metadata": {},
   "outputs": [],
   "source": [
    "text_file = open(\"Output.txt\", \"w\")\n",
    "for step in range(1,num_iter):\n",
    "\n",
    "    # Run the optimization to update W and b values.\n",
    "\n",
    "    run_optimization()\n",
    "with open(\"Output.txt\", \"w\") as text_file:\n",
    "        w=float(w)\n",
    "        w=round(w,2)\n",
    "        b=float(b)\n",
    "        b=round(b,2)\n",
    "        text_file.write(\"w= %f\\n\" % w)\n",
    "        text_file.write(\"b= %f\" % b)"
   ]
  },
  {
   "cell_type": "code",
   "execution_count": null,
   "metadata": {},
   "outputs": [],
   "source": []
  }
 ],
 "metadata": {
  "kernelspec": {
   "display_name": "Python 3",
   "language": "python",
   "name": "python3"
  },
  "language_info": {
   "codemirror_mode": {
    "name": "ipython",
    "version": 3
   },
   "file_extension": ".py",
   "mimetype": "text/x-python",
   "name": "python",
   "nbconvert_exporter": "python",
   "pygments_lexer": "ipython3",
   "version": "3.5.2"
  }
 },
 "nbformat": 4,
 "nbformat_minor": 2
}
