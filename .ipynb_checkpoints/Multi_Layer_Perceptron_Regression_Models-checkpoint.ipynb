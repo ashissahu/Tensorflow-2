{
 "cells": [
  {
   "cell_type": "code",
   "execution_count": 1,
   "metadata": {
    "id": "mPs5PFHnFOZM"
   },
   "outputs": [],
   "source": [
    "import pandas as pd\n",
    "import numpy as np\n",
    "from sklearn.model_selection import train_test_split\n",
    "from sklearn.preprocessing import LabelEncoder\n",
    "from tensorflow.keras import Sequential\n",
    "from tensorflow.keras.layers import Dense"
   ]
  },
  {
   "cell_type": "code",
   "execution_count": 2,
   "metadata": {
    "id": "bVxp-takFWLR"
   },
   "outputs": [],
   "source": [
    "path ='https://raw.githubusercontent.com/jbrownlee/Datasets/master/housing.csv'\n",
    "df = pd.read_csv(path, header=None)"
   ]
  },
  {
   "cell_type": "code",
   "execution_count": 3,
   "metadata": {
    "colab": {
     "base_uri": "https://localhost:8080/",
     "height": 204
    },
    "id": "1PmyHTM0FYHV",
    "outputId": "fad8bfd4-c318-40e0-cc04-f855a4634f18"
   },
   "outputs": [
    {
     "data": {
      "text/html": [
       "<div>\n",
       "<style scoped>\n",
       "    .dataframe tbody tr th:only-of-type {\n",
       "        vertical-align: middle;\n",
       "    }\n",
       "\n",
       "    .dataframe tbody tr th {\n",
       "        vertical-align: top;\n",
       "    }\n",
       "\n",
       "    .dataframe thead th {\n",
       "        text-align: right;\n",
       "    }\n",
       "</style>\n",
       "<table border=\"1\" class=\"dataframe\">\n",
       "  <thead>\n",
       "    <tr style=\"text-align: right;\">\n",
       "      <th></th>\n",
       "      <th>0</th>\n",
       "      <th>1</th>\n",
       "      <th>2</th>\n",
       "      <th>3</th>\n",
       "      <th>4</th>\n",
       "      <th>5</th>\n",
       "      <th>6</th>\n",
       "      <th>7</th>\n",
       "      <th>8</th>\n",
       "      <th>9</th>\n",
       "      <th>10</th>\n",
       "      <th>11</th>\n",
       "      <th>12</th>\n",
       "      <th>13</th>\n",
       "    </tr>\n",
       "  </thead>\n",
       "  <tbody>\n",
       "    <tr>\n",
       "      <th>0</th>\n",
       "      <td>0.00632</td>\n",
       "      <td>18.0</td>\n",
       "      <td>2.31</td>\n",
       "      <td>0</td>\n",
       "      <td>0.538</td>\n",
       "      <td>6.575</td>\n",
       "      <td>65.2</td>\n",
       "      <td>4.0900</td>\n",
       "      <td>1</td>\n",
       "      <td>296.0</td>\n",
       "      <td>15.3</td>\n",
       "      <td>396.90</td>\n",
       "      <td>4.98</td>\n",
       "      <td>24.0</td>\n",
       "    </tr>\n",
       "    <tr>\n",
       "      <th>1</th>\n",
       "      <td>0.02731</td>\n",
       "      <td>0.0</td>\n",
       "      <td>7.07</td>\n",
       "      <td>0</td>\n",
       "      <td>0.469</td>\n",
       "      <td>6.421</td>\n",
       "      <td>78.9</td>\n",
       "      <td>4.9671</td>\n",
       "      <td>2</td>\n",
       "      <td>242.0</td>\n",
       "      <td>17.8</td>\n",
       "      <td>396.90</td>\n",
       "      <td>9.14</td>\n",
       "      <td>21.6</td>\n",
       "    </tr>\n",
       "    <tr>\n",
       "      <th>2</th>\n",
       "      <td>0.02729</td>\n",
       "      <td>0.0</td>\n",
       "      <td>7.07</td>\n",
       "      <td>0</td>\n",
       "      <td>0.469</td>\n",
       "      <td>7.185</td>\n",
       "      <td>61.1</td>\n",
       "      <td>4.9671</td>\n",
       "      <td>2</td>\n",
       "      <td>242.0</td>\n",
       "      <td>17.8</td>\n",
       "      <td>392.83</td>\n",
       "      <td>4.03</td>\n",
       "      <td>34.7</td>\n",
       "    </tr>\n",
       "    <tr>\n",
       "      <th>3</th>\n",
       "      <td>0.03237</td>\n",
       "      <td>0.0</td>\n",
       "      <td>2.18</td>\n",
       "      <td>0</td>\n",
       "      <td>0.458</td>\n",
       "      <td>6.998</td>\n",
       "      <td>45.8</td>\n",
       "      <td>6.0622</td>\n",
       "      <td>3</td>\n",
       "      <td>222.0</td>\n",
       "      <td>18.7</td>\n",
       "      <td>394.63</td>\n",
       "      <td>2.94</td>\n",
       "      <td>33.4</td>\n",
       "    </tr>\n",
       "    <tr>\n",
       "      <th>4</th>\n",
       "      <td>0.06905</td>\n",
       "      <td>0.0</td>\n",
       "      <td>2.18</td>\n",
       "      <td>0</td>\n",
       "      <td>0.458</td>\n",
       "      <td>7.147</td>\n",
       "      <td>54.2</td>\n",
       "      <td>6.0622</td>\n",
       "      <td>3</td>\n",
       "      <td>222.0</td>\n",
       "      <td>18.7</td>\n",
       "      <td>396.90</td>\n",
       "      <td>5.33</td>\n",
       "      <td>36.2</td>\n",
       "    </tr>\n",
       "  </tbody>\n",
       "</table>\n",
       "</div>"
      ],
      "text/plain": [
       "        0     1     2   3      4      5   ...  8      9     10      11    12    13\n",
       "0  0.00632  18.0  2.31   0  0.538  6.575  ...   1  296.0  15.3  396.90  4.98  24.0\n",
       "1  0.02731   0.0  7.07   0  0.469  6.421  ...   2  242.0  17.8  396.90  9.14  21.6\n",
       "2  0.02729   0.0  7.07   0  0.469  7.185  ...   2  242.0  17.8  392.83  4.03  34.7\n",
       "3  0.03237   0.0  2.18   0  0.458  6.998  ...   3  222.0  18.7  394.63  2.94  33.4\n",
       "4  0.06905   0.0  2.18   0  0.458  7.147  ...   3  222.0  18.7  396.90  5.33  36.2\n",
       "\n",
       "[5 rows x 14 columns]"
      ]
     },
     "execution_count": 3,
     "metadata": {},
     "output_type": "execute_result"
    }
   ],
   "source": [
    "df.head()"
   ]
  },
  {
   "cell_type": "code",
   "execution_count": 4,
   "metadata": {
    "colab": {
     "base_uri": "https://localhost:8080/"
    },
    "id": "dw-Qmzp3FZWZ",
    "outputId": "bc4f907f-56a4-430e-e70e-9ecdec3a5961"
   },
   "outputs": [
    {
     "data": {
      "text/plain": [
       "array([ 0,  1,  2,  3,  4,  5,  6,  7,  8,  9, 10, 11, 12, 13])"
      ]
     },
     "execution_count": 4,
     "metadata": {},
     "output_type": "execute_result"
    }
   ],
   "source": [
    "df.columns.values"
   ]
  },
  {
   "cell_type": "code",
   "execution_count": 5,
   "metadata": {
    "id": "ZZ2j0J9ZFbDT"
   },
   "outputs": [],
   "source": [
    "X, y = df.values[:, :-1], df.values[:, -1]"
   ]
  },
  {
   "cell_type": "code",
   "execution_count": 6,
   "metadata": {
    "colab": {
     "base_uri": "https://localhost:8080/"
    },
    "id": "YsEk2R3yFjVo",
    "outputId": "439a31d7-73f5-4b52-b819-a7d1321171be"
   },
   "outputs": [
    {
     "data": {
      "text/plain": [
       "((506, 13), (506,))"
      ]
     },
     "execution_count": 6,
     "metadata": {},
     "output_type": "execute_result"
    }
   ],
   "source": [
    "X.shape,y.shape"
   ]
  },
  {
   "cell_type": "code",
   "execution_count": 7,
   "metadata": {
    "colab": {
     "base_uri": "https://localhost:8080/"
    },
    "id": "W7NLNQESFmje",
    "outputId": "7f2f20b4-efec-4373-8442-1513a281533c"
   },
   "outputs": [
    {
     "data": {
      "text/plain": [
       "(numpy.ndarray, numpy.ndarray)"
      ]
     },
     "execution_count": 7,
     "metadata": {},
     "output_type": "execute_result"
    }
   ],
   "source": [
    "type(X),type(y)\n"
   ]
  },
  {
   "cell_type": "code",
   "execution_count": 8,
   "metadata": {
    "id": "K-_GrVxJFrFV"
   },
   "outputs": [],
   "source": [
    "X_train, X_test, y_train, y_test = train_test_split(X, y, test_size=0.20)"
   ]
  },
  {
   "cell_type": "code",
   "execution_count": 9,
   "metadata": {
    "id": "GYDn4-q2FuwL"
   },
   "outputs": [],
   "source": [
    "n_features = X_train.shape[1]\n",
    "model = Sequential()\n",
    "model.add(Dense(26, activation='relu', input_shape=(n_features,)))\n",
    "model.add(Dense(13, activation='relu'))\n",
    "model.add(Dense(1, activation='sigmoid'))\n",
    "#The input layer will consist of input features from the parameter input_shape. The first hidden layer has 26 nodes and the second hidden layer has 13 nodes and one node for predicting the values."
   ]
  },
  {
   "cell_type": "code",
   "execution_count": 10,
   "metadata": {
    "id": "reURibhgF1b6"
   },
   "outputs": [],
   "source": [
    "model.compile(optimizer='adam', loss='mse')"
   ]
  },
  {
   "cell_type": "code",
   "execution_count": 11,
   "metadata": {
    "colab": {
     "base_uri": "https://localhost:8080/"
    },
    "id": "I27l_St_GAcu",
    "outputId": "08d73ac9-8937-4f66-f40f-991688e53aa9"
   },
   "outputs": [
    {
     "name": "stdout",
     "output_type": "stream",
     "text": [
      "Epoch 1/150\n",
      "13/13 - 0s - loss: 579.9127\n",
      "Epoch 2/150\n",
      "13/13 - 0s - loss: 562.5925\n",
      "Epoch 3/150\n",
      "13/13 - 0s - loss: 557.3077\n",
      "Epoch 4/150\n",
      "13/13 - 0s - loss: 553.8832\n",
      "Epoch 5/150\n",
      "13/13 - 0s - loss: 553.7240\n",
      "Epoch 6/150\n",
      "13/13 - 0s - loss: 553.7240\n",
      "Epoch 7/150\n",
      "13/13 - 0s - loss: 553.7240\n",
      "Epoch 8/150\n",
      "13/13 - 0s - loss: 553.7239\n",
      "Epoch 9/150\n",
      "13/13 - 0s - loss: 553.7240\n",
      "Epoch 10/150\n",
      "13/13 - 0s - loss: 553.7240\n",
      "Epoch 11/150\n",
      "13/13 - 0s - loss: 553.7240\n",
      "Epoch 12/150\n",
      "13/13 - 0s - loss: 553.7239\n",
      "Epoch 13/150\n",
      "13/13 - 0s - loss: 553.7240\n",
      "Epoch 14/150\n",
      "13/13 - 0s - loss: 553.7240\n",
      "Epoch 15/150\n",
      "13/13 - 0s - loss: 553.7240\n",
      "Epoch 16/150\n",
      "13/13 - 0s - loss: 553.7239\n",
      "Epoch 17/150\n",
      "13/13 - 0s - loss: 553.7240\n",
      "Epoch 18/150\n",
      "13/13 - 0s - loss: 553.7240\n",
      "Epoch 19/150\n",
      "13/13 - 0s - loss: 553.7239\n",
      "Epoch 20/150\n",
      "13/13 - 0s - loss: 553.7240\n",
      "Epoch 21/150\n",
      "13/13 - 0s - loss: 553.7239\n",
      "Epoch 22/150\n",
      "13/13 - 0s - loss: 553.7240\n",
      "Epoch 23/150\n",
      "13/13 - 0s - loss: 553.7240\n",
      "Epoch 24/150\n",
      "13/13 - 0s - loss: 553.7241\n",
      "Epoch 25/150\n",
      "13/13 - 0s - loss: 553.7240\n",
      "Epoch 26/150\n",
      "13/13 - 0s - loss: 553.7240\n",
      "Epoch 27/150\n",
      "13/13 - 0s - loss: 553.7240\n",
      "Epoch 28/150\n",
      "13/13 - 0s - loss: 553.7240\n",
      "Epoch 29/150\n",
      "13/13 - 0s - loss: 553.7240\n",
      "Epoch 30/150\n",
      "13/13 - 0s - loss: 553.7240\n",
      "Epoch 31/150\n",
      "13/13 - 0s - loss: 553.7241\n",
      "Epoch 32/150\n",
      "13/13 - 0s - loss: 553.7240\n",
      "Epoch 33/150\n",
      "13/13 - 0s - loss: 553.7240\n",
      "Epoch 34/150\n",
      "13/13 - 0s - loss: 553.7240\n",
      "Epoch 35/150\n",
      "13/13 - 0s - loss: 553.7240\n",
      "Epoch 36/150\n",
      "13/13 - 0s - loss: 553.7240\n",
      "Epoch 37/150\n",
      "13/13 - 0s - loss: 553.7239\n",
      "Epoch 38/150\n",
      "13/13 - 0s - loss: 553.7240\n",
      "Epoch 39/150\n",
      "13/13 - 0s - loss: 553.7240\n",
      "Epoch 40/150\n",
      "13/13 - 0s - loss: 553.7240\n",
      "Epoch 41/150\n",
      "13/13 - 0s - loss: 553.7241\n",
      "Epoch 42/150\n",
      "13/13 - 0s - loss: 553.7241\n",
      "Epoch 43/150\n",
      "13/13 - 0s - loss: 553.7240\n",
      "Epoch 44/150\n",
      "13/13 - 0s - loss: 553.7240\n",
      "Epoch 45/150\n",
      "13/13 - 0s - loss: 553.7240\n",
      "Epoch 46/150\n",
      "13/13 - 0s - loss: 553.7240\n",
      "Epoch 47/150\n",
      "13/13 - 0s - loss: 553.7240\n",
      "Epoch 48/150\n",
      "13/13 - 0s - loss: 553.7240\n",
      "Epoch 49/150\n",
      "13/13 - 0s - loss: 553.7240\n",
      "Epoch 50/150\n",
      "13/13 - 0s - loss: 553.7241\n",
      "Epoch 51/150\n",
      "13/13 - 0s - loss: 553.7240\n",
      "Epoch 52/150\n",
      "13/13 - 0s - loss: 553.7240\n",
      "Epoch 53/150\n",
      "13/13 - 0s - loss: 553.7240\n",
      "Epoch 54/150\n",
      "13/13 - 0s - loss: 553.7240\n",
      "Epoch 55/150\n",
      "13/13 - 0s - loss: 553.7240\n",
      "Epoch 56/150\n",
      "13/13 - 0s - loss: 553.7239\n",
      "Epoch 57/150\n",
      "13/13 - 0s - loss: 553.7240\n",
      "Epoch 58/150\n",
      "13/13 - 0s - loss: 553.7240\n",
      "Epoch 59/150\n",
      "13/13 - 0s - loss: 553.7240\n",
      "Epoch 60/150\n",
      "13/13 - 0s - loss: 553.7240\n",
      "Epoch 61/150\n",
      "13/13 - 0s - loss: 553.7240\n",
      "Epoch 62/150\n",
      "13/13 - 0s - loss: 553.7240\n",
      "Epoch 63/150\n",
      "13/13 - 0s - loss: 553.7240\n",
      "Epoch 64/150\n",
      "13/13 - 0s - loss: 553.7241\n",
      "Epoch 65/150\n",
      "13/13 - 0s - loss: 553.7240\n",
      "Epoch 66/150\n",
      "13/13 - 0s - loss: 553.7240\n",
      "Epoch 67/150\n",
      "13/13 - 0s - loss: 553.7240\n",
      "Epoch 68/150\n",
      "13/13 - 0s - loss: 553.7240\n",
      "Epoch 69/150\n",
      "13/13 - 0s - loss: 553.7240\n",
      "Epoch 70/150\n",
      "13/13 - 0s - loss: 553.7240\n",
      "Epoch 71/150\n",
      "13/13 - 0s - loss: 553.7240\n",
      "Epoch 72/150\n",
      "13/13 - 0s - loss: 553.7241\n",
      "Epoch 73/150\n",
      "13/13 - 0s - loss: 553.7240\n",
      "Epoch 74/150\n",
      "13/13 - 0s - loss: 553.7240\n",
      "Epoch 75/150\n",
      "13/13 - 0s - loss: 553.7240\n",
      "Epoch 76/150\n",
      "13/13 - 0s - loss: 553.7240\n",
      "Epoch 77/150\n",
      "13/13 - 0s - loss: 553.7240\n",
      "Epoch 78/150\n",
      "13/13 - 0s - loss: 553.7240\n",
      "Epoch 79/150\n",
      "13/13 - 0s - loss: 553.7240\n",
      "Epoch 80/150\n",
      "13/13 - 0s - loss: 553.7240\n",
      "Epoch 81/150\n",
      "13/13 - 0s - loss: 553.7239\n",
      "Epoch 82/150\n",
      "13/13 - 0s - loss: 553.7240\n",
      "Epoch 83/150\n",
      "13/13 - 0s - loss: 553.7240\n",
      "Epoch 84/150\n",
      "13/13 - 0s - loss: 553.7239\n",
      "Epoch 85/150\n",
      "13/13 - 0s - loss: 553.7240\n",
      "Epoch 86/150\n",
      "13/13 - 0s - loss: 553.7240\n",
      "Epoch 87/150\n",
      "13/13 - 0s - loss: 553.7240\n",
      "Epoch 88/150\n",
      "13/13 - 0s - loss: 553.7241\n",
      "Epoch 89/150\n",
      "13/13 - 0s - loss: 553.7240\n",
      "Epoch 90/150\n",
      "13/13 - 0s - loss: 553.7240\n",
      "Epoch 91/150\n",
      "13/13 - 0s - loss: 553.7241\n",
      "Epoch 92/150\n",
      "13/13 - 0s - loss: 553.7240\n",
      "Epoch 93/150\n",
      "13/13 - 0s - loss: 553.7240\n",
      "Epoch 94/150\n",
      "13/13 - 0s - loss: 553.7239\n",
      "Epoch 95/150\n",
      "13/13 - 0s - loss: 553.7240\n",
      "Epoch 96/150\n",
      "13/13 - 0s - loss: 553.7240\n",
      "Epoch 97/150\n",
      "13/13 - 0s - loss: 553.7240\n",
      "Epoch 98/150\n",
      "13/13 - 0s - loss: 553.7240\n",
      "Epoch 99/150\n",
      "13/13 - 0s - loss: 553.7241\n",
      "Epoch 100/150\n",
      "13/13 - 0s - loss: 553.7241\n",
      "Epoch 101/150\n",
      "13/13 - 0s - loss: 553.7241\n",
      "Epoch 102/150\n",
      "13/13 - 0s - loss: 553.7240\n",
      "Epoch 103/150\n",
      "13/13 - 0s - loss: 553.7240\n",
      "Epoch 104/150\n",
      "13/13 - 0s - loss: 553.7240\n",
      "Epoch 105/150\n",
      "13/13 - 0s - loss: 553.7240\n",
      "Epoch 106/150\n",
      "13/13 - 0s - loss: 553.7240\n",
      "Epoch 107/150\n",
      "13/13 - 0s - loss: 553.7239\n",
      "Epoch 108/150\n",
      "13/13 - 0s - loss: 553.7240\n",
      "Epoch 109/150\n",
      "13/13 - 0s - loss: 553.7240\n",
      "Epoch 110/150\n",
      "13/13 - 0s - loss: 553.7240\n",
      "Epoch 111/150\n",
      "13/13 - 0s - loss: 553.7240\n",
      "Epoch 112/150\n",
      "13/13 - 0s - loss: 553.7241\n",
      "Epoch 113/150\n",
      "13/13 - 0s - loss: 553.7240\n",
      "Epoch 114/150\n",
      "13/13 - 0s - loss: 553.7240\n",
      "Epoch 115/150\n",
      "13/13 - 0s - loss: 553.7240\n",
      "Epoch 116/150\n",
      "13/13 - 0s - loss: 553.7240\n",
      "Epoch 117/150\n",
      "13/13 - 0s - loss: 553.7241\n",
      "Epoch 118/150\n",
      "13/13 - 0s - loss: 553.7240\n",
      "Epoch 119/150\n",
      "13/13 - 0s - loss: 553.7240\n",
      "Epoch 120/150\n",
      "13/13 - 0s - loss: 553.7240\n",
      "Epoch 121/150\n",
      "13/13 - 0s - loss: 553.7240\n",
      "Epoch 122/150\n",
      "13/13 - 0s - loss: 553.7239\n",
      "Epoch 123/150\n",
      "13/13 - 0s - loss: 553.7240\n",
      "Epoch 124/150\n",
      "13/13 - 0s - loss: 553.7240\n",
      "Epoch 125/150\n",
      "13/13 - 0s - loss: 553.7240\n",
      "Epoch 126/150\n",
      "13/13 - 0s - loss: 553.7240\n",
      "Epoch 127/150\n",
      "13/13 - 0s - loss: 553.7239\n",
      "Epoch 128/150\n",
      "13/13 - 0s - loss: 553.7240\n",
      "Epoch 129/150\n",
      "13/13 - 0s - loss: 553.7239\n",
      "Epoch 130/150\n",
      "13/13 - 0s - loss: 553.7240\n",
      "Epoch 131/150\n",
      "13/13 - 0s - loss: 553.7240\n",
      "Epoch 132/150\n",
      "13/13 - 0s - loss: 553.7240\n",
      "Epoch 133/150\n",
      "13/13 - 0s - loss: 553.7240\n",
      "Epoch 134/150\n",
      "13/13 - 0s - loss: 553.7240\n",
      "Epoch 135/150\n",
      "13/13 - 0s - loss: 553.7240\n",
      "Epoch 136/150\n",
      "13/13 - 0s - loss: 553.7241\n",
      "Epoch 137/150\n",
      "13/13 - 0s - loss: 553.7240\n",
      "Epoch 138/150\n",
      "13/13 - 0s - loss: 553.7240\n",
      "Epoch 139/150\n",
      "13/13 - 0s - loss: 553.7240\n",
      "Epoch 140/150\n",
      "13/13 - 0s - loss: 553.7240\n",
      "Epoch 141/150\n",
      "13/13 - 0s - loss: 553.7240\n",
      "Epoch 142/150\n",
      "13/13 - 0s - loss: 553.7240\n",
      "Epoch 143/150\n",
      "13/13 - 0s - loss: 553.7240\n",
      "Epoch 144/150\n",
      "13/13 - 0s - loss: 553.7240\n",
      "Epoch 145/150\n",
      "13/13 - 0s - loss: 553.7240\n",
      "Epoch 146/150\n",
      "13/13 - 0s - loss: 553.7240\n",
      "Epoch 147/150\n",
      "13/13 - 0s - loss: 553.7240\n",
      "Epoch 148/150\n",
      "13/13 - 0s - loss: 553.7240\n",
      "Epoch 149/150\n",
      "13/13 - 0s - loss: 553.7240\n",
      "Epoch 150/150\n",
      "13/13 - 0s - loss: 553.7240\n"
     ]
    },
    {
     "data": {
      "text/plain": [
       "<keras.callbacks.History at 0x7f12f2326e90>"
      ]
     },
     "execution_count": 11,
     "metadata": {},
     "output_type": "execute_result"
    }
   ],
   "source": [
    "model.fit(X_train, y_train, epochs=150, batch_size=32, verbose=2)"
   ]
  },
  {
   "cell_type": "code",
   "execution_count": 12,
   "metadata": {
    "colab": {
     "base_uri": "https://localhost:8080/"
    },
    "id": "cz_X9gIkGCHP",
    "outputId": "2b3ee1da-dc24-40e2-e777-7988f469ea61"
   },
   "outputs": [
    {
     "name": "stdout",
     "output_type": "stream",
     "text": [
      "4/4 - 0s - loss: 525.7319\n",
      "MSE: 525.732, RMSE: 22.929\n"
     ]
    }
   ],
   "source": [
    "error = model.evaluate(X_test, y_test, verbose=2)\n",
    "print('MSE: %.3f, RMSE: %.3f' % (error, np.sqrt(error)))"
   ]
  },
  {
   "cell_type": "code",
   "execution_count": 13,
   "metadata": {
    "colab": {
     "base_uri": "https://localhost:8080/"
    },
    "id": "jQeE3K50GPtF",
    "outputId": "0e22953f-73b3-45f7-e2fc-a4bdd2939a77"
   },
   "outputs": [
    {
     "name": "stdout",
     "output_type": "stream",
     "text": [
      "Predicted: 1.000\n"
     ]
    }
   ],
   "source": [
    "row = [0.00632,18.00,2.310,0,0.5380,6.5750,65.20,4.0900,1,296.0,15.30,396.90,4.98]\n",
    "yhat = model.predict([row])\n",
    "print('Predicted: %.3f' % yhat)"
   ]
  },
  {
   "cell_type": "code",
   "execution_count": 13,
   "metadata": {
    "id": "OEdYMtnKGiZt"
   },
   "outputs": [],
   "source": []
  }
 ],
 "metadata": {
  "colab": {
   "name": "Multi-Layer Perceptron-Regression Models.ipynb",
   "provenance": []
  },
  "kernelspec": {
   "display_name": "Python 3",
   "language": "python",
   "name": "python3"
  },
  "language_info": {
   "codemirror_mode": {
    "name": "ipython",
    "version": 3
   },
   "file_extension": ".py",
   "mimetype": "text/x-python",
   "name": "python",
   "nbconvert_exporter": "python",
   "pygments_lexer": "ipython3",
   "version": "3.6.5"
  }
 },
 "nbformat": 4,
 "nbformat_minor": 1
}
