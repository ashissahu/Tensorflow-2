{
 "cells": [
  {
   "cell_type": "code",
   "execution_count": 17,
   "metadata": {
    "id": "rvdr4PcOC-yq"
   },
   "outputs": [],
   "source": [
    "import pandas as pd\n",
    "import numpy as np\n",
    "from sklearn.model_selection import train_test_split\n",
    "from sklearn.preprocessing import LabelEncoder\n",
    "from tensorflow.keras import Sequential\n",
    "from tensorflow.keras.layers import Dense\n"
   ]
  },
  {
   "cell_type": "code",
   "execution_count": null,
   "metadata": {
    "id": "Dj0brS9rEnH3"
   },
   "outputs": [],
   "source": [
    "\n",
    "path ='https://raw.githubusercontent.com/jbrownlee/Datasets/master/iris.csv'\n",
    "df = pd.read_csv(path, header=None)"
   ]
  },
  {
   "cell_type": "code",
   "execution_count": 2,
   "metadata": {
    "colab": {
     "base_uri": "https://localhost:8080/",
     "height": 204
    },
    "id": "Hm7T777yDR2d",
    "outputId": "7121d2b6-ce09-47d0-f7e7-da88896c5e93"
   },
   "outputs": [
    {
     "data": {
      "text/html": [
       "<div>\n",
       "<style scoped>\n",
       "    .dataframe tbody tr th:only-of-type {\n",
       "        vertical-align: middle;\n",
       "    }\n",
       "\n",
       "    .dataframe tbody tr th {\n",
       "        vertical-align: top;\n",
       "    }\n",
       "\n",
       "    .dataframe thead th {\n",
       "        text-align: right;\n",
       "    }\n",
       "</style>\n",
       "<table border=\"1\" class=\"dataframe\">\n",
       "  <thead>\n",
       "    <tr style=\"text-align: right;\">\n",
       "      <th></th>\n",
       "      <th>0</th>\n",
       "      <th>1</th>\n",
       "      <th>2</th>\n",
       "      <th>3</th>\n",
       "      <th>4</th>\n",
       "    </tr>\n",
       "  </thead>\n",
       "  <tbody>\n",
       "    <tr>\n",
       "      <th>0</th>\n",
       "      <td>5.1</td>\n",
       "      <td>3.5</td>\n",
       "      <td>1.4</td>\n",
       "      <td>0.2</td>\n",
       "      <td>Iris-setosa</td>\n",
       "    </tr>\n",
       "    <tr>\n",
       "      <th>1</th>\n",
       "      <td>4.9</td>\n",
       "      <td>3.0</td>\n",
       "      <td>1.4</td>\n",
       "      <td>0.2</td>\n",
       "      <td>Iris-setosa</td>\n",
       "    </tr>\n",
       "    <tr>\n",
       "      <th>2</th>\n",
       "      <td>4.7</td>\n",
       "      <td>3.2</td>\n",
       "      <td>1.3</td>\n",
       "      <td>0.2</td>\n",
       "      <td>Iris-setosa</td>\n",
       "    </tr>\n",
       "    <tr>\n",
       "      <th>3</th>\n",
       "      <td>4.6</td>\n",
       "      <td>3.1</td>\n",
       "      <td>1.5</td>\n",
       "      <td>0.2</td>\n",
       "      <td>Iris-setosa</td>\n",
       "    </tr>\n",
       "    <tr>\n",
       "      <th>4</th>\n",
       "      <td>5.0</td>\n",
       "      <td>3.6</td>\n",
       "      <td>1.4</td>\n",
       "      <td>0.2</td>\n",
       "      <td>Iris-setosa</td>\n",
       "    </tr>\n",
       "  </tbody>\n",
       "</table>\n",
       "</div>"
      ],
      "text/plain": [
       "     0    1    2    3            4\n",
       "0  5.1  3.5  1.4  0.2  Iris-setosa\n",
       "1  4.9  3.0  1.4  0.2  Iris-setosa\n",
       "2  4.7  3.2  1.3  0.2  Iris-setosa\n",
       "3  4.6  3.1  1.5  0.2  Iris-setosa\n",
       "4  5.0  3.6  1.4  0.2  Iris-setosa"
      ]
     },
     "execution_count": 2,
     "metadata": {},
     "output_type": "execute_result"
    }
   ],
   "source": [
    "df.head()"
   ]
  },
  {
   "cell_type": "code",
   "execution_count": 3,
   "metadata": {
    "colab": {
     "base_uri": "https://localhost:8080/"
    },
    "id": "7XzzaePLDTUL",
    "outputId": "701f3347-f570-457b-c206-92c38410506c"
   },
   "outputs": [
    {
     "data": {
      "text/plain": [
       "array([0, 1, 2, 3, 4])"
      ]
     },
     "execution_count": 3,
     "metadata": {},
     "output_type": "execute_result"
    }
   ],
   "source": [
    "df.columns.values"
   ]
  },
  {
   "cell_type": "code",
   "execution_count": 4,
   "metadata": {
    "id": "ymveztyXDUtB"
   },
   "outputs": [],
   "source": [
    "X=df.drop(4,axis=1)\n",
    "y=df[4]"
   ]
  },
  {
   "cell_type": "code",
   "execution_count": 23,
   "metadata": {
    "colab": {
     "base_uri": "https://localhost:8080/"
    },
    "id": "HXlOpjZtE3Jh",
    "outputId": "fb0053bf-ced7-47e3-ce1a-b0b475208705"
   },
   "outputs": [
    {
     "data": {
      "text/plain": [
       "array([0, 1, 2])"
      ]
     },
     "execution_count": 23,
     "metadata": {},
     "output_type": "execute_result"
    }
   ],
   "source": [
    "np.unique(y)"
   ]
  },
  {
   "cell_type": "code",
   "execution_count": 5,
   "metadata": {
    "id": "OHikEEHeDjmq"
   },
   "outputs": [],
   "source": [
    "X = X.astype('float32')\n",
    "y = LabelEncoder().fit_transform(y)\n",
    "\n",
    "\n",
    "X_train, X_test, y_train, y_test = train_test_split(X, y, test_size=0.20)"
   ]
  },
  {
   "cell_type": "code",
   "execution_count": 6,
   "metadata": {
    "colab": {
     "base_uri": "https://localhost:8080/"
    },
    "id": "7pdcBWTmDng8",
    "outputId": "89cbadad-8d48-4de4-b501-b767c55c3753"
   },
   "outputs": [
    {
     "data": {
      "text/plain": [
       "(120, 4)"
      ]
     },
     "execution_count": 6,
     "metadata": {},
     "output_type": "execute_result"
    }
   ],
   "source": [
    "X_train.shape"
   ]
  },
  {
   "cell_type": "code",
   "execution_count": 7,
   "metadata": {
    "colab": {
     "base_uri": "https://localhost:8080/"
    },
    "id": "7ycfQNBSDsVB",
    "outputId": "08296e1f-9635-4386-f172-8f987f8a69c2"
   },
   "outputs": [
    {
     "data": {
      "text/plain": [
       "(30, 4)"
      ]
     },
     "execution_count": 7,
     "metadata": {},
     "output_type": "execute_result"
    }
   ],
   "source": [
    "X_test.shape"
   ]
  },
  {
   "cell_type": "code",
   "execution_count": 8,
   "metadata": {
    "id": "lNBAXVy5DvSc"
   },
   "outputs": [],
   "source": [
    "n_features = X_train.shape[1]\n",
    "\n",
    "model = Sequential()\n",
    "model.add(Dense(8, activation='relu', input_shape=(n_features,)))\n",
    "model.add(Dense(4, activation='relu'))\n",
    "model.add(Dense(3, activation='softmax'))"
   ]
  },
  {
   "cell_type": "code",
   "execution_count": 9,
   "metadata": {
    "id": "ybeE5-7yD2dP"
   },
   "outputs": [],
   "source": [
    "model.compile(optimizer='adam', loss='sparse_categorical_crossentropy', metrics=['accuracy'])"
   ]
  },
  {
   "cell_type": "code",
   "execution_count": 12,
   "metadata": {
    "colab": {
     "base_uri": "https://localhost:8080/"
    },
    "id": "Ui0zrGtMD5oU",
    "outputId": "dd177098-ab7f-4bb5-df05-637585937e3e"
   },
   "outputs": [
    {
     "name": "stdout",
     "output_type": "stream",
     "text": [
      "Epoch 1/150\n",
      "4/4 - 0s - loss: 0.3116 - accuracy: 0.9750\n",
      "Epoch 2/150\n",
      "4/4 - 0s - loss: 0.3095 - accuracy: 0.9833\n",
      "Epoch 3/150\n",
      "4/4 - 0s - loss: 0.3074 - accuracy: 0.9833\n",
      "Epoch 4/150\n",
      "4/4 - 0s - loss: 0.3049 - accuracy: 0.9833\n",
      "Epoch 5/150\n",
      "4/4 - 0s - loss: 0.3025 - accuracy: 0.9833\n",
      "Epoch 6/150\n",
      "4/4 - 0s - loss: 0.3004 - accuracy: 0.9833\n",
      "Epoch 7/150\n",
      "4/4 - 0s - loss: 0.2982 - accuracy: 0.9667\n",
      "Epoch 8/150\n",
      "4/4 - 0s - loss: 0.2962 - accuracy: 0.9750\n",
      "Epoch 9/150\n",
      "4/4 - 0s - loss: 0.2939 - accuracy: 0.9833\n",
      "Epoch 10/150\n",
      "4/4 - 0s - loss: 0.2917 - accuracy: 0.9833\n",
      "Epoch 11/150\n",
      "4/4 - 0s - loss: 0.2896 - accuracy: 0.9833\n",
      "Epoch 12/150\n",
      "4/4 - 0s - loss: 0.2876 - accuracy: 0.9833\n",
      "Epoch 13/150\n",
      "4/4 - 0s - loss: 0.2856 - accuracy: 0.9833\n",
      "Epoch 14/150\n",
      "4/4 - 0s - loss: 0.2837 - accuracy: 0.9833\n",
      "Epoch 15/150\n",
      "4/4 - 0s - loss: 0.2820 - accuracy: 0.9750\n",
      "Epoch 16/150\n",
      "4/4 - 0s - loss: 0.2799 - accuracy: 0.9750\n",
      "Epoch 17/150\n",
      "4/4 - 0s - loss: 0.2782 - accuracy: 0.9833\n",
      "Epoch 18/150\n",
      "4/4 - 0s - loss: 0.2760 - accuracy: 0.9833\n",
      "Epoch 19/150\n",
      "4/4 - 0s - loss: 0.2741 - accuracy: 0.9833\n",
      "Epoch 20/150\n",
      "4/4 - 0s - loss: 0.2723 - accuracy: 0.9833\n",
      "Epoch 21/150\n",
      "4/4 - 0s - loss: 0.2705 - accuracy: 0.9833\n",
      "Epoch 22/150\n",
      "4/4 - 0s - loss: 0.2689 - accuracy: 0.9833\n",
      "Epoch 23/150\n",
      "4/4 - 0s - loss: 0.2677 - accuracy: 0.9833\n",
      "Epoch 24/150\n",
      "4/4 - 0s - loss: 0.2652 - accuracy: 0.9833\n",
      "Epoch 25/150\n",
      "4/4 - 0s - loss: 0.2633 - accuracy: 0.9833\n",
      "Epoch 26/150\n",
      "4/4 - 0s - loss: 0.2619 - accuracy: 0.9833\n",
      "Epoch 27/150\n",
      "4/4 - 0s - loss: 0.2600 - accuracy: 0.9833\n",
      "Epoch 28/150\n",
      "4/4 - 0s - loss: 0.2582 - accuracy: 0.9833\n",
      "Epoch 29/150\n",
      "4/4 - 0s - loss: 0.2567 - accuracy: 0.9833\n",
      "Epoch 30/150\n",
      "4/4 - 0s - loss: 0.2552 - accuracy: 0.9833\n",
      "Epoch 31/150\n",
      "4/4 - 0s - loss: 0.2534 - accuracy: 0.9833\n",
      "Epoch 32/150\n",
      "4/4 - 0s - loss: 0.2517 - accuracy: 0.9833\n",
      "Epoch 33/150\n",
      "4/4 - 0s - loss: 0.2500 - accuracy: 0.9833\n",
      "Epoch 34/150\n",
      "4/4 - 0s - loss: 0.2484 - accuracy: 0.9833\n",
      "Epoch 35/150\n",
      "4/4 - 0s - loss: 0.2471 - accuracy: 0.9833\n",
      "Epoch 36/150\n",
      "4/4 - 0s - loss: 0.2454 - accuracy: 0.9833\n",
      "Epoch 37/150\n",
      "4/4 - 0s - loss: 0.2438 - accuracy: 0.9833\n",
      "Epoch 38/150\n",
      "4/4 - 0s - loss: 0.2423 - accuracy: 0.9833\n",
      "Epoch 39/150\n",
      "4/4 - 0s - loss: 0.2412 - accuracy: 0.9833\n",
      "Epoch 40/150\n",
      "4/4 - 0s - loss: 0.2400 - accuracy: 0.9833\n",
      "Epoch 41/150\n",
      "4/4 - 0s - loss: 0.2379 - accuracy: 0.9833\n",
      "Epoch 42/150\n",
      "4/4 - 0s - loss: 0.2362 - accuracy: 0.9833\n",
      "Epoch 43/150\n",
      "4/4 - 0s - loss: 0.2347 - accuracy: 0.9833\n",
      "Epoch 44/150\n",
      "4/4 - 0s - loss: 0.2344 - accuracy: 0.9833\n",
      "Epoch 45/150\n",
      "4/4 - 0s - loss: 0.2320 - accuracy: 0.9833\n",
      "Epoch 46/150\n",
      "4/4 - 0s - loss: 0.2304 - accuracy: 0.9833\n",
      "Epoch 47/150\n",
      "4/4 - 0s - loss: 0.2294 - accuracy: 0.9833\n",
      "Epoch 48/150\n",
      "4/4 - 0s - loss: 0.2280 - accuracy: 0.9833\n",
      "Epoch 49/150\n",
      "4/4 - 0s - loss: 0.2264 - accuracy: 0.9833\n",
      "Epoch 50/150\n",
      "4/4 - 0s - loss: 0.2251 - accuracy: 0.9833\n",
      "Epoch 51/150\n",
      "4/4 - 0s - loss: 0.2237 - accuracy: 0.9833\n",
      "Epoch 52/150\n",
      "4/4 - 0s - loss: 0.2223 - accuracy: 0.9833\n",
      "Epoch 53/150\n",
      "4/4 - 0s - loss: 0.2209 - accuracy: 0.9833\n",
      "Epoch 54/150\n",
      "4/4 - 0s - loss: 0.2197 - accuracy: 0.9833\n",
      "Epoch 55/150\n",
      "4/4 - 0s - loss: 0.2188 - accuracy: 0.9833\n",
      "Epoch 56/150\n",
      "4/4 - 0s - loss: 0.2171 - accuracy: 0.9833\n",
      "Epoch 57/150\n",
      "4/4 - 0s - loss: 0.2159 - accuracy: 0.9833\n",
      "Epoch 58/150\n",
      "4/4 - 0s - loss: 0.2145 - accuracy: 0.9833\n",
      "Epoch 59/150\n",
      "4/4 - 0s - loss: 0.2132 - accuracy: 0.9833\n",
      "Epoch 60/150\n",
      "4/4 - 0s - loss: 0.2119 - accuracy: 0.9833\n",
      "Epoch 61/150\n",
      "4/4 - 0s - loss: 0.2107 - accuracy: 0.9833\n",
      "Epoch 62/150\n",
      "4/4 - 0s - loss: 0.2095 - accuracy: 0.9833\n",
      "Epoch 63/150\n",
      "4/4 - 0s - loss: 0.2084 - accuracy: 0.9833\n",
      "Epoch 64/150\n",
      "4/4 - 0s - loss: 0.2071 - accuracy: 0.9833\n",
      "Epoch 65/150\n",
      "4/4 - 0s - loss: 0.2059 - accuracy: 0.9833\n",
      "Epoch 66/150\n",
      "4/4 - 0s - loss: 0.2047 - accuracy: 0.9833\n",
      "Epoch 67/150\n",
      "4/4 - 0s - loss: 0.2034 - accuracy: 0.9833\n",
      "Epoch 68/150\n",
      "4/4 - 0s - loss: 0.2042 - accuracy: 0.9833\n",
      "Epoch 69/150\n",
      "4/4 - 0s - loss: 0.2011 - accuracy: 0.9833\n",
      "Epoch 70/150\n",
      "4/4 - 0s - loss: 0.1999 - accuracy: 0.9833\n",
      "Epoch 71/150\n",
      "4/4 - 0s - loss: 0.1992 - accuracy: 0.9833\n",
      "Epoch 72/150\n",
      "4/4 - 0s - loss: 0.1978 - accuracy: 0.9833\n",
      "Epoch 73/150\n",
      "4/4 - 0s - loss: 0.1965 - accuracy: 0.9833\n",
      "Epoch 74/150\n",
      "4/4 - 0s - loss: 0.1954 - accuracy: 0.9833\n",
      "Epoch 75/150\n",
      "4/4 - 0s - loss: 0.1944 - accuracy: 0.9833\n",
      "Epoch 76/150\n",
      "4/4 - 0s - loss: 0.1933 - accuracy: 0.9833\n",
      "Epoch 77/150\n",
      "4/4 - 0s - loss: 0.1923 - accuracy: 0.9833\n",
      "Epoch 78/150\n",
      "4/4 - 0s - loss: 0.1913 - accuracy: 0.9833\n",
      "Epoch 79/150\n",
      "4/4 - 0s - loss: 0.1903 - accuracy: 0.9833\n",
      "Epoch 80/150\n",
      "4/4 - 0s - loss: 0.1895 - accuracy: 0.9833\n",
      "Epoch 81/150\n",
      "4/4 - 0s - loss: 0.1891 - accuracy: 0.9833\n",
      "Epoch 82/150\n",
      "4/4 - 0s - loss: 0.1871 - accuracy: 0.9833\n",
      "Epoch 83/150\n",
      "4/4 - 0s - loss: 0.1860 - accuracy: 0.9833\n",
      "Epoch 84/150\n",
      "4/4 - 0s - loss: 0.1850 - accuracy: 0.9833\n",
      "Epoch 85/150\n",
      "4/4 - 0s - loss: 0.1841 - accuracy: 0.9833\n",
      "Epoch 86/150\n",
      "4/4 - 0s - loss: 0.1830 - accuracy: 0.9833\n",
      "Epoch 87/150\n",
      "4/4 - 0s - loss: 0.1820 - accuracy: 0.9833\n",
      "Epoch 88/150\n",
      "4/4 - 0s - loss: 0.1810 - accuracy: 0.9833\n",
      "Epoch 89/150\n",
      "4/4 - 0s - loss: 0.1802 - accuracy: 0.9833\n",
      "Epoch 90/150\n",
      "4/4 - 0s - loss: 0.1805 - accuracy: 0.9833\n",
      "Epoch 91/150\n",
      "4/4 - 0s - loss: 0.1782 - accuracy: 0.9833\n",
      "Epoch 92/150\n",
      "4/4 - 0s - loss: 0.1772 - accuracy: 0.9833\n",
      "Epoch 93/150\n",
      "4/4 - 0s - loss: 0.1764 - accuracy: 0.9833\n",
      "Epoch 94/150\n",
      "4/4 - 0s - loss: 0.1755 - accuracy: 0.9833\n",
      "Epoch 95/150\n",
      "4/4 - 0s - loss: 0.1751 - accuracy: 0.9833\n",
      "Epoch 96/150\n",
      "4/4 - 0s - loss: 0.1741 - accuracy: 0.9833\n",
      "Epoch 97/150\n",
      "4/4 - 0s - loss: 0.1727 - accuracy: 0.9833\n",
      "Epoch 98/150\n",
      "4/4 - 0s - loss: 0.1722 - accuracy: 0.9833\n",
      "Epoch 99/150\n",
      "4/4 - 0s - loss: 0.1709 - accuracy: 0.9833\n",
      "Epoch 100/150\n",
      "4/4 - 0s - loss: 0.1701 - accuracy: 0.9833\n",
      "Epoch 101/150\n",
      "4/4 - 0s - loss: 0.1694 - accuracy: 0.9833\n",
      "Epoch 102/150\n",
      "4/4 - 0s - loss: 0.1684 - accuracy: 0.9833\n",
      "Epoch 103/150\n",
      "4/4 - 0s - loss: 0.1681 - accuracy: 0.9833\n",
      "Epoch 104/150\n",
      "4/4 - 0s - loss: 0.1667 - accuracy: 0.9833\n",
      "Epoch 105/150\n",
      "4/4 - 0s - loss: 0.1658 - accuracy: 0.9833\n",
      "Epoch 106/150\n",
      "4/4 - 0s - loss: 0.1653 - accuracy: 0.9833\n",
      "Epoch 107/150\n",
      "4/4 - 0s - loss: 0.1643 - accuracy: 0.9833\n",
      "Epoch 108/150\n",
      "4/4 - 0s - loss: 0.1638 - accuracy: 0.9833\n",
      "Epoch 109/150\n",
      "4/4 - 0s - loss: 0.1624 - accuracy: 0.9833\n",
      "Epoch 110/150\n",
      "4/4 - 0s - loss: 0.1618 - accuracy: 0.9833\n",
      "Epoch 111/150\n",
      "4/4 - 0s - loss: 0.1611 - accuracy: 0.9833\n",
      "Epoch 112/150\n",
      "4/4 - 0s - loss: 0.1605 - accuracy: 0.9833\n",
      "Epoch 113/150\n",
      "4/4 - 0s - loss: 0.1595 - accuracy: 0.9833\n",
      "Epoch 114/150\n",
      "4/4 - 0s - loss: 0.1587 - accuracy: 0.9833\n",
      "Epoch 115/150\n",
      "4/4 - 0s - loss: 0.1580 - accuracy: 0.9833\n",
      "Epoch 116/150\n",
      "4/4 - 0s - loss: 0.1575 - accuracy: 0.9833\n",
      "Epoch 117/150\n",
      "4/4 - 0s - loss: 0.1567 - accuracy: 0.9833\n",
      "Epoch 118/150\n",
      "4/4 - 0s - loss: 0.1560 - accuracy: 0.9833\n",
      "Epoch 119/150\n",
      "4/4 - 0s - loss: 0.1551 - accuracy: 0.9833\n",
      "Epoch 120/150\n",
      "4/4 - 0s - loss: 0.1543 - accuracy: 0.9833\n",
      "Epoch 121/150\n",
      "4/4 - 0s - loss: 0.1536 - accuracy: 0.9833\n",
      "Epoch 122/150\n",
      "4/4 - 0s - loss: 0.1535 - accuracy: 0.9833\n",
      "Epoch 123/150\n",
      "4/4 - 0s - loss: 0.1522 - accuracy: 0.9833\n",
      "Epoch 124/150\n",
      "4/4 - 0s - loss: 0.1516 - accuracy: 0.9833\n",
      "Epoch 125/150\n",
      "4/4 - 0s - loss: 0.1507 - accuracy: 0.9833\n",
      "Epoch 126/150\n",
      "4/4 - 0s - loss: 0.1503 - accuracy: 0.9833\n",
      "Epoch 127/150\n",
      "4/4 - 0s - loss: 0.1496 - accuracy: 0.9833\n",
      "Epoch 128/150\n",
      "4/4 - 0s - loss: 0.1490 - accuracy: 0.9833\n",
      "Epoch 129/150\n",
      "4/4 - 0s - loss: 0.1479 - accuracy: 0.9833\n",
      "Epoch 130/150\n",
      "4/4 - 0s - loss: 0.1475 - accuracy: 0.9833\n",
      "Epoch 131/150\n",
      "4/4 - 0s - loss: 0.1469 - accuracy: 0.9833\n",
      "Epoch 132/150\n",
      "4/4 - 0s - loss: 0.1461 - accuracy: 0.9833\n",
      "Epoch 133/150\n",
      "4/4 - 0s - loss: 0.1455 - accuracy: 0.9833\n",
      "Epoch 134/150\n",
      "4/4 - 0s - loss: 0.1449 - accuracy: 0.9833\n",
      "Epoch 135/150\n",
      "4/4 - 0s - loss: 0.1442 - accuracy: 0.9833\n",
      "Epoch 136/150\n",
      "4/4 - 0s - loss: 0.1437 - accuracy: 0.9833\n",
      "Epoch 137/150\n",
      "4/4 - 0s - loss: 0.1433 - accuracy: 0.9833\n",
      "Epoch 138/150\n",
      "4/4 - 0s - loss: 0.1425 - accuracy: 0.9833\n",
      "Epoch 139/150\n",
      "4/4 - 0s - loss: 0.1418 - accuracy: 0.9833\n",
      "Epoch 140/150\n",
      "4/4 - 0s - loss: 0.1411 - accuracy: 0.9833\n",
      "Epoch 141/150\n",
      "4/4 - 0s - loss: 0.1405 - accuracy: 0.9833\n",
      "Epoch 142/150\n",
      "4/4 - 0s - loss: 0.1400 - accuracy: 0.9833\n",
      "Epoch 143/150\n",
      "4/4 - 0s - loss: 0.1397 - accuracy: 0.9833\n",
      "Epoch 144/150\n",
      "4/4 - 0s - loss: 0.1387 - accuracy: 0.9833\n",
      "Epoch 145/150\n",
      "4/4 - 0s - loss: 0.1391 - accuracy: 0.9833\n",
      "Epoch 146/150\n",
      "4/4 - 0s - loss: 0.1378 - accuracy: 0.9833\n",
      "Epoch 147/150\n",
      "4/4 - 0s - loss: 0.1373 - accuracy: 0.9833\n",
      "Epoch 148/150\n",
      "4/4 - 0s - loss: 0.1367 - accuracy: 0.9833\n",
      "Epoch 149/150\n",
      "4/4 - 0s - loss: 0.1364 - accuracy: 0.9833\n",
      "Epoch 150/150\n",
      "4/4 - 0s - loss: 0.1352 - accuracy: 0.9833\n"
     ]
    },
    {
     "data": {
      "text/plain": [
       "<keras.callbacks.History at 0x7f5f7e1da510>"
      ]
     },
     "execution_count": 12,
     "metadata": {},
     "output_type": "execute_result"
    }
   ],
   "source": [
    "model.fit(X_train, y_train, epochs=150, batch_size=32, verbose=2)"
   ]
  },
  {
   "cell_type": "code",
   "execution_count": 13,
   "metadata": {
    "colab": {
     "base_uri": "https://localhost:8080/"
    },
    "id": "ut7JqkC8D73K",
    "outputId": "012a8a9d-978e-49fe-9048-90ebac2f224d"
   },
   "outputs": [
    {
     "name": "stdout",
     "output_type": "stream",
     "text": [
      "1/1 - 0s - loss: 0.1285 - accuracy: 0.9667\n",
      "Test Accuracy: 0.967\n"
     ]
    }
   ],
   "source": [
    "loss, acc = model.evaluate(X_test, y_test, verbose=2)\n",
    "print('Test Accuracy: %.3f' % acc)"
   ]
  },
  {
   "cell_type": "code",
   "execution_count": 21,
   "metadata": {
    "colab": {
     "base_uri": "https://localhost:8080/"
    },
    "id": "28LbzbvVD-A_",
    "outputId": "f0eb009f-4fef-404c-803c-b3398cc4f039"
   },
   "outputs": [
    {
     "name": "stdout",
     "output_type": "stream",
     "text": [
      "Predicted: [[9.8481131e-01 1.5188736e-02 8.9091348e-09]] (class=0)\n"
     ]
    }
   ],
   "source": [
    "row = [5.1,3.5,1.4,0.2]\n",
    "yhat = model.predict([row])\n",
    "\n",
    "print('Predicted: %s (class=%d)' % (yhat, np.argmax(yhat)))"
   ]
  },
  {
   "cell_type": "markdown",
   "metadata": {
    "id": "Go8SFVKKFHd1"
   },
   "source": [
    "The predicted probability of row for each class is given, and among that, class 0 has the highest probability. Therefore, it is predicted that it belongs to class "
   ]
  },
  {
   "cell_type": "code",
   "execution_count": null,
   "metadata": {
    "id": "p5SeVAl6EGJg"
   },
   "outputs": [],
   "source": []
  }
 ],
 "metadata": {
  "colab": {
   "name": "Multi-Layer Perceptron-Multi Class Classification Models..ipynb",
   "provenance": []
  },
  "kernelspec": {
   "display_name": "Python 3",
   "language": "python",
   "name": "python3"
  },
  "language_info": {
   "codemirror_mode": {
    "name": "ipython",
    "version": 3
   },
   "file_extension": ".py",
   "mimetype": "text/x-python",
   "name": "python",
   "nbconvert_exporter": "python",
   "pygments_lexer": "ipython3",
   "version": "3.6.5"
  }
 },
 "nbformat": 4,
 "nbformat_minor": 1
}
