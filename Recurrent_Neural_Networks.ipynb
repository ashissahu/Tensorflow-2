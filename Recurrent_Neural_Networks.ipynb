{
 "cells": [
  {
   "cell_type": "markdown",
   "metadata": {
    "id": "WSO4cfqWKLmR"
   },
   "source": [
    "RNNs are designed to operate on a sequence of data.\n",
    "\n",
    "- It has proven to be successful and effective on Natural Language Processing problems where the text sequence is provided as the input to the model.\n",
    "- In this example, we will look at the most popular type of RNN, Long Short Term Memory (LSTM).\n",
    "- It can be used in a model to accept a sequence of data as input and make a prediction such as assigning a class label or predicting numerical value like the next value or values in the sequence.\n",
    "- Here, we will be using a car sales dataset to demonstrate an LSTM RNN for univariate time series forecasting.\n",
    "- It involves predicting the number of car sales per month. "
   ]
  },
  {
   "cell_type": "code",
   "execution_count": 28,
   "metadata": {
    "id": "hhgbUD-sJtit"
   },
   "outputs": [],
   "source": [
    "import numpy as np\n",
    "import pandas as pd\n",
    "from sklearn.model_selection import train_test_split\n",
    "from tensorflow.keras import Sequential\n",
    "from tensorflow.keras.layers import Dense\n",
    "from tensorflow.keras.layers import LSTM"
   ]
  },
  {
   "cell_type": "code",
   "execution_count": 3,
   "metadata": {
    "id": "vG-tiavQJ6Lk"
   },
   "outputs": [],
   "source": [
    "path = 'https://raw.githubusercontent.com/jbrownlee/Datasets/master/monthly-car-sales.csv'\n",
    "df = pd.read_csv(path, header=0, index_col=0, squeeze=True)"
   ]
  },
  {
   "cell_type": "code",
   "execution_count": 4,
   "metadata": {
    "colab": {
     "base_uri": "https://localhost:8080/"
    },
    "id": "-QF2Htb9J9W7",
    "outputId": "5afa94bc-766b-448d-eb99-92f0b86c7b59"
   },
   "outputs": [
    {
     "data": {
      "text/plain": [
       "Month\n",
       "1960-01     6550\n",
       "1960-02     8728\n",
       "1960-03    12026\n",
       "1960-04    14395\n",
       "1960-05    14587\n",
       "1960-06    13791\n",
       "1960-07     9498\n",
       "1960-08     8251\n",
       "1960-09     7049\n",
       "1960-10     9545\n",
       "1960-11     9364\n",
       "1960-12     8456\n",
       "1961-01     7237\n",
       "1961-02     9374\n",
       "1961-03    11837\n",
       "1961-04    13784\n",
       "1961-05    15926\n",
       "1961-06    13821\n",
       "1961-07    11143\n",
       "1961-08     7975\n",
       "Name: Sales, dtype: int64"
      ]
     },
     "execution_count": 4,
     "metadata": {},
     "output_type": "execute_result"
    }
   ],
   "source": [
    "df.head(20)"
   ]
  },
  {
   "cell_type": "code",
   "execution_count": 21,
   "metadata": {
    "id": "-Ad2bEibJ-hE"
   },
   "outputs": [],
   "source": [
    "#Splitting Sequence into Samples\n",
    "\n",
    "#We will approach this problem by taking a window of the last five months of data to predict the current month's data.\n",
    "\n",
    "#To achieve this, we will define a function split_sequence(), which will split the sequence of windows of data, \n",
    "#which is appropriate for fitting a supervised model like LSTM.\n",
    "\n",
    "def split_sequence(sequence, n_steps):\n",
    "  X, y = list(), list()\n",
    "  for i in range(len(sequence)):\n",
    "    end_ix = i + n_steps\n",
    "    if end_ix > len(sequence)-1:\n",
    "      break\n",
    "    seq_x, seq_y = sequence[i:end_ix], sequence[end_ix]\n",
    "    #print(seq_x)\n",
    "    #print(seq_y)\n",
    "    X.append(seq_x)\n",
    "    y.append(seq_y)\n",
    "  return np.asarray(X), np.asarray(y)"
   ]
  },
  {
   "cell_type": "code",
   "execution_count": 22,
   "metadata": {
    "id": "PcpEn3iAaHrx"
   },
   "outputs": [],
   "source": [
    "#convert the data type of the values of the DataFrame to float and specify the window size to split the sequence into samples.\n",
    "\n",
    "values = df.values.astype('float32')\n",
    "n_steps = 5"
   ]
  },
  {
   "cell_type": "code",
   "execution_count": 23,
   "metadata": {
    "id": "AmfoPZNccGqD"
   },
   "outputs": [],
   "source": [
    "\n",
    "#Now, let us call the function to split the sequence into samples.\n",
    "\n",
    "X, y = split_sequence(values, n_steps)"
   ]
  },
  {
   "cell_type": "code",
   "execution_count": 24,
   "metadata": {
    "colab": {
     "base_uri": "https://localhost:8080/"
    },
    "id": "WBj0WFpPcGtT",
    "outputId": "e9c5553a-1f02-4f2f-9c05-16d71ad70f16"
   },
   "outputs": [
    {
     "data": {
      "text/plain": [
       "array([[ 6550.,  8728., 12026., 14395., 14587.],\n",
       "       [ 8728., 12026., 14395., 14587., 13791.],\n",
       "       [12026., 14395., 14587., 13791.,  9498.],\n",
       "       [14395., 14587., 13791.,  9498.,  8251.],\n",
       "       [14587., 13791.,  9498.,  8251.,  7049.],\n",
       "       [13791.,  9498.,  8251.,  7049.,  9545.],\n",
       "       [ 9498.,  8251.,  7049.,  9545.,  9364.],\n",
       "       [ 8251.,  7049.,  9545.,  9364.,  8456.],\n",
       "       [ 7049.,  9545.,  9364.,  8456.,  7237.],\n",
       "       [ 9545.,  9364.,  8456.,  7237.,  9374.]], dtype=float32)"
      ]
     },
     "execution_count": 24,
     "metadata": {},
     "output_type": "execute_result"
    }
   ],
   "source": [
    "X[:10]"
   ]
  },
  {
   "cell_type": "code",
   "execution_count": 25,
   "metadata": {
    "colab": {
     "base_uri": "https://localhost:8080/"
    },
    "id": "tC3i3ZVpcXmK",
    "outputId": "0973a78b-f542-4e18-9d71-ae7ed6c0530d"
   },
   "outputs": [
    {
     "data": {
      "text/plain": [
       "array([13791.,  9498.,  8251.,  7049.,  9545.,  9364.,  8456.,  7237.,\n",
       "        9374., 11837.], dtype=float32)"
      ]
     },
     "execution_count": 25,
     "metadata": {},
     "output_type": "execute_result"
    }
   ],
   "source": [
    "y[:10]"
   ]
  },
  {
   "cell_type": "code",
   "execution_count": 17,
   "metadata": {
    "colab": {
     "base_uri": "https://localhost:8080/"
    },
    "id": "hKHrlyHOcYCv",
    "outputId": "c6ad9548-d647-47d3-f0ac-cd41bc1edd4c"
   },
   "outputs": [
    {
     "data": {
      "text/plain": [
       "((103, 5), (103,))"
      ]
     },
     "execution_count": 17,
     "metadata": {},
     "output_type": "execute_result"
    }
   ],
   "source": [
    "X.shape,y.shape"
   ]
  },
  {
   "cell_type": "code",
   "execution_count": null,
   "metadata": {
    "id": "G48qsHNzcYFj"
   },
   "outputs": [],
   "source": []
  },
  {
   "cell_type": "code",
   "execution_count": 26,
   "metadata": {
    "colab": {
     "base_uri": "https://localhost:8080/"
    },
    "id": "Fnihr0uLbw7v",
    "outputId": "b89569d3-3dec-4b78-f2b7-c1a735584420"
   },
   "outputs": [
    {
     "name": "stdout",
     "output_type": "stream",
     "text": [
      "(103, 5, 1)\n"
     ]
    }
   ],
   "source": [
    "\n",
    "#Let us reshape the data X into samples, timesteps, and features.\n",
    "\n",
    "X = X.reshape((X.shape[0], X.shape[1], 1))\n",
    "print(X.shape)\n",
    "\n"
   ]
  },
  {
   "cell_type": "code",
   "execution_count": 29,
   "metadata": {
    "id": "E56NppE4ct8-"
   },
   "outputs": [],
   "source": [
    "#Let us split up the dataset as train and test datasets.\n",
    "\n",
    "X_train, X_test, y_train, y_test = train_test_split(X, y, test_size=0.33)\n",
    "#Here, the dataset is split up into the train and test datasets, where 77% of the data will be in the training dataset, and the remaining 33% will be the test dataset."
   ]
  },
  {
   "cell_type": "code",
   "execution_count": 30,
   "metadata": {
    "colab": {
     "base_uri": "https://localhost:8080/"
    },
    "id": "qXLi7VbKcyRw",
    "outputId": "4c4823b7-205e-4451-ebc8-fd9691d619a9"
   },
   "outputs": [
    {
     "data": {
      "text/plain": [
       "((69, 5, 1), (34, 5, 1), (69,), (34,))"
      ]
     },
     "execution_count": 30,
     "metadata": {},
     "output_type": "execute_result"
    }
   ],
   "source": [
    "X_train.shape, X_test.shape, y_train.shape, y_test.shape"
   ]
  },
  {
   "cell_type": "markdown",
   "metadata": {
    "id": "YJb3V_J7c5V3"
   },
   "source": [
    "# Defining the Model"
   ]
  },
  {
   "cell_type": "code",
   "execution_count": 31,
   "metadata": {
    "id": "LUYQZAHGc6XP"
   },
   "outputs": [],
   "source": [
    "model = Sequential()\n",
    "model.add(LSTM(100, activation='relu', input_shape=(n_steps,1)))\n",
    "model.add(Dense(50, activation='relu'))\n",
    "model.add(Dense(50, activation='relu'))\n",
    "model.add(Dense(1))\n",
    "\n",
    "#Here, the model has been defined, and appropriate input and output layers are given. \n",
    "#The input layer will consist of n_steps from the parameter input_shape. \n",
    "#The first hidden layer has 100 nodes, which is an LSTM layer with the activation layer as relu, \n",
    "#and the next two layers are Dense layers, with both having 50 nodes and the activation layer as relu. \n",
    "#The output layer has one node."
   ]
  },
  {
   "cell_type": "markdown",
   "metadata": {
    "id": "91g9w6BodQf-"
   },
   "source": [
    "# Compiling the Model"
   ]
  },
  {
   "cell_type": "code",
   "execution_count": 32,
   "metadata": {
    "id": "qbUPqqcMdMjy"
   },
   "outputs": [],
   "source": [
    "model.compile(optimizer='adam', loss='mse', metrics=['mae'])"
   ]
  },
  {
   "cell_type": "markdown",
   "metadata": {
    "id": "IdTOX_XJdVd4"
   },
   "source": [
    "# Fitting the Model"
   ]
  },
  {
   "cell_type": "code",
   "execution_count": 33,
   "metadata": {
    "colab": {
     "base_uri": "https://localhost:8080/"
    },
    "id": "o-uH7UZkdUwr",
    "outputId": "1f9ebcf4-5bf7-4668-d865-c7444501404d"
   },
   "outputs": [
    {
     "name": "stdout",
     "output_type": "stream",
     "text": [
      "Epoch 1/350\n",
      "3/3 - 2s - loss: 226043392.0000 - mae: 14423.2109\n",
      "Epoch 2/350\n",
      "3/3 - 0s - loss: 209542368.0000 - mae: 13825.4443\n",
      "Epoch 3/350\n",
      "3/3 - 0s - loss: 191797904.0000 - mae: 13230.5293\n",
      "Epoch 4/350\n",
      "3/3 - 0s - loss: 177354352.0000 - mae: 12676.0703\n",
      "Epoch 5/350\n",
      "3/3 - 0s - loss: 153113968.0000 - mae: 11707.4727\n",
      "Epoch 6/350\n",
      "3/3 - 0s - loss: 126181672.0000 - mae: 10495.3037\n",
      "Epoch 7/350\n",
      "3/3 - 0s - loss: 91689088.0000 - mae: 8790.9512\n",
      "Epoch 8/350\n",
      "3/3 - 0s - loss: 61878540.0000 - mae: 6788.0479\n",
      "Epoch 9/350\n",
      "3/3 - 0s - loss: 33637404.0000 - mae: 4666.8647\n",
      "Epoch 10/350\n",
      "3/3 - 0s - loss: 23151254.0000 - mae: 3911.8210\n",
      "Epoch 11/350\n",
      "3/3 - 0s - loss: 22422182.0000 - mae: 3726.7578\n",
      "Epoch 12/350\n",
      "3/3 - 0s - loss: 25730298.0000 - mae: 3974.4116\n",
      "Epoch 13/350\n",
      "3/3 - 0s - loss: 22988512.0000 - mae: 3878.4709\n",
      "Epoch 14/350\n",
      "3/3 - 0s - loss: 18835316.0000 - mae: 3534.7329\n",
      "Epoch 15/350\n",
      "3/3 - 0s - loss: 17547538.0000 - mae: 3274.3635\n",
      "Epoch 16/350\n",
      "3/3 - 0s - loss: 15654114.0000 - mae: 3164.6653\n",
      "Epoch 17/350\n",
      "3/3 - 0s - loss: 13402199.0000 - mae: 2923.9570\n",
      "Epoch 18/350\n",
      "3/3 - 0s - loss: 13926518.0000 - mae: 3016.8066\n",
      "Epoch 19/350\n",
      "3/3 - 0s - loss: 14407313.0000 - mae: 2996.3687\n",
      "Epoch 20/350\n",
      "3/3 - 0s - loss: 15072435.0000 - mae: 3058.0869\n",
      "Epoch 21/350\n",
      "3/3 - 0s - loss: 14174186.0000 - mae: 2948.2661\n",
      "Epoch 22/350\n",
      "3/3 - 0s - loss: 13098520.0000 - mae: 2799.3474\n",
      "Epoch 23/350\n",
      "3/3 - 0s - loss: 13652873.0000 - mae: 2935.3401\n",
      "Epoch 24/350\n",
      "3/3 - 0s - loss: 13736631.0000 - mae: 2978.9578\n",
      "Epoch 25/350\n",
      "3/3 - 0s - loss: 13261029.0000 - mae: 2879.7471\n",
      "Epoch 26/350\n",
      "3/3 - 0s - loss: 14430841.0000 - mae: 3017.1641\n",
      "Epoch 27/350\n",
      "3/3 - 0s - loss: 14812130.0000 - mae: 3054.7454\n",
      "Epoch 28/350\n",
      "3/3 - 0s - loss: 14486864.0000 - mae: 3003.8796\n",
      "Epoch 29/350\n",
      "3/3 - 0s - loss: 13501198.0000 - mae: 2902.6770\n",
      "Epoch 30/350\n",
      "3/3 - 0s - loss: 13429869.0000 - mae: 2917.2471\n",
      "Epoch 31/350\n",
      "3/3 - 0s - loss: 12763398.0000 - mae: 2758.4937\n",
      "Epoch 32/350\n",
      "3/3 - 0s - loss: 17832882.0000 - mae: 3362.5488\n",
      "Epoch 33/350\n",
      "3/3 - 0s - loss: 15064840.0000 - mae: 3153.9949\n",
      "Epoch 34/350\n",
      "3/3 - 0s - loss: 13445860.0000 - mae: 2903.7178\n",
      "Epoch 35/350\n",
      "3/3 - 0s - loss: 12336608.0000 - mae: 2744.8469\n",
      "Epoch 36/350\n",
      "3/3 - 0s - loss: 11913397.0000 - mae: 2743.3438\n",
      "Epoch 37/350\n",
      "3/3 - 0s - loss: 12733699.0000 - mae: 2779.9878\n",
      "Epoch 38/350\n",
      "3/3 - 0s - loss: 11534530.0000 - mae: 2657.9746\n",
      "Epoch 39/350\n",
      "3/3 - 0s - loss: 11049802.0000 - mae: 2657.8291\n",
      "Epoch 40/350\n",
      "3/3 - 0s - loss: 11464291.0000 - mae: 2678.7017\n",
      "Epoch 41/350\n",
      "3/3 - 0s - loss: 11112787.0000 - mae: 2613.3618\n",
      "Epoch 42/350\n",
      "3/3 - 0s - loss: 10164565.0000 - mae: 2574.7161\n",
      "Epoch 43/350\n",
      "3/3 - 0s - loss: 9705164.0000 - mae: 2468.2109\n",
      "Epoch 44/350\n",
      "3/3 - 0s - loss: 10973977.0000 - mae: 2668.9297\n",
      "Epoch 45/350\n",
      "3/3 - 0s - loss: 11886510.0000 - mae: 2691.8984\n",
      "Epoch 46/350\n",
      "3/3 - 0s - loss: 10092019.0000 - mae: 2452.8579\n",
      "Epoch 47/350\n",
      "3/3 - 0s - loss: 11602901.0000 - mae: 2714.1035\n",
      "Epoch 48/350\n",
      "3/3 - 0s - loss: 11962950.0000 - mae: 2729.4077\n",
      "Epoch 49/350\n",
      "3/3 - 0s - loss: 10332228.0000 - mae: 2588.2505\n",
      "Epoch 50/350\n",
      "3/3 - 0s - loss: 9391766.0000 - mae: 2493.1541\n",
      "Epoch 51/350\n",
      "3/3 - 0s - loss: 10129377.0000 - mae: 2559.5947\n",
      "Epoch 52/350\n",
      "3/3 - 0s - loss: 10510117.0000 - mae: 2557.4290\n",
      "Epoch 53/350\n",
      "3/3 - 0s - loss: 11539135.0000 - mae: 2698.6577\n",
      "Epoch 54/350\n",
      "3/3 - 0s - loss: 10730521.0000 - mae: 2610.7825\n",
      "Epoch 55/350\n",
      "3/3 - 0s - loss: 10809421.0000 - mae: 2532.8003\n",
      "Epoch 56/350\n",
      "3/3 - 0s - loss: 10869194.0000 - mae: 2567.7576\n",
      "Epoch 57/350\n",
      "3/3 - 0s - loss: 10894679.0000 - mae: 2642.7769\n",
      "Epoch 58/350\n",
      "3/3 - 0s - loss: 10335872.0000 - mae: 2550.3835\n",
      "Epoch 59/350\n",
      "3/3 - 0s - loss: 9487399.0000 - mae: 2433.6592\n",
      "Epoch 60/350\n",
      "3/3 - 0s - loss: 10559361.0000 - mae: 2579.1426\n",
      "Epoch 61/350\n",
      "3/3 - 0s - loss: 12044828.0000 - mae: 2709.3413\n",
      "Epoch 62/350\n",
      "3/3 - 0s - loss: 11982664.0000 - mae: 2666.1375\n",
      "Epoch 63/350\n",
      "3/3 - 0s - loss: 12026533.0000 - mae: 2693.7107\n",
      "Epoch 64/350\n",
      "3/3 - 0s - loss: 11957868.0000 - mae: 2688.2139\n",
      "Epoch 65/350\n",
      "3/3 - 0s - loss: 12733637.0000 - mae: 2721.9316\n",
      "Epoch 66/350\n",
      "3/3 - 0s - loss: 11457771.0000 - mae: 2577.6741\n",
      "Epoch 67/350\n",
      "3/3 - 0s - loss: 11529212.0000 - mae: 2497.0100\n",
      "Epoch 68/350\n",
      "3/3 - 0s - loss: 11811830.0000 - mae: 2689.0620\n",
      "Epoch 69/350\n",
      "3/3 - 0s - loss: 13444958.0000 - mae: 2951.2473\n",
      "Epoch 70/350\n",
      "3/3 - 0s - loss: 12597459.0000 - mae: 2849.0918\n",
      "Epoch 71/350\n",
      "3/3 - 0s - loss: 11921903.0000 - mae: 2823.3547\n",
      "Epoch 72/350\n",
      "3/3 - 0s - loss: 12959150.0000 - mae: 2784.8472\n",
      "Epoch 73/350\n",
      "3/3 - 0s - loss: 14266115.0000 - mae: 2960.0884\n",
      "Epoch 74/350\n",
      "3/3 - 0s - loss: 13806602.0000 - mae: 2942.8486\n",
      "Epoch 75/350\n",
      "3/3 - 0s - loss: 13920900.0000 - mae: 3050.5615\n",
      "Epoch 76/350\n",
      "3/3 - 0s - loss: 14819875.0000 - mae: 3030.2029\n",
      "Epoch 77/350\n",
      "3/3 - 0s - loss: 12120551.0000 - mae: 2713.0200\n",
      "Epoch 78/350\n",
      "3/3 - 0s - loss: 11821974.0000 - mae: 2656.3047\n",
      "Epoch 79/350\n",
      "3/3 - 0s - loss: 12576963.0000 - mae: 2738.6909\n",
      "Epoch 80/350\n",
      "3/3 - 0s - loss: 12932805.0000 - mae: 2832.2378\n",
      "Epoch 81/350\n",
      "3/3 - 0s - loss: 13676449.0000 - mae: 2882.0408\n",
      "Epoch 82/350\n",
      "3/3 - 0s - loss: 13339530.0000 - mae: 2937.9153\n",
      "Epoch 83/350\n",
      "3/3 - 0s - loss: 12703409.0000 - mae: 2890.0498\n",
      "Epoch 84/350\n",
      "3/3 - 0s - loss: 11107848.0000 - mae: 2605.7217\n",
      "Epoch 85/350\n",
      "3/3 - 0s - loss: 11221693.0000 - mae: 2585.3257\n",
      "Epoch 86/350\n",
      "3/3 - 0s - loss: 11616872.0000 - mae: 2565.4128\n",
      "Epoch 87/350\n",
      "3/3 - 0s - loss: 11348627.0000 - mae: 2533.9746\n",
      "Epoch 88/350\n",
      "3/3 - 0s - loss: 11522476.0000 - mae: 2692.9702\n",
      "Epoch 89/350\n",
      "3/3 - 0s - loss: 12226536.0000 - mae: 2775.7427\n",
      "Epoch 90/350\n",
      "3/3 - 0s - loss: 12575672.0000 - mae: 2803.2866\n",
      "Epoch 91/350\n",
      "3/3 - 0s - loss: 11632250.0000 - mae: 2716.3040\n",
      "Epoch 92/350\n",
      "3/3 - 0s - loss: 11103635.0000 - mae: 2610.6567\n",
      "Epoch 93/350\n",
      "3/3 - 0s - loss: 10956371.0000 - mae: 2573.7473\n",
      "Epoch 94/350\n",
      "3/3 - 0s - loss: 10305901.0000 - mae: 2515.0994\n",
      "Epoch 95/350\n",
      "3/3 - 0s - loss: 11536204.0000 - mae: 2724.8958\n",
      "Epoch 96/350\n",
      "3/3 - 0s - loss: 10728335.0000 - mae: 2559.0046\n",
      "Epoch 97/350\n",
      "3/3 - 0s - loss: 10889744.0000 - mae: 2512.1995\n",
      "Epoch 98/350\n",
      "3/3 - 0s - loss: 11436427.0000 - mae: 2602.6377\n",
      "Epoch 99/350\n",
      "3/3 - 0s - loss: 11461975.0000 - mae: 2725.4929\n",
      "Epoch 100/350\n",
      "3/3 - 0s - loss: 12028808.0000 - mae: 2799.1018\n",
      "Epoch 101/350\n",
      "3/3 - 0s - loss: 12084052.0000 - mae: 2697.0034\n",
      "Epoch 102/350\n",
      "3/3 - 0s - loss: 12182901.0000 - mae: 2624.0676\n",
      "Epoch 103/350\n",
      "3/3 - 0s - loss: 12187901.0000 - mae: 2645.0217\n",
      "Epoch 104/350\n",
      "3/3 - 0s - loss: 9051679.0000 - mae: 2341.8079\n",
      "Epoch 105/350\n",
      "3/3 - 0s - loss: 10787330.0000 - mae: 2729.8315\n",
      "Epoch 106/350\n",
      "3/3 - 0s - loss: 10743193.0000 - mae: 2701.7373\n",
      "Epoch 107/350\n",
      "3/3 - 0s - loss: 10460796.0000 - mae: 2635.0015\n",
      "Epoch 108/350\n",
      "3/3 - 0s - loss: 10420860.0000 - mae: 2599.6057\n",
      "Epoch 109/350\n",
      "3/3 - 0s - loss: 10041147.0000 - mae: 2524.3853\n",
      "Epoch 110/350\n",
      "3/3 - 0s - loss: 9596336.0000 - mae: 2446.5986\n",
      "Epoch 111/350\n",
      "3/3 - 0s - loss: 8945645.0000 - mae: 2379.8940\n",
      "Epoch 112/350\n",
      "3/3 - 0s - loss: 9599275.0000 - mae: 2527.4216\n",
      "Epoch 113/350\n",
      "3/3 - 0s - loss: 8993101.0000 - mae: 2477.1475\n",
      "Epoch 114/350\n",
      "3/3 - 0s - loss: 8937519.0000 - mae: 2415.8501\n",
      "Epoch 115/350\n",
      "3/3 - 0s - loss: 9533084.0000 - mae: 2495.1716\n",
      "Epoch 116/350\n",
      "3/3 - 0s - loss: 9942512.0000 - mae: 2531.8391\n",
      "Epoch 117/350\n",
      "3/3 - 0s - loss: 9881868.0000 - mae: 2597.7056\n",
      "Epoch 118/350\n",
      "3/3 - 0s - loss: 10609436.0000 - mae: 2578.6006\n",
      "Epoch 119/350\n",
      "3/3 - 0s - loss: 13478003.0000 - mae: 2749.5972\n",
      "Epoch 120/350\n",
      "3/3 - 0s - loss: 13261884.0000 - mae: 2758.9778\n",
      "Epoch 121/350\n",
      "3/3 - 0s - loss: 10075978.0000 - mae: 2513.4438\n",
      "Epoch 122/350\n",
      "3/3 - 0s - loss: 11437047.0000 - mae: 2726.3118\n",
      "Epoch 123/350\n",
      "3/3 - 0s - loss: 11210579.0000 - mae: 2703.4314\n",
      "Epoch 124/350\n",
      "3/3 - 0s - loss: 9587665.0000 - mae: 2419.3013\n",
      "Epoch 125/350\n",
      "3/3 - 0s - loss: 9170874.0000 - mae: 2244.9583\n",
      "Epoch 126/350\n",
      "3/3 - 0s - loss: 9966912.0000 - mae: 2274.5227\n",
      "Epoch 127/350\n",
      "3/3 - 0s - loss: 9142172.0000 - mae: 2322.5059\n",
      "Epoch 128/350\n",
      "3/3 - 0s - loss: 9065628.0000 - mae: 2414.4648\n",
      "Epoch 129/350\n",
      "3/3 - 0s - loss: 11251356.0000 - mae: 2771.1680\n",
      "Epoch 130/350\n",
      "3/3 - 0s - loss: 8295429.5000 - mae: 2348.4041\n",
      "Epoch 131/350\n",
      "3/3 - 0s - loss: 8798696.0000 - mae: 2157.9209\n",
      "Epoch 132/350\n",
      "3/3 - 0s - loss: 11217434.0000 - mae: 2446.9197\n",
      "Epoch 133/350\n",
      "3/3 - 0s - loss: 9664014.0000 - mae: 2336.7900\n",
      "Epoch 134/350\n",
      "3/3 - 0s - loss: 12484060.0000 - mae: 2776.7061\n",
      "Epoch 135/350\n",
      "3/3 - 0s - loss: 12631815.0000 - mae: 2858.3840\n",
      "Epoch 136/350\n",
      "3/3 - 0s - loss: 11054921.0000 - mae: 2581.0598\n",
      "Epoch 137/350\n",
      "3/3 - 0s - loss: 11239286.0000 - mae: 2546.5854\n",
      "Epoch 138/350\n",
      "3/3 - 0s - loss: 11565626.0000 - mae: 2683.7290\n",
      "Epoch 139/350\n",
      "3/3 - 0s - loss: 11291378.0000 - mae: 2688.9182\n",
      "Epoch 140/350\n",
      "3/3 - 0s - loss: 11219354.0000 - mae: 2689.2925\n",
      "Epoch 141/350\n",
      "3/3 - 0s - loss: 11510806.0000 - mae: 2724.9941\n",
      "Epoch 142/350\n",
      "3/3 - 0s - loss: 10938466.0000 - mae: 2635.9812\n",
      "Epoch 143/350\n",
      "3/3 - 0s - loss: 11309029.0000 - mae: 2649.0007\n",
      "Epoch 144/350\n",
      "3/3 - 0s - loss: 11151917.0000 - mae: 2611.8660\n",
      "Epoch 145/350\n",
      "3/3 - 0s - loss: 11244995.0000 - mae: 2589.1494\n",
      "Epoch 146/350\n",
      "3/3 - 0s - loss: 11648928.0000 - mae: 2766.3147\n",
      "Epoch 147/350\n",
      "3/3 - 0s - loss: 13329562.0000 - mae: 3031.8018\n",
      "Epoch 148/350\n",
      "3/3 - 0s - loss: 11830520.0000 - mae: 2842.7432\n",
      "Epoch 149/350\n",
      "3/3 - 0s - loss: 10848768.0000 - mae: 2574.9167\n",
      "Epoch 150/350\n",
      "3/3 - 0s - loss: 11273852.0000 - mae: 2536.1943\n",
      "Epoch 151/350\n",
      "3/3 - 0s - loss: 11279720.0000 - mae: 2540.9321\n",
      "Epoch 152/350\n",
      "3/3 - 0s - loss: 10501178.0000 - mae: 2528.4321\n",
      "Epoch 153/350\n",
      "3/3 - 0s - loss: 10462792.0000 - mae: 2583.0781\n",
      "Epoch 154/350\n",
      "3/3 - 0s - loss: 10482079.0000 - mae: 2598.5505\n",
      "Epoch 155/350\n",
      "3/3 - 0s - loss: 10242937.0000 - mae: 2561.8772\n",
      "Epoch 156/350\n",
      "3/3 - 0s - loss: 10018192.0000 - mae: 2493.4326\n",
      "Epoch 157/350\n",
      "3/3 - 0s - loss: 9965036.0000 - mae: 2497.6379\n",
      "Epoch 158/350\n",
      "3/3 - 0s - loss: 9897211.0000 - mae: 2489.8999\n",
      "Epoch 159/350\n",
      "3/3 - 0s - loss: 9820356.0000 - mae: 2452.0298\n",
      "Epoch 160/350\n",
      "3/3 - 0s - loss: 9829080.0000 - mae: 2436.4136\n",
      "Epoch 161/350\n",
      "3/3 - 0s - loss: 9183558.0000 - mae: 2370.9602\n",
      "Epoch 162/350\n",
      "3/3 - 0s - loss: 9130870.0000 - mae: 2392.7266\n",
      "Epoch 163/350\n",
      "3/3 - 0s - loss: 9198144.0000 - mae: 2438.7026\n",
      "Epoch 164/350\n",
      "3/3 - 0s - loss: 9282195.0000 - mae: 2486.2405\n",
      "Epoch 165/350\n",
      "3/3 - 0s - loss: 9241907.0000 - mae: 2468.8574\n",
      "Epoch 166/350\n",
      "3/3 - 0s - loss: 8966214.0000 - mae: 2369.1755\n",
      "Epoch 167/350\n",
      "3/3 - 0s - loss: 9303465.0000 - mae: 2322.8452\n",
      "Epoch 168/350\n",
      "3/3 - 0s - loss: 9556124.0000 - mae: 2353.1201\n",
      "Epoch 169/350\n",
      "3/3 - 0s - loss: 8834292.0000 - mae: 2370.8262\n",
      "Epoch 170/350\n",
      "3/3 - 0s - loss: 8986177.0000 - mae: 2429.6826\n",
      "Epoch 171/350\n",
      "3/3 - 0s - loss: 9130638.0000 - mae: 2463.7979\n",
      "Epoch 172/350\n",
      "3/3 - 0s - loss: 9427012.0000 - mae: 2407.9333\n",
      "Epoch 173/350\n",
      "3/3 - 0s - loss: 9984211.0000 - mae: 2409.7612\n",
      "Epoch 174/350\n",
      "3/3 - 0s - loss: 10969467.0000 - mae: 2486.7012\n",
      "Epoch 175/350\n",
      "3/3 - 0s - loss: 10827321.0000 - mae: 2433.3948\n",
      "Epoch 176/350\n",
      "3/3 - 0s - loss: 10982115.0000 - mae: 2503.2554\n",
      "Epoch 177/350\n",
      "3/3 - 0s - loss: 10410834.0000 - mae: 2507.0535\n",
      "Epoch 178/350\n",
      "3/3 - 0s - loss: 10548442.0000 - mae: 2531.5898\n",
      "Epoch 179/350\n",
      "3/3 - 0s - loss: 9957898.0000 - mae: 2431.3794\n",
      "Epoch 180/350\n",
      "3/3 - 0s - loss: 9834805.0000 - mae: 2407.4734\n",
      "Epoch 181/350\n",
      "3/3 - 0s - loss: 10308197.0000 - mae: 2459.7102\n",
      "Epoch 182/350\n",
      "3/3 - 0s - loss: 10330302.0000 - mae: 2441.2273\n",
      "Epoch 183/350\n",
      "3/3 - 0s - loss: 9644396.0000 - mae: 2390.6379\n",
      "Epoch 184/350\n",
      "3/3 - 0s - loss: 10119500.0000 - mae: 2544.0378\n",
      "Epoch 185/350\n",
      "3/3 - 0s - loss: 9959649.0000 - mae: 2524.0884\n",
      "Epoch 186/350\n",
      "3/3 - 0s - loss: 9600326.0000 - mae: 2421.7646\n",
      "Epoch 187/350\n",
      "3/3 - 0s - loss: 9694640.0000 - mae: 2368.3208\n",
      "Epoch 188/350\n",
      "3/3 - 0s - loss: 9625146.0000 - mae: 2409.4519\n",
      "Epoch 189/350\n",
      "3/3 - 0s - loss: 9747526.0000 - mae: 2479.8386\n",
      "Epoch 190/350\n",
      "3/3 - 0s - loss: 9641790.0000 - mae: 2430.2935\n",
      "Epoch 191/350\n",
      "3/3 - 0s - loss: 9548104.0000 - mae: 2400.5168\n",
      "Epoch 192/350\n",
      "3/3 - 0s - loss: 9400010.0000 - mae: 2321.1672\n",
      "Epoch 193/350\n",
      "3/3 - 0s - loss: 9381421.0000 - mae: 2309.6191\n",
      "Epoch 194/350\n",
      "3/3 - 0s - loss: 9298639.0000 - mae: 2312.2292\n",
      "Epoch 195/350\n",
      "3/3 - 0s - loss: 9126449.0000 - mae: 2297.7515\n",
      "Epoch 196/350\n",
      "3/3 - 0s - loss: 9150967.0000 - mae: 2293.1726\n",
      "Epoch 197/350\n",
      "3/3 - 0s - loss: 9069503.0000 - mae: 2289.8408\n",
      "Epoch 198/350\n",
      "3/3 - 0s - loss: 9069206.0000 - mae: 2268.9719\n",
      "Epoch 199/350\n",
      "3/3 - 0s - loss: 9333683.0000 - mae: 2277.1604\n",
      "Epoch 200/350\n",
      "3/3 - 0s - loss: 9272788.0000 - mae: 2250.9473\n",
      "Epoch 201/350\n",
      "3/3 - 0s - loss: 9110720.0000 - mae: 2257.4016\n",
      "Epoch 202/350\n",
      "3/3 - 0s - loss: 9026249.0000 - mae: 2274.4380\n",
      "Epoch 203/350\n",
      "3/3 - 0s - loss: 8921606.0000 - mae: 2334.4475\n",
      "Epoch 204/350\n",
      "3/3 - 0s - loss: 9290158.0000 - mae: 2453.4587\n",
      "Epoch 205/350\n",
      "3/3 - 0s - loss: 8899785.0000 - mae: 2321.0938\n",
      "Epoch 206/350\n",
      "3/3 - 0s - loss: 9355405.0000 - mae: 2242.4009\n",
      "Epoch 207/350\n",
      "3/3 - 0s - loss: 9243952.0000 - mae: 2246.6479\n",
      "Epoch 208/350\n",
      "3/3 - 0s - loss: 8989865.0000 - mae: 2290.2319\n",
      "Epoch 209/350\n",
      "3/3 - 0s - loss: 9013775.0000 - mae: 2344.8926\n",
      "Epoch 210/350\n",
      "3/3 - 0s - loss: 9078783.0000 - mae: 2397.9307\n",
      "Epoch 211/350\n",
      "3/3 - 0s - loss: 8972930.0000 - mae: 2391.5420\n",
      "Epoch 212/350\n",
      "3/3 - 0s - loss: 8634983.0000 - mae: 2286.6423\n",
      "Epoch 213/350\n",
      "3/3 - 0s - loss: 9182635.0000 - mae: 2245.4995\n",
      "Epoch 214/350\n",
      "3/3 - 0s - loss: 9686993.0000 - mae: 2262.0127\n",
      "Epoch 215/350\n",
      "3/3 - 0s - loss: 8895579.0000 - mae: 2212.4092\n",
      "Epoch 216/350\n",
      "3/3 - 0s - loss: 8964942.0000 - mae: 2383.1970\n",
      "Epoch 217/350\n",
      "3/3 - 0s - loss: 9422983.0000 - mae: 2544.9790\n",
      "Epoch 218/350\n",
      "3/3 - 0s - loss: 8755649.0000 - mae: 2303.0977\n",
      "Epoch 219/350\n",
      "3/3 - 0s - loss: 8896420.0000 - mae: 2207.2795\n",
      "Epoch 220/350\n",
      "3/3 - 0s - loss: 8786977.0000 - mae: 2222.7952\n",
      "Epoch 221/350\n",
      "3/3 - 0s - loss: 8544721.0000 - mae: 2259.5374\n",
      "Epoch 222/350\n",
      "3/3 - 0s - loss: 8509670.0000 - mae: 2242.5830\n",
      "Epoch 223/350\n",
      "3/3 - 0s - loss: 8525275.0000 - mae: 2188.9595\n",
      "Epoch 224/350\n",
      "3/3 - 0s - loss: 9129665.0000 - mae: 2220.6746\n",
      "Epoch 225/350\n",
      "3/3 - 0s - loss: 8943347.0000 - mae: 2203.6602\n",
      "Epoch 226/350\n",
      "3/3 - 0s - loss: 8445623.0000 - mae: 2240.2676\n",
      "Epoch 227/350\n",
      "3/3 - 0s - loss: 8530190.0000 - mae: 2294.7410\n",
      "Epoch 228/350\n",
      "3/3 - 0s - loss: 8842106.0000 - mae: 2395.5583\n",
      "Epoch 229/350\n",
      "3/3 - 0s - loss: 8531407.0000 - mae: 2315.1113\n",
      "Epoch 230/350\n",
      "3/3 - 0s - loss: 8410359.0000 - mae: 2192.3118\n",
      "Epoch 231/350\n",
      "3/3 - 0s - loss: 8440429.0000 - mae: 2189.0291\n",
      "Epoch 232/350\n",
      "3/3 - 0s - loss: 8452618.0000 - mae: 2196.0811\n",
      "Epoch 233/350\n",
      "3/3 - 0s - loss: 8442607.0000 - mae: 2205.1672\n",
      "Epoch 234/350\n",
      "3/3 - 0s - loss: 8351358.0000 - mae: 2193.0596\n",
      "Epoch 235/350\n",
      "3/3 - 0s - loss: 8391734.0000 - mae: 2178.6863\n",
      "Epoch 236/350\n",
      "3/3 - 0s - loss: 8403575.0000 - mae: 2181.0361\n",
      "Epoch 237/350\n",
      "3/3 - 0s - loss: 8409330.0000 - mae: 2217.6187\n",
      "Epoch 238/350\n",
      "3/3 - 0s - loss: 8342214.5000 - mae: 2192.2224\n",
      "Epoch 239/350\n",
      "3/3 - 0s - loss: 8807830.0000 - mae: 2190.4551\n",
      "Epoch 240/350\n",
      "3/3 - 0s - loss: 8213789.0000 - mae: 2179.0781\n",
      "Epoch 241/350\n",
      "3/3 - 0s - loss: 8523542.0000 - mae: 2344.3679\n",
      "Epoch 242/350\n",
      "3/3 - 0s - loss: 8701351.0000 - mae: 2398.1350\n",
      "Epoch 243/350\n",
      "3/3 - 0s - loss: 9323738.0000 - mae: 2325.3284\n",
      "Epoch 244/350\n",
      "3/3 - 0s - loss: 9620485.0000 - mae: 2324.3716\n",
      "Epoch 245/350\n",
      "3/3 - 0s - loss: 8357053.0000 - mae: 2246.2261\n",
      "Epoch 246/350\n",
      "3/3 - 0s - loss: 10364507.0000 - mae: 2656.5496\n",
      "Epoch 247/350\n",
      "3/3 - 0s - loss: 10065283.0000 - mae: 2651.9788\n",
      "Epoch 248/350\n",
      "3/3 - 0s - loss: 8624882.0000 - mae: 2332.7168\n",
      "Epoch 249/350\n",
      "3/3 - 0s - loss: 10174332.0000 - mae: 2488.8552\n",
      "Epoch 250/350\n",
      "3/3 - 0s - loss: 8853559.0000 - mae: 2332.1204\n",
      "Epoch 251/350\n",
      "3/3 - 0s - loss: 9871153.0000 - mae: 2594.3105\n",
      "Epoch 252/350\n",
      "3/3 - 0s - loss: 10318436.0000 - mae: 2638.4238\n",
      "Epoch 253/350\n",
      "3/3 - 0s - loss: 8415791.0000 - mae: 2361.9534\n",
      "Epoch 254/350\n",
      "3/3 - 0s - loss: 8929047.0000 - mae: 2379.4443\n",
      "Epoch 255/350\n",
      "3/3 - 0s - loss: 9394406.0000 - mae: 2484.8394\n",
      "Epoch 256/350\n",
      "3/3 - 0s - loss: 8323594.0000 - mae: 2254.0391\n",
      "Epoch 257/350\n",
      "3/3 - 0s - loss: 8399405.0000 - mae: 2317.7229\n",
      "Epoch 258/350\n",
      "3/3 - 0s - loss: 8255734.0000 - mae: 2271.9792\n",
      "Epoch 259/350\n",
      "3/3 - 0s - loss: 8608932.0000 - mae: 2335.3457\n",
      "Epoch 260/350\n",
      "3/3 - 0s - loss: 8640035.0000 - mae: 2302.4758\n",
      "Epoch 261/350\n",
      "3/3 - 0s - loss: 8412512.0000 - mae: 2260.9587\n",
      "Epoch 262/350\n",
      "3/3 - 0s - loss: 8963525.0000 - mae: 2419.4009\n",
      "Epoch 263/350\n",
      "3/3 - 0s - loss: 9263574.0000 - mae: 2470.6248\n",
      "Epoch 264/350\n",
      "3/3 - 0s - loss: 8715008.0000 - mae: 2327.1580\n",
      "Epoch 265/350\n",
      "3/3 - 0s - loss: 8522931.0000 - mae: 2278.4880\n",
      "Epoch 266/350\n",
      "3/3 - 0s - loss: 8207523.0000 - mae: 2200.0454\n",
      "Epoch 267/350\n",
      "3/3 - 0s - loss: 8060316.0000 - mae: 2212.7827\n",
      "Epoch 268/350\n",
      "3/3 - 0s - loss: 8612808.0000 - mae: 2386.9050\n",
      "Epoch 269/350\n",
      "3/3 - 0s - loss: 8714067.0000 - mae: 2311.3367\n",
      "Epoch 270/350\n",
      "3/3 - 0s - loss: 9038288.0000 - mae: 2313.0635\n",
      "Epoch 271/350\n",
      "3/3 - 0s - loss: 9004421.0000 - mae: 2315.9895\n",
      "Epoch 272/350\n",
      "3/3 - 0s - loss: 8891855.0000 - mae: 2366.9207\n",
      "Epoch 273/350\n",
      "3/3 - 0s - loss: 9761055.0000 - mae: 2546.7681\n",
      "Epoch 274/350\n",
      "3/3 - 0s - loss: 9327922.0000 - mae: 2476.8699\n",
      "Epoch 275/350\n",
      "3/3 - 0s - loss: 9079235.0000 - mae: 2257.7844\n",
      "Epoch 276/350\n",
      "3/3 - 0s - loss: 11158371.0000 - mae: 2469.9126\n",
      "Epoch 277/350\n",
      "3/3 - 0s - loss: 9716918.0000 - mae: 2336.6846\n",
      "Epoch 278/350\n",
      "3/3 - 0s - loss: 9926838.0000 - mae: 2581.9207\n",
      "Epoch 279/350\n",
      "3/3 - 0s - loss: 13137274.0000 - mae: 3060.1541\n",
      "Epoch 280/350\n",
      "3/3 - 0s - loss: 9189646.0000 - mae: 2496.0974\n",
      "Epoch 281/350\n",
      "3/3 - 0s - loss: 10194383.0000 - mae: 2350.1658\n",
      "Epoch 282/350\n",
      "3/3 - 0s - loss: 10300888.0000 - mae: 2268.1714\n",
      "Epoch 283/350\n",
      "3/3 - 0s - loss: 8388596.0000 - mae: 2311.3528\n",
      "Epoch 284/350\n",
      "3/3 - 0s - loss: 10095507.0000 - mae: 2663.8872\n",
      "Epoch 285/350\n",
      "3/3 - 0s - loss: 9694196.0000 - mae: 2608.2004\n",
      "Epoch 286/350\n",
      "3/3 - 0s - loss: 8212307.5000 - mae: 2260.4541\n",
      "Epoch 287/350\n",
      "3/3 - 0s - loss: 8109238.5000 - mae: 2250.5598\n",
      "Epoch 288/350\n",
      "3/3 - 0s - loss: 8072310.0000 - mae: 2214.6079\n",
      "Epoch 289/350\n",
      "3/3 - 0s - loss: 7996521.0000 - mae: 2189.1079\n",
      "Epoch 290/350\n",
      "3/3 - 0s - loss: 7835282.5000 - mae: 2218.6768\n",
      "Epoch 291/350\n",
      "3/3 - 0s - loss: 8423947.0000 - mae: 2394.8755\n",
      "Epoch 292/350\n",
      "3/3 - 0s - loss: 8031916.5000 - mae: 2310.3062\n",
      "Epoch 293/350\n",
      "3/3 - 0s - loss: 8068814.0000 - mae: 2175.4182\n",
      "Epoch 294/350\n",
      "3/3 - 0s - loss: 8089859.5000 - mae: 2159.3062\n",
      "Epoch 295/350\n",
      "3/3 - 0s - loss: 7465743.0000 - mae: 2134.9126\n",
      "Epoch 296/350\n",
      "3/3 - 0s - loss: 8313775.5000 - mae: 2373.6580\n",
      "Epoch 297/350\n",
      "3/3 - 0s - loss: 8369966.5000 - mae: 2399.1135\n",
      "Epoch 298/350\n",
      "3/3 - 0s - loss: 8158016.0000 - mae: 2207.7249\n",
      "Epoch 299/350\n",
      "3/3 - 0s - loss: 8458738.0000 - mae: 2259.5923\n",
      "Epoch 300/350\n",
      "3/3 - 0s - loss: 8339218.5000 - mae: 2269.4077\n",
      "Epoch 301/350\n",
      "3/3 - 0s - loss: 8639025.0000 - mae: 2302.5154\n",
      "Epoch 302/350\n",
      "3/3 - 0s - loss: 8372353.0000 - mae: 2304.5344\n",
      "Epoch 303/350\n",
      "3/3 - 0s - loss: 8285323.0000 - mae: 2280.7202\n",
      "Epoch 304/350\n",
      "3/3 - 0s - loss: 8020868.5000 - mae: 2229.4187\n",
      "Epoch 305/350\n",
      "3/3 - 0s - loss: 7653441.5000 - mae: 2194.1548\n",
      "Epoch 306/350\n",
      "3/3 - 0s - loss: 8282835.5000 - mae: 2343.8506\n",
      "Epoch 307/350\n",
      "3/3 - 0s - loss: 8488369.0000 - mae: 2364.7844\n",
      "Epoch 308/350\n",
      "3/3 - 0s - loss: 7940538.5000 - mae: 2228.7065\n",
      "Epoch 309/350\n",
      "3/3 - 0s - loss: 8569617.0000 - mae: 2256.1943\n",
      "Epoch 310/350\n",
      "3/3 - 0s - loss: 8460762.0000 - mae: 2330.8015\n",
      "Epoch 311/350\n",
      "3/3 - 0s - loss: 7731856.0000 - mae: 2170.4888\n",
      "Epoch 312/350\n",
      "3/3 - 0s - loss: 7751245.0000 - mae: 2165.2034\n",
      "Epoch 313/350\n",
      "3/3 - 0s - loss: 7524204.0000 - mae: 2169.3369\n",
      "Epoch 314/350\n",
      "3/3 - 0s - loss: 7594769.5000 - mae: 2172.3152\n",
      "Epoch 315/350\n",
      "3/3 - 0s - loss: 8018738.0000 - mae: 2195.2700\n",
      "Epoch 316/350\n",
      "3/3 - 0s - loss: 7863542.0000 - mae: 2237.8022\n",
      "Epoch 317/350\n",
      "3/3 - 0s - loss: 8469702.0000 - mae: 2380.7568\n",
      "Epoch 318/350\n",
      "3/3 - 0s - loss: 7622825.5000 - mae: 2192.2229\n",
      "Epoch 319/350\n",
      "3/3 - 0s - loss: 8750476.0000 - mae: 2256.9089\n",
      "Epoch 320/350\n",
      "3/3 - 0s - loss: 8842843.0000 - mae: 2276.4854\n",
      "Epoch 321/350\n",
      "3/3 - 0s - loss: 7959383.0000 - mae: 2227.4189\n",
      "Epoch 322/350\n",
      "3/3 - 0s - loss: 8103171.0000 - mae: 2304.9421\n",
      "Epoch 323/350\n",
      "3/3 - 0s - loss: 8014248.0000 - mae: 2302.1013\n",
      "Epoch 324/350\n",
      "3/3 - 0s - loss: 8315966.0000 - mae: 2300.3188\n",
      "Epoch 325/350\n",
      "3/3 - 0s - loss: 8322898.5000 - mae: 2315.7605\n",
      "Epoch 326/350\n",
      "3/3 - 0s - loss: 8394984.0000 - mae: 2286.1521\n",
      "Epoch 327/350\n",
      "3/3 - 0s - loss: 8349287.0000 - mae: 2265.0452\n",
      "Epoch 328/350\n",
      "3/3 - 0s - loss: 8152309.0000 - mae: 2281.3948\n",
      "Epoch 329/350\n",
      "3/3 - 0s - loss: 8932768.0000 - mae: 2422.8511\n",
      "Epoch 330/350\n",
      "3/3 - 0s - loss: 8105699.0000 - mae: 2274.8389\n",
      "Epoch 331/350\n",
      "3/3 - 0s - loss: 8838619.0000 - mae: 2287.0984\n",
      "Epoch 332/350\n",
      "3/3 - 0s - loss: 8468586.0000 - mae: 2253.0801\n",
      "Epoch 333/350\n",
      "3/3 - 0s - loss: 7732482.5000 - mae: 2222.4287\n",
      "Epoch 334/350\n",
      "3/3 - 0s - loss: 8408868.0000 - mae: 2379.8018\n",
      "Epoch 335/350\n",
      "3/3 - 0s - loss: 7749551.5000 - mae: 2244.4133\n",
      "Epoch 336/350\n",
      "3/3 - 0s - loss: 7950544.5000 - mae: 2191.6714\n",
      "Epoch 337/350\n",
      "3/3 - 0s - loss: 7644105.5000 - mae: 2207.5708\n",
      "Epoch 338/350\n",
      "3/3 - 0s - loss: 7976375.5000 - mae: 2295.8694\n",
      "Epoch 339/350\n",
      "3/3 - 0s - loss: 8030445.5000 - mae: 2299.9692\n",
      "Epoch 340/350\n",
      "3/3 - 0s - loss: 7577742.0000 - mae: 2222.4692\n",
      "Epoch 341/350\n",
      "3/3 - 0s - loss: 7976830.0000 - mae: 2146.0850\n",
      "Epoch 342/350\n",
      "3/3 - 0s - loss: 8363329.0000 - mae: 2163.2827\n",
      "Epoch 343/350\n",
      "3/3 - 0s - loss: 7613530.5000 - mae: 2166.3416\n",
      "Epoch 344/350\n",
      "3/3 - 0s - loss: 8232089.0000 - mae: 2329.7019\n",
      "Epoch 345/350\n",
      "3/3 - 0s - loss: 8317358.5000 - mae: 2344.0828\n",
      "Epoch 346/350\n",
      "3/3 - 0s - loss: 7521601.0000 - mae: 2213.4263\n",
      "Epoch 347/350\n",
      "3/3 - 0s - loss: 8750727.0000 - mae: 2205.0154\n",
      "Epoch 348/350\n",
      "3/3 - 0s - loss: 9629400.0000 - mae: 2326.4690\n",
      "Epoch 349/350\n",
      "3/3 - 0s - loss: 7154491.0000 - mae: 2120.1702\n",
      "Epoch 350/350\n",
      "3/3 - 0s - loss: 10613190.0000 - mae: 2677.6409\n"
     ]
    },
    {
     "data": {
      "text/plain": [
       "<keras.callbacks.History at 0x7fcbcd5d5790>"
      ]
     },
     "execution_count": 33,
     "metadata": {},
     "output_type": "execute_result"
    }
   ],
   "source": [
    "model.fit(X_train, y_train, epochs=350, batch_size=32, verbose=2)"
   ]
  },
  {
   "cell_type": "markdown",
   "metadata": {
    "id": "HRnllhAMddby"
   },
   "source": [
    "# Evaluating the Model"
   ]
  },
  {
   "cell_type": "code",
   "execution_count": 35,
   "metadata": {
    "colab": {
     "base_uri": "https://localhost:8080/"
    },
    "id": "kJ_MuvW4dZyN",
    "outputId": "4ab74302-ccbf-44cc-c045-e5144b78a761"
   },
   "outputs": [
    {
     "name": "stdout",
     "output_type": "stream",
     "text": [
      "2/2 - 0s - loss: 10862082.0000 - mae: 2724.4128\n",
      "MSE: 10862082.000, RMSE: 3295.767, MAE: 2724.413\n"
     ]
    }
   ],
   "source": [
    "mse, mae = model.evaluate(X_test, y_test, verbose=2)\n",
    "print('MSE: %.3f, RMSE: %.3f, MAE: %.3f' % (mse, np.sqrt(mse), mae))\n",
    "#Here, the model will be evaluated on the test dataset, and the appropriate loss and accuracy will be saved in the variables mse and mae."
   ]
  },
  {
   "cell_type": "markdown",
   "metadata": {
    "id": "wWCg0QPLdogu"
   },
   "source": [
    "# Making Predictions"
   ]
  },
  {
   "cell_type": "code",
   "execution_count": 37,
   "metadata": {
    "colab": {
     "base_uri": "https://localhost:8080/"
    },
    "id": "mN6kRh11dhsJ",
    "outputId": "d8d57504-1618-450a-8863-5f23c588ddab"
   },
   "outputs": [
    {
     "name": "stdout",
     "output_type": "stream",
     "text": [
      "Predicted: 18816.848\n"
     ]
    }
   ],
   "source": [
    "#Let us now make a prediction on the new data to check the prediction values it gives. Let us predict for one row of data.\n",
    "\n",
    "row = np.asarray([18024.0, 16722.0, 14385.0, 21342.0, 17180.0]).reshape((1, n_steps, 1))\n",
    "yhat = model.predict(row)\n",
    "print('Predicted: %.3f' % (yhat))\n",
    "#Here, the values for all the input features are given in the variable row as an array, and we are making predictions to identify the value of the target variable."
   ]
  },
  {
   "cell_type": "code",
   "execution_count": null,
   "metadata": {
    "id": "Qd3CRCokdvQ_"
   },
   "outputs": [],
   "source": []
  }
 ],
 "metadata": {
  "colab": {
   "name": "Recurrent Neural Networks.ipynb",
   "provenance": []
  },
  "kernelspec": {
   "display_name": "Python 3",
   "language": "python",
   "name": "python3"
  },
  "language_info": {
   "codemirror_mode": {
    "name": "ipython",
    "version": 3
   },
   "file_extension": ".py",
   "mimetype": "text/x-python",
   "name": "python",
   "nbconvert_exporter": "python",
   "pygments_lexer": "ipython3",
   "version": "3.6.5"
  }
 },
 "nbformat": 4,
 "nbformat_minor": 1
}
