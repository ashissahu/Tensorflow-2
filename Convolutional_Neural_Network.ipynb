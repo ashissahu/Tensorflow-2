{
 "cells": [
  {
   "cell_type": "code",
   "execution_count": 4,
   "metadata": {
    "id": "OdxUwiMfHE8D"
   },
   "outputs": [],
   "source": [
    "import numpy as np\n",
    "import pandas as pd\n",
    "from tensorflow.keras.datasets.mnist import load_data\n",
    "from tensorflow.keras import Sequential\n",
    "from tensorflow.keras.layers import Dense\n",
    "from tensorflow.keras.layers import Conv2D\n",
    "from tensorflow.keras.layers import MaxPool2D\n",
    "from tensorflow.keras.layers import Flatten\n",
    "from tensorflow.keras.layers import Dropout"
   ]
  },
  {
   "cell_type": "code",
   "execution_count": 5,
   "metadata": {
    "id": "EH8J_zz7HQfS"
   },
   "outputs": [],
   "source": [
    "(x_train, y_train), (x_test, y_test) = load_data()"
   ]
  },
  {
   "cell_type": "code",
   "execution_count": 6,
   "metadata": {
    "colab": {
     "base_uri": "https://localhost:8080/"
    },
    "id": "ak6k9mjCHSAl",
    "outputId": "187e0d9a-2a89-4b15-e8d0-995ce281a392"
   },
   "outputs": [
    {
     "data": {
      "text/plain": [
       "((60000, 28, 28), (10000, 28, 28))"
      ]
     },
     "execution_count": 6,
     "metadata": {},
     "output_type": "execute_result"
    }
   ],
   "source": [
    "x_train.shape,x_test.shape"
   ]
  },
  {
   "cell_type": "code",
   "execution_count": 7,
   "metadata": {
    "colab": {
     "base_uri": "https://localhost:8080/"
    },
    "id": "yXhgtyJ4HlsX",
    "outputId": "a37927b8-0648-4d3f-c8b9-429a4593cef2"
   },
   "outputs": [
    {
     "data": {
      "text/plain": [
       "((60000,), (10000,))"
      ]
     },
     "execution_count": 7,
     "metadata": {},
     "output_type": "execute_result"
    }
   ],
   "source": [
    "y_train.shape,y_test.shape"
   ]
  },
  {
   "cell_type": "code",
   "execution_count": 8,
   "metadata": {
    "id": "pBeNwdu5HrU9"
   },
   "outputs": [],
   "source": [
    "#reshape the training and testing data to have a single channel.\n",
    "x_train = x_train.reshape((x_train.shape[0], x_train.shape[1], x_train.shape[2], 1))\n",
    "\n",
    "x_test = x_test.reshape((x_test.shape[0], x_test.shape[1], x_test.shape[2], 1))\n",
    "\n",
    "#Here, we have reshaped the data in which each data is reshaped in the format [rows, columns, channels], where channels represent the image data's color channels."
   ]
  },
  {
   "cell_type": "code",
   "execution_count": 9,
   "metadata": {
    "colab": {
     "base_uri": "https://localhost:8080/"
    },
    "id": "yKLStrJFIUCK",
    "outputId": "319bcb4f-1160-4b26-cac7-ae8648e91b75"
   },
   "outputs": [
    {
     "name": "stdout",
     "output_type": "stream",
     "text": [
      "(28, 28, 1)\n"
     ]
    },
    {
     "data": {
      "text/plain": [
       "10"
      ]
     },
     "execution_count": 9,
     "metadata": {},
     "output_type": "execute_result"
    }
   ],
   "source": [
    "#determine the shape of the input images and the number of classes and save it in separate variables.\n",
    "\n",
    "in_shape = x_train.shape[1:]\n",
    "print(in_shape)\n",
    "n_classes = len(np.unique(y_train))\n",
    "n_classes"
   ]
  },
  {
   "cell_type": "code",
   "execution_count": 10,
   "metadata": {
    "id": "P3Pp8wE6Igh2"
   },
   "outputs": [],
   "source": [
    "#normalize the pixel values of the training and testing data.\n",
    "\n",
    "x_train = x_train.astype('float32') / 255.0\n",
    "x_test = x_test.astype('float32') / 255.0"
   ]
  },
  {
   "cell_type": "code",
   "execution_count": 12,
   "metadata": {
    "id": "wcoJSFAZIov_"
   },
   "outputs": [],
   "source": [
    "model = Sequential()\n",
    "\n",
    "model.add(Conv2D(32, (3,3), activation='relu', input_shape=in_shape))\n",
    "\n",
    "model.add(MaxPool2D((2, 2)))\n",
    "\n",
    "model.add(Flatten())\n",
    "\n",
    "model.add(Dense(100, activation='relu'))\n",
    "\n",
    "model.add(Dropout(0.5))\n",
    "\n",
    "model.add(Dense(n_classes, activation='softmax'))\n",
    "\n",
    "#a single convolutional layer is formed, \n",
    "#followed by an appropriate Max Pooling layer, to reduce the input dimension and preserve the essential features. \n",
    "#Then, a flatten layer is added to resize the array into a single dimension. \n",
    "#The data is then passed into the fully connected neural network for training and appropriate prediction.\n",
    "# Here, the softmax layer is used for the output as it has multiple classes."
   ]
  },
  {
   "cell_type": "code",
   "execution_count": 13,
   "metadata": {
    "id": "L73yayDXI0Mp"
   },
   "outputs": [],
   "source": [
    "model.compile(optimizer='adam', loss='sparse_categorical_crossentropy', metrics=['accuracy'])"
   ]
  },
  {
   "cell_type": "code",
   "execution_count": 15,
   "metadata": {
    "colab": {
     "base_uri": "https://localhost:8080/"
    },
    "id": "Jx1Ns0MOJEKe",
    "outputId": "90fad177-3c1a-49a5-ae7b-72dc5bf20861"
   },
   "outputs": [
    {
     "name": "stdout",
     "output_type": "stream",
     "text": [
      "Epoch 1/10\n",
      "469/469 - 24s - loss: 0.3506 - accuracy: 0.8953\n",
      "Epoch 2/10\n",
      "469/469 - 23s - loss: 0.1351 - accuracy: 0.9605\n",
      "Epoch 3/10\n",
      "469/469 - 23s - loss: 0.1010 - accuracy: 0.9702\n",
      "Epoch 4/10\n",
      "469/469 - 23s - loss: 0.0836 - accuracy: 0.9744\n",
      "Epoch 5/10\n",
      "469/469 - 23s - loss: 0.0712 - accuracy: 0.9789\n",
      "Epoch 6/10\n",
      "469/469 - 23s - loss: 0.0650 - accuracy: 0.9804\n",
      "Epoch 7/10\n",
      "469/469 - 23s - loss: 0.0587 - accuracy: 0.9826\n",
      "Epoch 8/10\n",
      "469/469 - 23s - loss: 0.0520 - accuracy: 0.9839\n",
      "Epoch 9/10\n",
      "469/469 - 23s - loss: 0.0463 - accuracy: 0.9852\n",
      "Epoch 10/10\n",
      "469/469 - 23s - loss: 0.0444 - accuracy: 0.9858\n"
     ]
    },
    {
     "data": {
      "text/plain": [
       "<keras.callbacks.History at 0x7f3b787f1f10>"
      ]
     },
     "execution_count": 15,
     "metadata": {},
     "output_type": "execute_result"
    }
   ],
   "source": [
    "model.fit(x_train, y_train, epochs=10, batch_size=128, verbose=2)"
   ]
  },
  {
   "cell_type": "code",
   "execution_count": 16,
   "metadata": {
    "colab": {
     "base_uri": "https://localhost:8080/"
    },
    "id": "mwKcC1QEJJD9",
    "outputId": "086c11e4-9d5b-4365-d845-0cb4717d7ff6"
   },
   "outputs": [
    {
     "name": "stdout",
     "output_type": "stream",
     "text": [
      "Test Accuracy: 0.987\n"
     ]
    }
   ],
   "source": [
    "loss, acc = model.evaluate(x_test, y_test, verbose=0)\n",
    "print('Test Accuracy: %.3f' % acc)"
   ]
  },
  {
   "cell_type": "markdown",
   "metadata": {
    "id": "eI993E8oJXKV"
   },
   "source": [
    "# Making Predictions"
   ]
  },
  {
   "cell_type": "code",
   "execution_count": 17,
   "metadata": {
    "colab": {
     "base_uri": "https://localhost:8080/"
    },
    "id": "iBm1_v_6JQqV",
    "outputId": "e705d1da-ab53-4c6e-b8b1-3babbba3c935"
   },
   "outputs": [
    {
     "name": "stdout",
     "output_type": "stream",
     "text": [
      "Predicted: class=5\n"
     ]
    }
   ],
   "source": [
    "image = x_train[0]\n",
    "yhat = model.predict(np.asarray([image]))\n",
    "print('Predicted: class=%d' % np.argmax(yhat))"
   ]
  },
  {
   "cell_type": "markdown",
   "metadata": {
    "id": "TqufYqmPJjlk"
   },
   "source": [
    "Here, a particular image from training data is given for prediction to identify which class that particular data belongs to, that is, the target variable. It gives the following output.\n",
    "\n",
    "Predicted: class=5\n",
    "Therefore, it is predicted that it belongs to class 5."
   ]
  },
  {
   "cell_type": "code",
   "execution_count": null,
   "metadata": {
    "id": "V9jQX0QYJci8"
   },
   "outputs": [],
   "source": []
  }
 ],
 "metadata": {
  "colab": {
   "name": "Convolutional Neural Network.ipynb",
   "provenance": []
  },
  "kernelspec": {
   "display_name": "Python 3",
   "language": "python",
   "name": "python3"
  },
  "language_info": {
   "codemirror_mode": {
    "name": "ipython",
    "version": 3
   },
   "file_extension": ".py",
   "mimetype": "text/x-python",
   "name": "python",
   "nbconvert_exporter": "python",
   "pygments_lexer": "ipython3",
   "version": "3.6.5"
  }
 },
 "nbformat": 4,
 "nbformat_minor": 1
}
