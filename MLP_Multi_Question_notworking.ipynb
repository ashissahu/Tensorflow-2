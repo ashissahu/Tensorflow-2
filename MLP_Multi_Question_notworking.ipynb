{
 "cells": [
  {
   "cell_type": "markdown",
   "metadata": {},
   "source": [
    "## **Multi-Layer Perceptron for Multi Class Classification using Tensorflow 2.0**\n",
    "In this scenario of hands-on, you will be performing MLP on Multi Class Classsification using Tensorflow 2.0.\n",
    "\n",
    "**Note** - Finally restart and run all the cells after the completion of the challenge\n"
   ]
  },
  {
   "cell_type": "markdown",
   "metadata": {},
   "source": [
    "**Run the below cell to import the neccessary packages**"
   ]
  },
  {
   "cell_type": "code",
   "execution_count": 1,
   "metadata": {},
   "outputs": [],
   "source": [
    "from numpy import argmax\n",
    "import pandas as pd\n",
    "from sklearn.model_selection import train_test_split\n",
    "from sklearn.preprocessing import LabelEncoder\n",
    "from tensorflow.keras import Sequential\n",
    "from tensorflow.keras.layers import Dense\n",
    "from sklearn.metrics import accuracy_score,f1_score\n",
    "import tensorflow as tf"
   ]
  },
  {
   "cell_type": "markdown",
   "metadata": {},
   "source": [
    "- Assign the value as 40 to the variabel **RANDOM_SEED** which will be the seed value.\n",
    "- Set the random seed value using the value stored in the variable **RANDOM_SEED**."
   ]
  },
  {
   "cell_type": "code",
   "execution_count": 2,
   "metadata": {},
   "outputs": [],
   "source": [
    "RANDOM_SEED = 40\n"
   ]
  },
  {
   "cell_type": "markdown",
   "metadata": {},
   "source": [
    "- Read the dataset **seeds.csv** and save it in variable df."
   ]
  },
  {
   "cell_type": "code",
   "execution_count": 3,
   "metadata": {},
   "outputs": [
    {
     "data": {
      "text/html": [
       "<div>\n",
       "<style scoped>\n",
       "    .dataframe tbody tr th:only-of-type {\n",
       "        vertical-align: middle;\n",
       "    }\n",
       "\n",
       "    .dataframe tbody tr th {\n",
       "        vertical-align: top;\n",
       "    }\n",
       "\n",
       "    .dataframe thead th {\n",
       "        text-align: right;\n",
       "    }\n",
       "</style>\n",
       "<table border=\"1\" class=\"dataframe\">\n",
       "  <thead>\n",
       "    <tr style=\"text-align: right;\">\n",
       "      <th></th>\n",
       "      <th>Area</th>\n",
       "      <th>Perimeter</th>\n",
       "      <th>Compactness</th>\n",
       "      <th>Kernel.Length</th>\n",
       "      <th>Kernel.Width</th>\n",
       "      <th>Asymmetry.Coeff</th>\n",
       "      <th>Kernel.Groove</th>\n",
       "      <th>Type</th>\n",
       "    </tr>\n",
       "  </thead>\n",
       "  <tbody>\n",
       "    <tr>\n",
       "      <th>0</th>\n",
       "      <td>12.26</td>\n",
       "      <td>13.60</td>\n",
       "      <td>0.8333</td>\n",
       "      <td>5.408</td>\n",
       "      <td>2.833</td>\n",
       "      <td>4.756</td>\n",
       "      <td>5.360</td>\n",
       "      <td>3</td>\n",
       "    </tr>\n",
       "    <tr>\n",
       "      <th>1</th>\n",
       "      <td>19.18</td>\n",
       "      <td>16.63</td>\n",
       "      <td>0.8717</td>\n",
       "      <td>6.369</td>\n",
       "      <td>3.681</td>\n",
       "      <td>3.357</td>\n",
       "      <td>6.229</td>\n",
       "      <td>2</td>\n",
       "    </tr>\n",
       "    <tr>\n",
       "      <th>2</th>\n",
       "      <td>13.32</td>\n",
       "      <td>13.94</td>\n",
       "      <td>0.8613</td>\n",
       "      <td>5.541</td>\n",
       "      <td>3.073</td>\n",
       "      <td>7.035</td>\n",
       "      <td>5.440</td>\n",
       "      <td>3</td>\n",
       "    </tr>\n",
       "    <tr>\n",
       "      <th>3</th>\n",
       "      <td>19.13</td>\n",
       "      <td>16.31</td>\n",
       "      <td>0.9035</td>\n",
       "      <td>6.183</td>\n",
       "      <td>3.902</td>\n",
       "      <td>2.109</td>\n",
       "      <td>5.924</td>\n",
       "      <td>2</td>\n",
       "    </tr>\n",
       "    <tr>\n",
       "      <th>4</th>\n",
       "      <td>11.75</td>\n",
       "      <td>13.52</td>\n",
       "      <td>0.8082</td>\n",
       "      <td>5.444</td>\n",
       "      <td>2.678</td>\n",
       "      <td>4.378</td>\n",
       "      <td>5.310</td>\n",
       "      <td>3</td>\n",
       "    </tr>\n",
       "  </tbody>\n",
       "</table>\n",
       "</div>"
      ],
      "text/plain": [
       "    Area  Perimeter  Compactness  Kernel.Length  Kernel.Width  \\\n",
       "0  12.26      13.60       0.8333          5.408         2.833   \n",
       "1  19.18      16.63       0.8717          6.369         3.681   \n",
       "2  13.32      13.94       0.8613          5.541         3.073   \n",
       "3  19.13      16.31       0.9035          6.183         3.902   \n",
       "4  11.75      13.52       0.8082          5.444         2.678   \n",
       "\n",
       "   Asymmetry.Coeff  Kernel.Groove  Type  \n",
       "0            4.756          5.360     3  \n",
       "1            3.357          6.229     2  \n",
       "2            7.035          5.440     3  \n",
       "3            2.109          5.924     2  \n",
       "4            4.378          5.310     3  "
      ]
     },
     "execution_count": 3,
     "metadata": {},
     "output_type": "execute_result"
    }
   ],
   "source": [
    "df =pd.read_csv(\"seeds.csv\")\n",
    "df.head()"
   ]
  },
  {
   "cell_type": "markdown",
   "metadata": {},
   "source": [
    "- Split the data into the matrix of independent variables (i.e) except the column **Type**  as numpy ndarray, save it in variable X and the dependent variable **Type** in variable y as numpy ndarray."
   ]
  },
  {
   "cell_type": "code",
   "execution_count": 4,
   "metadata": {},
   "outputs": [],
   "source": [
    "# split into input and output columns\n",
    "X, y = df.values[:, :-1], df.values[:, -1]\n",
    "#print(type(X),type(y))\n",
    "#print(type(X[0]),type(y[0]))"
   ]
  },
  {
   "cell_type": "markdown",
   "metadata": {},
   "source": [
    "- Ensure that all the data (i.e) **X** are floating point values.\n",
    "- Encode all the strings in the variable **y** to integer and fit transform it."
   ]
  },
  {
   "cell_type": "code",
   "execution_count": 5,
   "metadata": {},
   "outputs": [],
   "source": [
    "# ensure all data are floating point values\n",
    "X = X.astype('float32')\n",
    "#X=X/255.0\n",
    "# encode strings to integer\n",
    "y = LabelEncoder().fit_transform(y)\n",
    "#print(type(X),type(y))\n",
    "#print(type(X[0]),type(y[0]))\n"
   ]
  },
  {
   "cell_type": "markdown",
   "metadata": {},
   "source": [
    "- Split the data **X**,**y** with the train_test_split function of sklearn with parameters test_size=0.33 and random_state=RANDOM_SEED."
   ]
  },
  {
   "cell_type": "code",
   "execution_count": 6,
   "metadata": {},
   "outputs": [],
   "source": [
    "# split into train and test datasets\n",
    "X_train, X_test, y_train, y_test = train_test_split(X, y, test_size=0.33,random_state=40)"
   ]
  },
  {
   "cell_type": "markdown",
   "metadata": {},
   "source": [
    "- Determine the number of input features and save it in variable **n_features**."
   ]
  },
  {
   "cell_type": "code",
   "execution_count": 7,
   "metadata": {},
   "outputs": [],
   "source": [
    "# determine the number of input features\n",
    "n_features = X_train.shape[1]"
   ]
  },
  {
   "cell_type": "markdown",
   "metadata": {},
   "source": [
    "### Define Model\n",
    "\n",
    "Construct a fully-connected network structure defined using dense class\n",
    "- Create a sequential model\n",
    "- The model expects rows of data with input features variables (the input_shape=n_features argument)\n",
    "- The first hidden layer has 22 nodes and uses the relu activation function.\n",
    "- The second hidden layer has 11 nodes and uses the relu activation function.\n",
    "- The output layer has 3 node and uses the softmax activation function."
   ]
  },
  {
   "cell_type": "code",
   "execution_count": 8,
   "metadata": {},
   "outputs": [],
   "source": [
    "# define model\n",
    "model = Sequential()\n",
    "model.add(Dense(22, activation='relu', input_shape=(n_features,)))\n",
    "model.add(Dense(11, activation='relu'))\n",
    "model.add(Dense(3, activation='softmax'))\n",
    "\n",
    "\n",
    "\n"
   ]
  },
  {
   "cell_type": "markdown",
   "metadata": {},
   "source": [
    "### Compile Model\n",
    "- While comipling the model pass the following parameters -\n",
    "                    \n",
    "           -optimizer as Adam\n",
    "           -loss as sparse categorical cross entropy \n",
    "           -metrics as accuracy"
   ]
  },
  {
   "cell_type": "code",
   "execution_count": 9,
   "metadata": {},
   "outputs": [],
   "source": [
    "# compile the model\n",
    "model.compile(optimizer='adam', loss='sparse_categorical_crossentropy', metrics=['accuracy'])"
   ]
  },
  {
   "cell_type": "markdown",
   "metadata": {},
   "source": [
    "### Fit the model\n",
    "- fit the model with X_train, y_train, epochs=150, batch_size=32,verbose=0."
   ]
  },
  {
   "cell_type": "code",
   "execution_count": 10,
   "metadata": {
    "scrolled": true
   },
   "outputs": [
    {
     "data": {
      "text/plain": [
       "<tensorflow.python.keras.callbacks.History at 0x7f19c831c9e8>"
      ]
     },
     "execution_count": 10,
     "metadata": {},
     "output_type": "execute_result"
    }
   ],
   "source": [
    "# fit the model\n",
    "model.fit(X_train, y_train, epochs=150, batch_size=32, verbose=0)"
   ]
  },
  {
   "cell_type": "markdown",
   "metadata": {},
   "source": [
    "### Predict model\n",
    "- Perform prediction on the test data (i.e) on **X_test** and save the predictions in the variable **y_pred**."
   ]
  },
  {
   "cell_type": "code",
   "execution_count": 11,
   "metadata": {},
   "outputs": [],
   "source": [
    "y_pred =model.predict( X_test)\n",
    "#y_pred[:5]"
   ]
  },
  {
   "cell_type": "markdown",
   "metadata": {},
   "source": [
    "### Run the below cell to convert the predictions to argmax (i.e) to return the indices of the maximum values along each axis"
   ]
  },
  {
   "cell_type": "code",
   "execution_count": 12,
   "metadata": {},
   "outputs": [],
   "source": [
    "y_pred1=[]\n",
    "for i in range(len(y_pred)):\n",
    "    y_pred1.append(argmax(y_pred[i]))\n",
    "\n",
    "#y_pred1[:5]\n"
   ]
  },
  {
   "cell_type": "markdown",
   "metadata": {},
   "source": [
    "- Calculate the accuracy score on the variables **y_test** and **y_pred1** using the accuracy_score function in sklearn and save it in variable **acc**."
   ]
  },
  {
   "cell_type": "code",
   "execution_count": 13,
   "metadata": {
    "scrolled": true
   },
   "outputs": [
    {
     "name": "stdout",
     "output_type": "stream",
     "text": [
      "Accuracy Score: 0.803 \n"
     ]
    }
   ],
   "source": [
    "acc = accuracy_score(y_test,y_pred1)\n",
    "print('Accuracy Score: %.3f ' % acc)"
   ]
  },
  {
   "cell_type": "markdown",
   "metadata": {},
   "source": [
    "- Calculate the F1 score on the variables **y_test** and **y_pred1** using the f1_score function in sklearn with average as weighted and save it in variable **f1**."
   ]
  },
  {
   "cell_type": "code",
   "execution_count": 14,
   "metadata": {},
   "outputs": [
    {
     "name": "stdout",
     "output_type": "stream",
     "text": [
      "F1 Score: 0.803 \n"
     ]
    }
   ],
   "source": [
    "f1 =f1_score(y_test,y_pred1,average='weighted')\n",
    "print('F1 Score: %.3f ' % f1)"
   ]
  },
  {
   "cell_type": "markdown",
   "metadata": {},
   "source": [
    "### Run the below cell to save the results for validation."
   ]
  },
  {
   "cell_type": "code",
   "execution_count": 15,
   "metadata": {},
   "outputs": [],
   "source": [
    "with open(\"Accuracy.txt\", \"w\") as text_file:\n",
    "        acc=str(acc)\n",
    "        text_file.write(acc)\n",
    "with open(\"F1.txt\", \"w\") as text_file:\n",
    "        f1=str(f1)\n",
    "        text_file.write(f1)\n",
    "# serialize model to JSON\n",
    "model_json = model.to_json()\n",
    "with open(\"model.json\", \"w\") as json_file:\n",
    "    json_file.write(model_json)"
   ]
  },
  {
   "cell_type": "code",
   "execution_count": null,
   "metadata": {},
   "outputs": [],
   "source": []
  }
 ],
 "metadata": {
  "kernelspec": {
   "display_name": "Python 3",
   "language": "python",
   "name": "python3"
  },
  "language_info": {
   "codemirror_mode": {
    "name": "ipython",
    "version": 3
   },
   "file_extension": ".py",
   "mimetype": "text/x-python",
   "name": "python",
   "nbconvert_exporter": "python",
   "pygments_lexer": "ipython3",
   "version": "3.5.2"
  }
 },
 "nbformat": 4,
 "nbformat_minor": 2
}
